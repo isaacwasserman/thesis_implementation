{
 "cells": [
  {
   "cell_type": "code",
   "execution_count": 2,
   "metadata": {},
   "outputs": [
    {
     "name": "stderr",
     "output_type": "stream",
     "text": [
      "/Users/isaac/miniforge3/envs/pytorch/lib/python3.10/site-packages/tqdm/auto.py:22: TqdmWarning: IProgress not found. Please update jupyter and ipywidgets. See https://ipywidgets.readthedocs.io/en/stable/user_install.html\n",
      "  from .autonotebook import tqdm as notebook_tqdm\n"
     ]
    }
   ],
   "source": [
    "from GNEMS.GNEMS import GNEMS_segment\n",
    "from PIL import Image\n",
    "from PIL.PngImagePlugin import PngInfo\n",
    "import numpy as np\n",
    "import matplotlib.pyplot as plt\n",
    "from skimage.segmentation import mark_boundaries\n",
    "from skimage.color import label2rgb\n",
    "from glob import glob\n",
    "from tqdm import tqdm\n",
    "import time"
   ]
  },
  {
   "cell_type": "code",
   "execution_count": 4,
   "metadata": {},
   "outputs": [
    {
     "name": "stderr",
     "output_type": "stream",
     "text": [
      "100%|██████████| 256/256 [10:17<00:00,  2.41s/it]\n",
      " 14%|█▍        | 176/1280 [08:29<53:16,  2.90s/it]  \n"
     ]
    },
    {
     "ename": "KeyboardInterrupt",
     "evalue": "",
     "output_type": "error",
     "traceback": [
      "\u001b[0;31m---------------------------------------------------------------------------\u001b[0m",
      "\u001b[0;31mKeyboardInterrupt\u001b[0m                         Traceback (most recent call last)",
      "Cell \u001b[0;32mIn[4], line 31\u001b[0m\n\u001b[1;32m     29\u001b[0m \u001b[39mfor\u001b[39;00m \u001b[39mid\u001b[39m \u001b[39min\u001b[39;00m tqdm(test_ids):\n\u001b[1;32m     30\u001b[0m     path \u001b[39m=\u001b[39m \u001b[39mf\u001b[39m\u001b[39m\"\u001b[39m\u001b[39mdatasets/noise/\u001b[39m\u001b[39m{\u001b[39;00m\u001b[39mid\u001b[39m\u001b[39m}\u001b[39;00m\u001b[39m.png\u001b[39m\u001b[39m\"\u001b[39m\n\u001b[0;32m---> 31\u001b[0m     segment_and_save(path)\n\u001b[1;32m     33\u001b[0m \u001b[39mwith\u001b[39;00m \u001b[39mopen\u001b[39m(\u001b[39m\"\u001b[39m\u001b[39mdatasets/texture/test_ids.txt\u001b[39m\u001b[39m\"\u001b[39m, \u001b[39m\"\u001b[39m\u001b[39mr\u001b[39m\u001b[39m\"\u001b[39m) \u001b[39mas\u001b[39;00m f:\n\u001b[1;32m     34\u001b[0m     test_ids \u001b[39m=\u001b[39m [line\u001b[39m.\u001b[39mstrip() \u001b[39mfor\u001b[39;00m line \u001b[39min\u001b[39;00m f\u001b[39m.\u001b[39mreadlines()]\n",
      "Cell \u001b[0;32mIn[4], line 15\u001b[0m, in \u001b[0;36msegment_and_save\u001b[0;34m(path)\u001b[0m\n\u001b[1;32m     13\u001b[0m im \u001b[39m=\u001b[39m np\u001b[39m.\u001b[39marray(Image\u001b[39m.\u001b[39mopen(path)\u001b[39m.\u001b[39mconvert(\u001b[39m\"\u001b[39m\u001b[39mL\u001b[39m\u001b[39m\"\u001b[39m))\n\u001b[1;32m     14\u001b[0m d \u001b[39m=\u001b[39m \u001b[39m16\u001b[39m\n\u001b[0;32m---> 15\u001b[0m seg \u001b[39m=\u001b[39m GNEMS_segment(im, d\u001b[39m=\u001b[39;49md, iterations\u001b[39m=\u001b[39;49m\u001b[39m50\u001b[39;49m, prediction_stride\u001b[39m=\u001b[39;49m\u001b[39m8\u001b[39;49m, show_progress\u001b[39m=\u001b[39;49m\u001b[39mFalse\u001b[39;49;00m)\n\u001b[1;32m     16\u001b[0m category \u001b[39m=\u001b[39m path\u001b[39m.\u001b[39msplit(\u001b[39m\"\u001b[39m\u001b[39m/\u001b[39m\u001b[39m\"\u001b[39m)[\u001b[39m1\u001b[39m]\n\u001b[1;32m     17\u001b[0m Image\u001b[39m.\u001b[39mfromarray(seg)\u001b[39m.\u001b[39mconvert(\u001b[39m\"\u001b[39m\u001b[39mL\u001b[39m\u001b[39m\"\u001b[39m)\u001b[39m.\u001b[39msave(\u001b[39mf\u001b[39m\u001b[39m\"\u001b[39m\u001b[39mresults/\u001b[39m\u001b[39m{\u001b[39;00mmethod_name\u001b[39m}\u001b[39;00m\u001b[39m/\u001b[39m\u001b[39m{\u001b[39;00mcategory\u001b[39m}\u001b[39;00m\u001b[39m/\u001b[39m\u001b[39m{\u001b[39;00m\u001b[39mid\u001b[39m\u001b[39m}\u001b[39;00m\u001b[39m.png\u001b[39m\u001b[39m\"\u001b[39m)\n",
      "File \u001b[0;32m~/Desktop/Thesis/Second Semester/thesis_implementation/GNEMS/GNEMS.py:424\u001b[0m, in \u001b[0;36mGNEMS_segment\u001b[0;34m(image, d, n_filters, dropout, lambda_, lr, iterations, subset_size, prediction_stride, seed, show_progress)\u001b[0m\n\u001b[1;32m    417\u001b[0m size \u001b[39m=\u001b[39m image\u001b[39m.\u001b[39mshape[:\u001b[39m2\u001b[39m]\n\u001b[1;32m    418\u001b[0m segmentor \u001b[39m=\u001b[39m GraphicallyGuidedEMSegmentor(\n\u001b[1;32m    419\u001b[0m             d\u001b[39m=\u001b[39md, n_filters\u001b[39m=\u001b[39mn_filters, dropout\u001b[39m=\u001b[39mdropout,\n\u001b[1;32m    420\u001b[0m             lambda_\u001b[39m=\u001b[39mlambda_, size\u001b[39m=\u001b[39msize, lr\u001b[39m=\u001b[39mlr,\n\u001b[1;32m    421\u001b[0m             iterations\u001b[39m=\u001b[39miterations, subset_size\u001b[39m=\u001b[39msubset_size, prediction_stride\u001b[39m=\u001b[39mprediction_stride,\n\u001b[1;32m    422\u001b[0m             seed\u001b[39m=\u001b[39mseed\n\u001b[1;32m    423\u001b[0m         )\n\u001b[0;32m--> 424\u001b[0m segmentor\u001b[39m.\u001b[39;49mfit(image)\n\u001b[1;32m    425\u001b[0m segmentation \u001b[39m=\u001b[39m segmentor\u001b[39m.\u001b[39mpredict(show_progress\u001b[39m=\u001b[39mshow_progress)\n\u001b[1;32m    426\u001b[0m \u001b[39mreturn\u001b[39;00m segmentation\n",
      "File \u001b[0;32m~/Desktop/Thesis/Second Semester/thesis_implementation/GNEMS/GNEMS.py:328\u001b[0m, in \u001b[0;36mGraphicallyGuidedEMSegmentor.fit\u001b[0;34m(self, image)\u001b[0m\n\u001b[1;32m    325\u001b[0m optimizer\u001b[39m.\u001b[39mstep()\n\u001b[1;32m    327\u001b[0m \u001b[39m# update y_intermediate\u001b[39;00m\n\u001b[0;32m--> 328\u001b[0m probabilities \u001b[39m=\u001b[39m \u001b[39mself\u001b[39;49m\u001b[39m.\u001b[39;49mnet(X)\u001b[39m.\u001b[39;49mdetach()\u001b[39m.\u001b[39;49msqueeze(\u001b[39m1\u001b[39;49m)\u001b[39m.\u001b[39;49mcpu()\u001b[39m.\u001b[39mnumpy()\n\u001b[1;32m    329\u001b[0m graph_start \u001b[39m=\u001b[39m time()\n\u001b[1;32m    330\u001b[0m partition, g \u001b[39m=\u001b[39m graph_cut(\u001b[39mself\u001b[39m\u001b[39m.\u001b[39md, probabilities, \u001b[39mself\u001b[39m\u001b[39m.\u001b[39mlambda_)\n",
      "\u001b[0;31mKeyboardInterrupt\u001b[0m: "
     ]
    }
   ],
   "source": [
    "method_name = f\"GNEMS_alternate_{time.time()}\"\n",
    "!mkdir results/{method_name}\n",
    "!mkdir results/{method_name}/noise\n",
    "!mkdir results/{method_name}/noise/0.5\n",
    "!mkdir results/{method_name}/noise/1.0\n",
    "!mkdir results/{method_name}/noise/2.0\n",
    "!mkdir results/{method_name}/noise/4.0\n",
    "!mkdir results/{method_name}/noise/8.0\n",
    "!mkdir results/{method_name}/clouds\n",
    "!mkdir results/{method_name}/texture\n",
    "\n",
    "def segment_and_save(path):\n",
    "    im = np.array(Image.open(path).convert(\"L\"))\n",
    "    d = 16\n",
    "    seg = GNEMS_segment(im, d=d, iterations=50, prediction_stride=8, show_progress=False)\n",
    "    category = path.split(\"/\")[1]\n",
    "    Image.fromarray(seg).convert(\"L\").save(f\"results/{method_name}/{category}/{id}.png\")\n",
    "\n",
    "with open(\"datasets/clouds/test_ids.txt\", \"r\") as f:\n",
    "    test_ids = [line.strip() for line in f.readlines()]\n",
    "\n",
    "for id in tqdm(test_ids):\n",
    "    path = f\"datasets/clouds/images/{id}.png\"\n",
    "    segment_and_save(path)\n",
    "\n",
    "with open(\"datasets/noise/test_ids.txt\", \"r\") as f:\n",
    "    test_ids = [line.strip() for line in f.readlines()]\n",
    "\n",
    "for id in tqdm(test_ids):\n",
    "    path = f\"datasets/noise/{id}.png\"\n",
    "    segment_and_save(path)\n",
    "\n",
    "with open(\"datasets/texture/test_ids.txt\", \"r\") as f:\n",
    "    test_ids = [line.strip() for line in f.readlines()]\n",
    "\n",
    "for id in tqdm(test_ids):\n",
    "    path = f\"datasets/texture/images/{id}.png\"\n",
    "    segment_and_save(path)"
   ]
  },
  {
   "cell_type": "code",
   "execution_count": null,
   "metadata": {},
   "outputs": [],
   "source": []
  }
 ],
 "metadata": {
  "kernelspec": {
   "display_name": "pytorch",
   "language": "python",
   "name": "python3"
  },
  "language_info": {
   "codemirror_mode": {
    "name": "ipython",
    "version": 3
   },
   "file_extension": ".py",
   "mimetype": "text/x-python",
   "name": "python",
   "nbconvert_exporter": "python",
   "pygments_lexer": "ipython3",
   "version": "3.10.9"
  },
  "orig_nbformat": 4
 },
 "nbformat": 4,
 "nbformat_minor": 2
}
