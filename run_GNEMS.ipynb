{
 "cells": [
  {
   "cell_type": "code",
   "execution_count": null,
   "metadata": {},
   "outputs": [],
   "source": [
    "!pip install igraph\n",
    "!pip install scikit-image==0.20.0"
   ]
  },
  {
   "cell_type": "code",
   "execution_count": 2,
   "metadata": {},
   "outputs": [
    {
     "name": "stderr",
     "output_type": "stream",
     "text": [
      "/home/ubuntu/.local/lib/python3.8/site-packages/pandas/core/computation/expressions.py:20: UserWarning: Pandas requires version '2.7.3' or newer of 'numexpr' (version '2.7.1' currently installed).\n",
      "  from pandas.core.computation.check import NUMEXPR_INSTALLED\n"
     ]
    }
   ],
   "source": [
    "from GNEMS.GNEMS import GNEMS_segment\n",
    "from PIL import Image\n",
    "from PIL.PngImagePlugin import PngInfo\n",
    "import numpy as np\n",
    "import matplotlib.pyplot as plt\n",
    "from skimage.segmentation import mark_boundaries\n",
    "from skimage.color import label2rgb\n",
    "from glob import glob\n",
    "from tqdm import tqdm\n",
    "import time\n",
    "import threading"
   ]
  },
  {
   "cell_type": "code",
   "execution_count": 1,
   "metadata": {},
   "outputs": [
    {
     "name": "stdout",
     "output_type": "stream",
     "text": [
      "Sun Apr  2 22:14:04 2023       \n",
      "+-----------------------------------------------------------------------------+\n",
      "| NVIDIA-SMI 515.65.01    Driver Version: 515.65.01    CUDA Version: 11.7     |\n",
      "|-------------------------------+----------------------+----------------------+\n",
      "| GPU  Name        Persistence-M| Bus-Id        Disp.A | Volatile Uncorr. ECC |\n",
      "| Fan  Temp  Perf  Pwr:Usage/Cap|         Memory-Usage | GPU-Util  Compute M. |\n",
      "|                               |                      |               MIG M. |\n",
      "|===============================+======================+======================|\n",
      "|   0  NVIDIA A10          On   | 00000000:06:00.0 Off |                    0 |\n",
      "|  0%   65C    P0    87W / 150W |      0MiB / 23028MiB |    100%      Default |\n",
      "|                               |                      |                  N/A |\n",
      "+-------------------------------+----------------------+----------------------+\n",
      "                                                                               \n",
      "+-----------------------------------------------------------------------------+\n",
      "| Processes:                                                                  |\n",
      "|  GPU   GI   CI        PID   Type   Process name                  GPU Memory |\n",
      "|        ID   ID                                                   Usage      |\n",
      "|=============================================================================|\n",
      "|  No running processes found                                                 |\n",
      "+-----------------------------------------------------------------------------+\n"
     ]
    }
   ],
   "source": [
    "!nvidia-smi"
   ]
  },
  {
   "cell_type": "code",
   "execution_count": 5,
   "metadata": {},
   "outputs": [
    {
     "name": "stdout",
     "output_type": "stream",
     "text": [
      "Segmenting clouds dataset...\n"
     ]
    },
    {
     "name": "stderr",
     "output_type": "stream",
     "text": [
      "100%|██████████| 256/256 [00:52<00:00,  4.88it/s]\n"
     ]
    },
    {
     "name": "stdout",
     "output_type": "stream",
     "text": [
      "Segmenting noise dataset...\n"
     ]
    },
    {
     "name": "stderr",
     "output_type": "stream",
     "text": [
      "100%|██████████| 1280/1280 [04:20<00:00,  4.92it/s]\n"
     ]
    },
    {
     "name": "stdout",
     "output_type": "stream",
     "text": [
      "Segmenting texture dataset...\n"
     ]
    },
    {
     "name": "stderr",
     "output_type": "stream",
     "text": [
      "100%|██████████| 768/768 [02:35<00:00,  4.94it/s]\n"
     ]
    }
   ],
   "source": [
    "method_name = f\"GNEMS_alternate_{time.time()}\"\n",
    "!mkdir results/{method_name}\n",
    "!mkdir results/{method_name}/noise\n",
    "!mkdir results/{method_name}/noise/0.5\n",
    "!mkdir results/{method_name}/noise/1.0\n",
    "!mkdir results/{method_name}/noise/2.0\n",
    "!mkdir results/{method_name}/noise/4.0\n",
    "!mkdir results/{method_name}/noise/8.0\n",
    "!mkdir results/{method_name}/clouds\n",
    "!mkdir results/{method_name}/texture\n",
    "\n",
    "def segment_and_save(path, id, bar=None):\n",
    "    im = np.array(Image.open(path).convert(\"L\"))\n",
    "    d = 16\n",
    "    seg = GNEMS_segment(im, d=d, iterations=50, prediction_stride=8, show_progress=False)\n",
    "    category = path.split(\"/\")[1]\n",
    "    Image.fromarray(seg).convert(\"L\").save(f\"results/{method_name}/{category}/{id}.png\")\n",
    "    bar.update(1)\n",
    "\n",
    "print(\"Segmenting clouds dataset...\")\n",
    "with open(\"datasets/clouds/test_ids.txt\", \"r\") as f:\n",
    "    test_ids = [line.strip() for line in f.readlines()]\n",
    "\n",
    "threads = []\n",
    "with tqdm(total = len(test_ids)) as pbar:\n",
    "    for id in test_ids:\n",
    "        path = f\"datasets/clouds/images/{id}.png\"\n",
    "        t = threading.Thread(target=segment_and_save, args=(path,id,pbar))\n",
    "        while len(threading.enumerate()) >= 64:\n",
    "            time.sleep(1)\n",
    "        t.start()\n",
    "        threads.append(t)\n",
    "    for t in threads:\n",
    "        t.join()\n",
    "\n",
    "with open(\"datasets/noise/test_ids.txt\", \"r\") as f:\n",
    "    test_ids = [line.strip() for line in f.readlines()]\n",
    "\n",
    "print(\"Segmenting noise dataset...\")\n",
    "threads = []\n",
    "with tqdm(total = len(test_ids)) as pbar:\n",
    "    for id in test_ids:\n",
    "        path = f\"datasets/noise/{id}.png\"\n",
    "        t = threading.Thread(target=segment_and_save, args=(path,id,pbar))\n",
    "        while len(threading.enumerate()) >= 64:\n",
    "            time.sleep(1)\n",
    "        t.start()\n",
    "        threads.append(t)\n",
    "    for t in threads:\n",
    "        t.join()\n",
    "\n",
    "print(\"Segmenting texture dataset...\")\n",
    "with open(\"datasets/texture/test_ids.txt\", \"r\") as f:\n",
    "    test_ids = [line.strip() for line in f.readlines()]\n",
    "\n",
    "threads = []\n",
    "with tqdm(total = len(test_ids)) as pbar:\n",
    "    for id in test_ids:\n",
    "        path = f\"datasets/texture/images/{id}.png\"\n",
    "        t = threading.Thread(target=segment_and_save, args=(path,id,pbar))\n",
    "        while len(threading.enumerate()) >= 64:\n",
    "            time.sleep(1)\n",
    "        t.start()\n",
    "        threads.append(t)\n",
    "    for t in threads:\n",
    "        t.join()"
   ]
  },
  {
   "cell_type": "code",
   "execution_count": 4,
   "metadata": {},
   "outputs": [
    {
     "name": "stdout",
     "output_type": "stream",
     "text": [
      "GNEMS_alternate_1680473732.0023267\n"
     ]
    }
   ],
   "source": [
    "print(method_name)"
   ]
  },
  {
   "cell_type": "code",
   "execution_count": null,
   "metadata": {},
   "outputs": [],
   "source": []
  }
 ],
 "metadata": {
  "kernelspec": {
   "display_name": "pytorch",
   "language": "python",
   "name": "python3"
  },
  "language_info": {
   "codemirror_mode": {
    "name": "ipython",
    "version": 3
   },
   "file_extension": ".py",
   "mimetype": "text/x-python",
   "name": "python",
   "nbconvert_exporter": "python",
   "pygments_lexer": "ipython3",
   "version": "3.8.10"
  },
  "orig_nbformat": 4
 },
 "nbformat": 4,
 "nbformat_minor": 2
}
