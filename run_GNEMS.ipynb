{
 "cells": [
  {
   "cell_type": "code",
   "execution_count": null,
   "metadata": {},
   "outputs": [],
   "source": [
    "!pip install igraph\n",
    "!pip install scikit-image==0.20.0"
   ]
  },
  {
   "cell_type": "code",
   "execution_count": 2,
   "metadata": {},
   "outputs": [
    {
     "name": "stderr",
     "output_type": "stream",
     "text": [
      "/home/ubuntu/.local/lib/python3.8/site-packages/pandas/core/computation/expressions.py:20: UserWarning: Pandas requires version '2.7.3' or newer of 'numexpr' (version '2.7.1' currently installed).\n",
      "  from pandas.core.computation.check import NUMEXPR_INSTALLED\n"
     ]
    }
   ],
   "source": [
    "from GNEMS.GNEMS import GNEMS_segment\n",
    "from PIL import Image\n",
    "from PIL.PngImagePlugin import PngInfo\n",
    "import numpy as np\n",
    "import matplotlib.pyplot as plt\n",
    "from skimage.segmentation import mark_boundaries\n",
    "from skimage.color import label2rgb\n",
    "from glob import glob\n",
    "from tqdm import tqdm\n",
    "import time\n",
    "import threading\n",
    "import json\n",
    "import os"
   ]
  },
  {
   "cell_type": "code",
   "execution_count": 3,
   "metadata": {},
   "outputs": [],
   "source": [
    "def run_tests(hyperparams, label=None, max_threads=8):\n",
    "    if label is None:\n",
    "        method_name = f\"GNEMS_alternate_{time.time()}\"\n",
    "    else:\n",
    "        method_name = f\"GNEMS_{label}\"\n",
    "\n",
    "    assert not os.path.exists(f\"results/{method_name}\"), \"Directory already exists!\"\n",
    "\n",
    "    !mkdir results/{method_name}\n",
    "    !mkdir results/{method_name}/noise\n",
    "    !mkdir results/{method_name}/noise/0.5\n",
    "    !mkdir results/{method_name}/noise/1.0\n",
    "    !mkdir results/{method_name}/noise/2.0\n",
    "    !mkdir results/{method_name}/noise/4.0\n",
    "    !mkdir results/{method_name}/noise/8.0\n",
    "    !mkdir results/{method_name}/clouds\n",
    "    !mkdir results/{method_name}/texture\n",
    "\n",
    "    with open(f\"results/{method_name}/hyperparams.json\", \"w\") as f:\n",
    "        json.dump(hyperparams, f)\n",
    "\n",
    "    def segment_and_save(path, id, bar=None):\n",
    "        im = np.array(Image.open(path).convert(\"L\"))\n",
    "        d = hyperparams[\"d\"]\n",
    "        iterations = hyperparams[\"iterations\"]\n",
    "        prediction_stride = hyperparams[\"prediction_stride\"]\n",
    "        lambda_ = hyperparams[\"lambda_\"]\n",
    "        slic_segments = hyperparams[\"slic_segments\"]\n",
    "        sigma = hyperparams[\"sigma\"]\n",
    "        seg = GNEMS_segment(im, d=d, lambda_=lambda_, iterations=iterations, prediction_stride=prediction_stride, slic_segments=slic_segments, sigma=sigma, show_progress=False)\n",
    "        category = path.split(\"/\")[1]\n",
    "        Image.fromarray(seg).convert(\"L\").save(f\"results/{method_name}/{category}/{id}.png\")\n",
    "        bar.update(1)\n",
    "\n",
    "    print(\"Segmenting clouds dataset...\")\n",
    "    with open(\"datasets/clouds/test_ids.txt\", \"r\") as f:\n",
    "        test_ids = [line.strip() for line in f.readlines()]\n",
    "\n",
    "    threads = []\n",
    "    with tqdm(total = len(test_ids)) as pbar:\n",
    "        for id in test_ids:\n",
    "            path = f\"datasets/clouds/images/{id}.png\"\n",
    "            t = threading.Thread(target=segment_and_save, args=(path,id,pbar))\n",
    "            t.start()\n",
    "            threads.append(t)\n",
    "            while len(threading.enumerate()) >= max_threads:\n",
    "                time.sleep(1)\n",
    "        for t in threads:\n",
    "            t.join()\n",
    "\n",
    "    with open(\"datasets/noise/test_ids.txt\", \"r\") as f:\n",
    "        test_ids = [line.strip() for line in f.readlines()]\n",
    "\n",
    "    print(\"Segmenting noise dataset...\")\n",
    "    threads = []\n",
    "    with tqdm(total = len(test_ids)) as pbar:\n",
    "        for id in test_ids:\n",
    "            path = f\"datasets/noise/{id}.png\"\n",
    "            t = threading.Thread(target=segment_and_save, args=(path,id,pbar))\n",
    "            t.start()\n",
    "            threads.append(t)\n",
    "            while len(threading.enumerate()) >= max_threads:\n",
    "                time.sleep(1)\n",
    "        for t in threads:\n",
    "            t.join()\n",
    "\n",
    "    print(\"Segmenting texture dataset...\")\n",
    "    with open(\"datasets/texture/test_ids.txt\", \"r\") as f:\n",
    "        test_ids = [line.strip() for line in f.readlines()]\n",
    "\n",
    "    threads = []\n",
    "    with tqdm(total = len(test_ids)) as pbar:\n",
    "        for id in test_ids:\n",
    "            path = f\"datasets/texture/images/{id}.png\"\n",
    "            t = threading.Thread(target=segment_and_save, args=(path,id,pbar))\n",
    "            t.start()\n",
    "            threads.append(t)\n",
    "            while len(threading.enumerate()) >= max_threads:\n",
    "                time.sleep(1)\n",
    "        for t in threads:\n",
    "            t.join()"
   ]
  },
  {
   "cell_type": "code",
   "execution_count": 17,
   "metadata": {},
   "outputs": [
    {
     "name": "stdout",
     "output_type": "stream",
     "text": [
      "Segmenting clouds dataset...\n"
     ]
    },
    {
     "name": "stderr",
     "output_type": "stream",
     "text": [
      "100%|██████████| 256/256 [00:51<00:00,  4.97it/s]\n"
     ]
    },
    {
     "name": "stdout",
     "output_type": "stream",
     "text": [
      "Segmenting noise dataset...\n"
     ]
    },
    {
     "name": "stderr",
     "output_type": "stream",
     "text": [
      "100%|██████████| 1280/1280 [04:17<00:00,  4.98it/s]\n"
     ]
    },
    {
     "name": "stdout",
     "output_type": "stream",
     "text": [
      "Segmenting texture dataset...\n"
     ]
    },
    {
     "name": "stderr",
     "output_type": "stream",
     "text": [
      "100%|██████████| 768/768 [02:34<00:00,  4.97it/s]\n"
     ]
    },
    {
     "name": "stdout",
     "output_type": "stream",
     "text": [
      "Segmenting clouds dataset...\n"
     ]
    },
    {
     "name": "stderr",
     "output_type": "stream",
     "text": [
      "100%|██████████| 256/256 [00:51<00:00,  4.96it/s]\n"
     ]
    },
    {
     "name": "stdout",
     "output_type": "stream",
     "text": [
      "Segmenting noise dataset...\n"
     ]
    },
    {
     "name": "stderr",
     "output_type": "stream",
     "text": [
      "100%|██████████| 1280/1280 [04:17<00:00,  4.98it/s]\n"
     ]
    },
    {
     "name": "stdout",
     "output_type": "stream",
     "text": [
      "Segmenting texture dataset...\n"
     ]
    },
    {
     "name": "stderr",
     "output_type": "stream",
     "text": [
      "100%|██████████| 768/768 [02:34<00:00,  4.98it/s]\n"
     ]
    }
   ],
   "source": [
    "hyperparams = {\n",
    "    \"d\": 16,\n",
    "    \"iterations\": 50,\n",
    "    \"prediction_stride\": 8,\n",
    "    \"lambda_\": 0.2,\n",
    "    \"n_filters\": 32,\n",
    "    \"slic_segments\": 200,\n",
    "    \"sigma\": 3\n",
    "}\n",
    "run_tests(hyperparams, label=\"hyperset4\", max_threads=16)\n",
    "\n",
    "hyperparams = {\n",
    "    \"d\": 16,\n",
    "    \"iterations\": 50,\n",
    "    \"prediction_stride\": 8,\n",
    "    \"lambda_\": 0.2,\n",
    "    \"n_filters\": 32,\n",
    "    \"slic_segments\": 100,\n",
    "    \"sigma\": 6\n",
    "}\n",
    "run_tests(hyperparams, label=\"hyperset4\", max_threads=16)"
   ]
  },
  {
   "cell_type": "code",
   "execution_count": 15,
   "metadata": {},
   "outputs": [
    {
     "name": "stdout",
     "output_type": "stream",
     "text": [
      "results/GNEMS_more_slic_segments\n",
      "2309\n",
      "results/GNEMS_lower_stride\n",
      "2309\n",
      "results/GNEMS_higher_lambda\n",
      "2309\n",
      "results/GNEMS_lower_sigma\n",
      "2309\n",
      "results/GNEMS_higher_stride\n",
      "2309\n",
      "results/GNEMS_larger_patches\n",
      "2309\n",
      "results/GNEMS_higher_sigma\n",
      "2309\n",
      "results/GNEMS_smaller_patches\n",
      "2309\n",
      "results/GNEMS_lower_lambda\n",
      "2309\n",
      "results/GNEMS_hyperset1\n",
      "2309\n",
      "results/GNEMS_less_filters\n",
      "2309\n",
      "results/GNEMS_less_slic_segments\n",
      "2309\n",
      "results/GNEMS_more_filters\n",
      "2309\n"
     ]
    }
   ],
   "source": [
    "trial_dirs = list(glob(\"results/GNEMS_*\"))\n",
    "for dir in trial_dirs:\n",
    "    print(dir)\n",
    "    res_files = list(glob(f\"{dir}/*/*\")) + list(glob(f\"{dir}/*/*/*\"))\n",
    "    print(len(res_files))"
   ]
  },
  {
   "cell_type": "code",
   "execution_count": null,
   "metadata": {},
   "outputs": [],
   "source": []
  }
 ],
 "metadata": {
  "kernelspec": {
   "display_name": "pytorch",
   "language": "python",
   "name": "python3"
  },
  "language_info": {
   "codemirror_mode": {
    "name": "ipython",
    "version": 3
   },
   "file_extension": ".py",
   "mimetype": "text/x-python",
   "name": "python",
   "nbconvert_exporter": "python",
   "pygments_lexer": "ipython3",
   "version": "3.8.10"
  },
  "orig_nbformat": 4
 },
 "nbformat": 4,
 "nbformat_minor": 2
}
