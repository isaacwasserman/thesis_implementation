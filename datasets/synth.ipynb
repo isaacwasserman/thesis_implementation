{
 "cells": [
  {
   "cell_type": "code",
   "execution_count": 2,
   "metadata": {},
   "outputs": [
    {
     "name": "stderr",
     "output_type": "stream",
     "text": [
      "/Users/isaac/miniforge3/envs/pytorch/lib/python3.10/site-packages/tqdm/auto.py:22: TqdmWarning: IProgress not found. Please update jupyter and ipywidgets. See https://ipywidgets.readthedocs.io/en/stable/user_install.html\n",
      "  from .autonotebook import tqdm as notebook_tqdm\n"
     ]
    }
   ],
   "source": [
    "import numpy as np\n",
    "import matplotlib.pyplot as plt\n",
    "from glob import glob \n",
    "from PIL import Image\n",
    "import cv2\n",
    "from skimage.filters import threshold_otsu\n",
    "import torch\n",
    "import pyperlin\n",
    "import os"
   ]
  },
  {
   "cell_type": "code",
   "execution_count": 3,
   "metadata": {},
   "outputs": [],
   "source": [
    "n = 1024\n",
    "shape = (n, 512, 512)\n",
    "l = 2\n",
    "p = 0.4\n",
    "\n",
    "resolutions = [(l**i, l**i) for i in range(1,7)]\n",
    "factors = [p**i for i in range(6)]\n",
    "\n",
    "generator = torch.Generator()\n",
    "generator.manual_seed(0)\n",
    "\n",
    "fp = pyperlin.FractalPerlin2D(shape, resolutions, factors, generator=generator)\n",
    "noise = fp()\n",
    "noise = noise.numpy()\n",
    "noise = (noise > threshold_otsu(noise)).astype(int)\n",
    "for i,generation in enumerate(noise):\n",
    "    plt.imsave(f\"noise/gt/{i:04d}.png\", generation, cmap=\"gray\")\n",
    "    plt.imsave(f\"texture/gt/{i:04d}.png\", generation, cmap=\"gray\")\n",
    "gts = noise"
   ]
  },
  {
   "cell_type": "code",
   "execution_count": 5,
   "metadata": {},
   "outputs": [],
   "source": [
    "# Noise test images\n",
    "noise_levels = [0.5, 1, 2, 4, 8]\n",
    "noise_levels = [4, 8]\n",
    "for im_num, gt in enumerate(gts):\n",
    "    for noise_level in noise_levels:\n",
    "        noise = np.random.normal(0, noise_level, gt.shape)\n",
    "        noisy = gt + noise\n",
    "        noisy -= noisy.min()\n",
    "        noisy /= noisy.max()\n",
    "        noisy *= 255\n",
    "        noisy = Image.fromarray(noisy).convert(\"L\")\n",
    "        noisy.save(f'noise/{noise_level:.1f}/{im_num:04d}.png')"
   ]
  },
  {
   "cell_type": "code",
   "execution_count": 6,
   "metadata": {},
   "outputs": [],
   "source": [
    "# Texture test images\n",
    "def preprocess_texture(texture):\n",
    "    desired_crop = (10, 10, 10, 10)\n",
    "    # center crop image\n",
    "    texture = texture[desired_crop[0]:-desired_crop[1], desired_crop[2]:-desired_crop[3]]\n",
    "    im = Image.fromarray(texture).convert(\"L\")\n",
    "    im = im.resize((512, 512), resample=Image.BILINEAR)\n",
    "    return np.array(im)\n",
    "\n",
    "texture_pairs = [(\"1.1.12\",\"1.1.13\"),(\"1.2.02\",\"1.2.04\"),(\"1.2.07\",\"1.2.09\")]\n",
    "for im_num, gt in enumerate(gts):\n",
    "    for pair_num, texture_pair in enumerate(texture_pairs):\n",
    "        texture1 = plt.imread(f\"../textures/{texture_pair[0]}.tiff\")\n",
    "        texture2 = plt.imread(f\"../textures/{texture_pair[1]}.tiff\")\n",
    "        texture1 = preprocess_texture(texture1)\n",
    "        texture2 = preprocess_texture(texture2)\n",
    "        mask = cv2.GaussianBlur(gt.astype(float), (5, 5), 0)\n",
    "        blended = (texture1 * mask) + (texture2 * (1-mask))\n",
    "        blended = Image.fromarray(blended).convert(\"L\")\n",
    "        blended.save(f'texture/images/{im_num}_{pair_num}.png')"
   ]
  },
  {
   "cell_type": "code",
   "execution_count": 32,
   "metadata": {},
   "outputs": [],
   "source": [
    "np.random.seed(0)\n",
    "cloud_ids = [os.path.basename(path).split(\".\")[0] for path in glob(\"clouds/images/*.png\")]\n",
    "k = 256\n",
    "\n",
    "mini_test_ids = [\"0003\", \"0029\", \"0053\"]\n",
    "test_ids = mini_test_ids + list(np.random.choice(cloud_ids, k + 3, replace=False))\n",
    "test_ids = list(dict.fromkeys(test_ids))[:k]\n",
    "\n",
    "train_ids = [id for id in cloud_ids if id not in test_ids]\n",
    "\n",
    "# write train and test ids to file\n",
    "with open(\"clouds/train_ids.txt\", \"w\") as f:\n",
    "    f.write(\"\\n\".join(train_ids))\n",
    "with open(\"clouds/minitest_ids.txt\", \"w\") as f:\n",
    "    f.write(\"\\n\".join(mini_test_ids))\n",
    "with open(\"clouds/test_ids.txt\", \"w\") as f:\n",
    "    f.write(\"\\n\".join(test_ids))\n"
   ]
  }
 ],
 "metadata": {
  "kernelspec": {
   "display_name": "pytorch",
   "language": "python",
   "name": "python3"
  },
  "language_info": {
   "codemirror_mode": {
    "name": "ipython",
    "version": 3
   },
   "file_extension": ".py",
   "mimetype": "text/x-python",
   "name": "python",
   "nbconvert_exporter": "python",
   "pygments_lexer": "ipython3",
   "version": "3.10.9"
  },
  "orig_nbformat": 4
 },
 "nbformat": 4,
 "nbformat_minor": 2
}
