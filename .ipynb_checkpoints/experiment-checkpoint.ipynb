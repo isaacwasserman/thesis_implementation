{
 "cells": [
  {
   "cell_type": "code",
   "execution_count": 1,
   "metadata": {},
   "outputs": [
    {
     "name": "stderr",
     "output_type": "stream",
     "text": [
      "/home/ubuntu/.local/lib/python3.8/site-packages/pandas/core/computation/expressions.py:20: UserWarning: Pandas requires version '2.7.3' or newer of 'numexpr' (version '2.7.1' currently installed).\n",
      "  from pandas.core.computation.check import NUMEXPR_INSTALLED\n",
      "wandb: Logging into wandb.ai. (Learn how to deploy a W&B server locally: https://wandb.me/wandb-server)\n",
      "wandb: You can find your API key in your browser here: https://wandb.ai/authorize\n",
      "wandb: Paste an API key from your profile and hit enter, or press ctrl+c to quit: "
     ]
    },
    {
     "name": "stdin",
     "output_type": "stream",
     "text": [
      " ········\n"
     ]
    },
    {
     "name": "stderr",
     "output_type": "stream",
     "text": [
      "wandb: Appending key for api.wandb.ai to your netrc file: /home/ubuntu/.netrc\n"
     ]
    },
    {
     "data": {
      "text/plain": [
       "True"
      ]
     },
     "execution_count": 1,
     "metadata": {},
     "output_type": "execute_result"
    }
   ],
   "source": [
    "import os\n",
    "import numpy as np\n",
    "import pprint\n",
    "import glob\n",
    "import matplotlib.pyplot as plt\n",
    "from PIL import Image\n",
    "import skimage.util as util\n",
    "import torch\n",
    "import torch.nn as nn\n",
    "import torch.nn.functional as F\n",
    "import igraph as ig\n",
    "from igraph import Graph\n",
    "import sklearn.metrics as metrics\n",
    "import warnings\n",
    "import time\n",
    "from tqdm import tqdm\n",
    "import skimage.filters\n",
    "import sklearn.metrics\n",
    "import seaborn as sns\n",
    "import pandas as pd\n",
    "from skimage import data, segmentation, color\n",
    "from skimage.segmentation import slic, mark_boundaries\n",
    "from sklearn.metrics import accuracy_score, precision_score, recall_score, f1_score, confusion_matrix, classification_report\n",
    "warnings.filterwarnings(\"ignore\")\n",
    "from time import time\n",
    "\n",
    "device = \"cuda\" if torch.cuda.is_available() else (\"mps\" if torch.backends.mps.is_available() else \"cpu\")\n",
    "\n",
    "import wandb\n",
    "wandb.login()"
   ]
  },
  {
   "cell_type": "code",
   "execution_count": 5,
   "metadata": {},
   "outputs": [],
   "source": [
    "def show(image):\n",
    "    plt.imshow(image, cmap='gray')\n",
    "    plt.axis('off')\n",
    "    plt.show()\n",
    "\n",
    "def generate_square(size=(224, 224), fore_back_ratio=0.5, noise=0.5, seed=None):\n",
    "    if seed is not None:\n",
    "        np.random.seed(seed)\n",
    "    square_width = int(np.sqrt(fore_back_ratio * size[0] * size[1]))\n",
    "    square_position_x = np.random.randint(0, size[0] - square_width)\n",
    "    square_position_y = np.random.randint(0, size[1] - square_width)\n",
    "    image = np.ones(size)\n",
    "    image[square_position_x:square_position_x+square_width, square_position_y:square_position_y+square_width] = 0\n",
    "    return image\n",
    "\n",
    "def add_noise(image, amount=0.5, seed=None):\n",
    "    image = util.random_noise(image, mode='gaussian', seed=seed, clip=False, var=amount)\n",
    "    image = image / np.max(image)\n",
    "    return image\n",
    "\n",
    "def generate_image(size=(224, 224), fore_back_ratio=0.5, noise=0.5, seed=None):\n",
    "    if seed is not None:\n",
    "        np.random.seed(seed)\n",
    "    image = generate_square(size, fore_back_ratio, noise, seed)\n",
    "    pixelwise_labels = image.copy()\n",
    "    image = add_noise(image, amount=noise, seed=seed)\n",
    "    return image, pixelwise_labels\n",
    "\n",
    "def tile(image, pixelwise_labels=None, method='grid', d=10):\n",
    "    if method == 'grid':\n",
    "        if image.shape[0] % d != 0 or image.shape[1] % d != 0:\n",
    "            raise ValueError('image shape must be divisible by d')\n",
    "        else:\n",
    "            tile_width = (image.shape[0] // d)\n",
    "            tile_height = (image.shape[1] // d)\n",
    "            image_tensor = torch.tensor(image, dtype=torch.float32)\n",
    "            if len(image_tensor.shape) < 3:\n",
    "                image_tensor = image_tensor.unsqueeze(2)\n",
    "            tiles = image_tensor.unfold(0, tile_width, tile_height).unfold(1, tile_width, tile_height)\n",
    "            tiles = tiles.permute(0, 1, 3, 4, 2)\n",
    "            tiles = tiles.reshape(tiles.shape[0] * tiles.shape[1], tile_width, tile_height, tiles.shape[4])\n",
    "\n",
    "            if pixelwise_labels is not None:\n",
    "                pixelwise_labels_tensor = torch.tensor(pixelwise_labels)\n",
    "                if len(pixelwise_labels_tensor.shape) < 3:\n",
    "                    image_tensor = image_tensor.unsqueeze(2)\n",
    "                pixelwise_labels_tiles = pixelwise_labels_tensor.unfold(0, tile_width, tile_height).unfold(1, tile_width, tile_height)\n",
    "                pixelwise_labels_tiles = pixelwise_labels_tiles.reshape(pixelwise_labels_tiles.shape[0] * pixelwise_labels_tiles.shape[1], tile_width * tile_height)\n",
    "                tilewise_labels = pixelwise_labels_tiles.mean(axis=1).round()\n",
    "                return tiles, tilewise_labels\n",
    "            else:\n",
    "                return tiles\n",
    "    else:\n",
    "        raise ValueError('method not implemented')\n",
    "    \n",
    "\n",
    "def arbitrary_labels(n, proportion=0.5, seed=None):\n",
    "    if seed is not None:\n",
    "        torch.random.manual_seed(seed)\n",
    "    randoms = torch.rand(n)\n",
    "    labels = torch.zeros(n)\n",
    "    labels[randoms > proportion] = 1\n",
    "    return labels\n",
    "\n",
    "def generate_tiles(size=(224, 224), fore_back_ratio=0.5, noise=0.5, d=8, seed=None):\n",
    "    if seed is not None:\n",
    "        np.random.seed(seed)\n",
    "    image, pixelwise_labels = generate_image(size, fore_back_ratio, noise, seed)\n",
    "    tiles, tilewise_labels = tile(image, pixelwise_labels, d=d)\n",
    "    return tiles, tilewise_labels, arbitrary_labels(tilewise_labels.shape[0], seed=seed)\n",
    "\n",
    "def visualize_tiles(tiles, tilewise_labels=None, show_labels=True):\n",
    "    d = int(np.sqrt(tiles.shape[0]))\n",
    "    fig, axs = plt.subplots(d,d, figsize=(d//2,d//2))\n",
    "    for i in range(d):\n",
    "        for j in range(d):\n",
    "            axs[i, j].imshow(tiles[i * d + j], cmap='gray', vmin=0, vmax=1)\n",
    "            if show_labels and tilewise_labels is not None:\n",
    "                axs[i, j].text(2, 2, f'{tilewise_labels[i * d + j]:.2f}', color='white', fontsize=6, bbox=dict(fill=True, facecolor='purple', linewidth=0), verticalalignment='top', horizontalalignment='left')\n",
    "            axs[i, j].axis('off')\n",
    "\n",
    "    plt.subplots_adjust(wspace=0.05, hspace=0.05)\n",
    "    plt.show()\n",
    "\n",
    "\n",
    "def graph_cut(d, probabilities, lambda_):\n",
    "    g = Graph.Lattice(dim=[d, d], circular=False)\n",
    "    g.add_vertices(2)\n",
    "    weights = np.zeros(g.ecount() + (2*d*d))\n",
    "    s = d*d\n",
    "    t = s + 1\n",
    "    st_edges = np.array([(i, s) for i in range(d*d)] + [(i, t) for i in range(d*d)])\n",
    "    g.add_edges(st_edges)\n",
    "    weights[:-2*d*d] = lambda_\n",
    "    scaled_probabilities = (probabilities - probabilities.min()) / (probabilities.max() - probabilities.min())\n",
    "    weights[-2*d*d:-1*d*d] = scaled_probabilities\n",
    "    weights[-1*d*d:] = 1 - scaled_probabilities\n",
    "    g.es['weight'] = weights\n",
    "\n",
    "    colors = np.concatenate((np.zeros(d*d), np.array([1,2])))\n",
    "    g.vs[\"color\"] = [\"gray\" if c == 0 else (\"black\" if c == 1 else \"white\") for c in colors]\n",
    "\n",
    "    # assignments = np.array(g.maxflow(s, t, \"weight\").membership[:-2])\n",
    "\n",
    "    mc = g.st_mincut(s, t, \"weight\")\n",
    "    bg = mc.partition[0]\n",
    "    bg.remove(s)\n",
    "    assignments = np.zeros(d*d)\n",
    "    assignments[bg] = 1\n",
    "    return assignments, g\n",
    "\n",
    "def visualize_graph(g, d, labels=None):\n",
    "    if labels is None:\n",
    "        colors = np.concatenate((np.zeros(d*d), np.array([2,3])))\n",
    "        g.vs[\"color\"] = [\"gray\" if c == 0 else (\"black\" if c == 2 else \"white\") for c in colors]\n",
    "    else:\n",
    "        colors = np.concatenate((labels.astype(int), np.array([1,0])))\n",
    "        g.vs[\"color\"] = [\"black\" if c == 0 else \"white\" for c in colors]\n",
    "\n",
    "    fig, ax = plt.subplots(figsize=(8,8))\n",
    "    layout = np.zeros((d*d + 2, 2))\n",
    "    for i in range(d*d + 2):\n",
    "        if i < d*d:\n",
    "            layout[i, 0] = (i % d)\n",
    "            layout[i, 1] = -1 * (i // d)\n",
    "        elif i == d*d:\n",
    "            layout[i, 1] = 2\n",
    "            layout[i, 0] = (d - 1) / 2\n",
    "        elif i == d*d + 1:\n",
    "            layout[i, 1] = -1 * (d + 1)\n",
    "            layout[i, 0] = (d - 1) / 2\n",
    "\n",
    "    n_edges = g.ecount()\n",
    "    n_lattice_edges = n_edges - 2*d*d\n",
    "            \n",
    "    ig.plot(g, target=ax, edge_width=g.es[\"weight\"], layout=layout)\n",
    "    plt.show()\n",
    "\n",
    "def auto_threshold(probabilities):\n",
    "    t = skimage.filters.threshold_otsu(probabilities)\n",
    "    return t\n",
    "\n",
    "def evaluate(pixelwise_probabilities, pixelwise_labels, allow_inverse=True, plot=True):\n",
    "    pixelwise_predictions = pixelwise_probabilities\n",
    "    pixelwise_predictions = pixelwise_predictions.astype(int).reshape(-1)\n",
    "    pixelwise_labels = pixelwise_labels.astype(int).reshape(-1)\n",
    "    accuracy = accuracy_score(pixelwise_labels, pixelwise_predictions)\n",
    "    if allow_inverse and accuracy < 0.5:\n",
    "        pixelwise_predictions = 1 - pixelwise_predictions\n",
    "        accuracy = accuracy_score(pixelwise_labels, pixelwise_predictions)\n",
    "    report = classification_report(pixelwise_labels, pixelwise_predictions, output_dict=True)\n",
    "    conf_matrix = confusion_matrix(pixelwise_labels, pixelwise_predictions)\n",
    "    if plot:\n",
    "        fig, axs = plt.subplots(1, 3, figsize=(12, 3))\n",
    "        sns.heatmap(conf_matrix, ax=axs[0], annot=True, fmt=\"d\", cmap=plt.cm.Blues)\n",
    "        axs[0].set_title('Confusion Matrix')\n",
    "        sns.heatmap(pd.DataFrame(report).iloc[:-1, :].T, ax=axs[1], annot=True)\n",
    "        axs[1].set_title('Classification Report')\n",
    "        illustration = pixelwise_labels.reshape(pixelwise_probabilities.shape[0], pixelwise_probabilities.shape[1]) != pixelwise_predictions.reshape(pixelwise_probabilities.shape[0], pixelwise_probabilities.shape[1])\n",
    "        axs[2].imshow(illustration)\n",
    "        axs[2].set_title('Incorrect Predictions')\n",
    "        plt.tight_layout()\n",
    "        plt.show()\n",
    "    else:\n",
    "        return accuracy, report, conf_matrix\n",
    "\n",
    "class TileDS(torch.utils.data.Dataset):\n",
    "    def __init__(self, X):\n",
    "        self.X = X\n",
    "    def __len__(self):\n",
    "        return len(self.X)\n",
    "    def __getitem__(self, idx):\n",
    "        return self.X[idx]\n",
    "\n",
    "class CNN(nn.Module):\n",
    "    def __init__(self, image_size=(32,32), n_filters=16, n_channels=1, dropout=0.2):\n",
    "        super(CNN, self).__init__()\n",
    "        self.conv1 = nn.Conv2d(n_channels, n_filters, 3, padding=1)\n",
    "        self.BN1 = nn.BatchNorm2d(n_filters)\n",
    "        self.dropout1 = nn.Dropout(dropout)\n",
    "        self.conv2 = nn.Conv2d(n_filters, n_filters, 3, padding=1)\n",
    "        self.BN2 = nn.BatchNorm2d(n_filters)\n",
    "        self.dropout2 = nn.Dropout(dropout)\n",
    "        self.conv3 = nn.Conv2d(n_filters, 1, 3, padding=1)\n",
    "        self.BN3 = nn.BatchNorm2d(1)\n",
    "        self.dropout3 = nn.Dropout(dropout)\n",
    "        self.output = nn.Linear(image_size[0] * image_size[1], 1)\n",
    "\n",
    "    def forward(self, x):\n",
    "        x = self.conv1(x)\n",
    "        x = self.BN1(x)\n",
    "        x = F.relu(x)\n",
    "        x = self.dropout1(x)\n",
    "        x = self.conv2(x)\n",
    "        x = self.BN2(x)\n",
    "        x = F.relu(x)\n",
    "        x = self.dropout2(x)\n",
    "        x = self.conv3(x)\n",
    "        x = self.BN3(x)\n",
    "        x = F.relu(x)\n",
    "        x = self.dropout3(x)\n",
    "        x = torch.flatten(x, 1)\n",
    "        x = self.output(x)\n",
    "        x = torch.sigmoid(x)\n",
    "        return x\n",
    "\n",
    "\n",
    "class GraphicallyGuidedEMSegmentor:\n",
    "    def __init__(self, d=16, n_filters=16, dropout=0.2, lambda_=0.3, size=(512, 512), lr=0.001, iterations=100, subset_size=0.5, prediction_stride=1, seed=0):\n",
    "        self.d = d\n",
    "        self.n_filters = n_filters\n",
    "        self.dropout = dropout\n",
    "        self.lambda_ = lambda_\n",
    "        self.size = size\n",
    "        self.tile_size = (size[0] // d, size[1] // d)\n",
    "        self.lr = lr\n",
    "        self.iterations = iterations\n",
    "        self.subset_size = subset_size\n",
    "        self.prediction_stride = prediction_stride\n",
    "        self.seed = seed\n",
    "        self.net = None\n",
    "        self.losses = []\n",
    "        self.intermediate_partitions = []\n",
    "        self.intermediate_probabilities = []\n",
    "        self.intermediate_graphs = []\n",
    "\n",
    "    def fit(self, image):\n",
    "        self.losses = []\n",
    "        self.intermediate_partitions = []\n",
    "        self.intermediate_probabilities = []\n",
    "        self.intermediate_graphs = []\n",
    "        self.image = image\n",
    "        \n",
    "        X = tile(image, d=self.d).type(torch.float32).to(device).permute(0, 3, 1, 2)\n",
    "        y_initial = arbitrary_labels(self.d**2, seed=self.seed).type(torch.float32).to(device).unsqueeze(1)\n",
    "        torch.manual_seed(self.seed)\n",
    "        self.net = CNN(image_size=self.tile_size, n_filters=self.n_filters, n_channels=X.shape[1], dropout=self.dropout).to(device)\n",
    "        \n",
    "        # train CNN\n",
    "        y_intermediate = y_initial.clone().detach()\n",
    "        criterion = nn.BCELoss()\n",
    "        optimizer = torch.optim.Adam(self.net.parameters(), lr=self.lr)\n",
    "\n",
    "        itertimes = []\n",
    "        graphtimes = []\n",
    "        for iteration in range(self.iterations):\n",
    "            start = time()\n",
    "            # extract subset of data\n",
    "            shuffled_idx = torch.randperm(X.shape[0])\n",
    "            X_shuffled = X[shuffled_idx]\n",
    "            y_intermediate_shuffled = y_intermediate[shuffled_idx]\n",
    "            X_subset = X_shuffled[:int(self.subset_size * X.shape[0])]\n",
    "            y_intermediate_subset = y_intermediate_shuffled[:int(self.subset_size * X.shape[0])]\n",
    "\n",
    "            inputs = X_subset\n",
    "            labels = y_intermediate_subset\n",
    "            optimizer.zero_grad()\n",
    "            outputs = self.net(inputs)\n",
    "            loss = criterion(outputs, labels)\n",
    "            loss.backward()\n",
    "            optimizer.step()\n",
    "\n",
    "            # update y_intermediate\n",
    "            probabilities = self.net(X).detach().squeeze(1).cpu().numpy()\n",
    "            graph_start = time()\n",
    "            partition, g = graph_cut(self.d, probabilities, self.lambda_)\n",
    "            graphtimes.append(time() - graph_start)\n",
    "            y_intermediate = torch.Tensor(partition).type(torch.float32).to(device).unsqueeze(1)\n",
    "\n",
    "            # save intermediate results\n",
    "            self.losses.append(loss.item() / X.shape[0])\n",
    "            self.intermediate_partitions.append(partition)\n",
    "            self.intermediate_probabilities.append(probabilities)\n",
    "            self.intermediate_graphs.append(g)\n",
    "            itertimes.append(time() - start)\n",
    "        print(\"Average training time per iteration:\", np.array(itertimes).mean())\n",
    "        print(\"Average graph cut time:\", np.array(graphtimes).mean())\n",
    "\n",
    "    def predict(self):\n",
    "        stride = self.prediction_stride\n",
    "        image = self.image\n",
    "        image_tensor = torch.tensor(image, dtype=torch.float32)\n",
    "        all_tiles = image_tensor.unfold(0, self.tile_size[0], stride).unfold(1, self.tile_size[1], stride).reshape(-1, 1, self.tile_size[0], self.tile_size[1]).to(device)\n",
    "\n",
    "        all_tiles_ds = TileDS(all_tiles)\n",
    "\n",
    "        # set up dataloaders\n",
    "        batch_size = 4096\n",
    "        if device == \"cuda\":\n",
    "            batch_size = 16384\n",
    "        loader = torch.utils.data.DataLoader(all_tiles_ds, batch_size=batch_size, shuffle=False)\n",
    "        n_batches = len(loader)\n",
    "\n",
    "        with torch.no_grad():\n",
    "            all_tiles_predictions = torch.zeros((len(all_tiles_ds))).to(device)\n",
    "            for batch_i, batch in tqdm(enumerate(loader), total=n_batches):\n",
    "                batch_predictions = self.net(batch)\n",
    "                all_tiles_predictions[batch_i*loader.batch_size:(batch_i+1)*loader.batch_size] = batch_predictions.squeeze(1)\n",
    "\n",
    "        predictions = all_tiles_predictions.reshape(((self.size[0] - self.tile_size[0]) // stride) + 1, ((self.size[1] - self.tile_size[1]) // stride) + 1)\n",
    "        pixelwise_probabilities = torch.nn.functional.interpolate(predictions.unsqueeze(0).unsqueeze(0), size=image.shape, mode='bilinear', align_corners=True)\n",
    "        pixelwise_probabilities -= pixelwise_probabilities.min()\n",
    "        pixelwise_probabilities /= pixelwise_probabilities.max()\n",
    "        pixelwise_probabilities *= 255\n",
    "        pixelwise_probabilities = pixelwise_probabilities.squeeze(0).squeeze(0).cpu().numpy().astype(np.uint8)\n",
    "        grayscale = False\n",
    "        if 3 not in image.shape:\n",
    "            grayscale = True\n",
    "            image = np.repeat(image[:, :, np.newaxis], 3, axis=2)\n",
    "        segments = slic(image, n_segments=100, sigma=3)\n",
    "        segmentation = color.label2rgb(segments, pixelwise_probabilities, kind='avg', bg_label=0)\n",
    "        segmentation = segmentation > auto_threshold(segmentation)\n",
    "        if grayscale:\n",
    "            segmentation = segmentation[:, :, 0]\n",
    "        return segmentation\n",
    "    \n",
    "def generate_training_report(segmentor):\n",
    "    fig, axs = plt.subplots(1, 4, figsize=(10, 3))\n",
    "    axs[0].set_title('Image')\n",
    "    axs[0].axis('off')\n",
    "    axs[0].imshow(segmentor.image, cmap='gray')\n",
    "    axs[1].set_title('Network Loss')\n",
    "    axs[1].set_xticks([])\n",
    "    axs[1].set_yticks([])\n",
    "    axs[1].plot(segmentor.losses)\n",
    "    axs[2].set_title('Final Network Probabilities')\n",
    "    axs[2].axis('off')\n",
    "    axs[2].imshow(segmentor.intermediate_probabilities[-1].reshape(segmentor.d, segmentor.d))\n",
    "    axs[3].set_title('Final Graph Partition')\n",
    "    axs[3].axis('off')\n",
    "    axs[3].imshow(segmentor.intermediate_partitions[-1].reshape(segmentor.d, segmentor.d))\n",
    "    plt.tight_layout()\n",
    "    plt.show()\n",
    "\n",
    "def generate_complex_image(size=(224, 224), noise=0, seed=None):\n",
    "    if seed is not None:\n",
    "        np.random.seed(seed)\n",
    "    mask_paths = glob.glob(\"blobs/*.png\")\n",
    "    texture_paths = glob.glob(\"textures/*.tiff\")\n",
    "    mask_path = np.random.choice(mask_paths)\n",
    "    texture1_path, texture2_path = np.random.choice(texture_paths, size=2)\n",
    "    mask = np.array(Image.open(mask_path).resize(size, resample=Image.NEAREST))\n",
    "    texture1 = np.array(Image.open(texture1_path).resize(size, resample=Image.NEAREST))\n",
    "    texture2 = np.array(Image.open(texture2_path).resize(size, resample=Image.NEAREST))\n",
    "    image = np.where(mask > 0, texture1, texture2) / 255\n",
    "    labels = mask > 0\n",
    "    if noise > 0:\n",
    "        image = add_noise(image, amount=noise, seed=seed)\n",
    "    return image, labels"
   ]
  },
  {
   "cell_type": "code",
   "execution_count": 6,
   "metadata": {},
   "outputs": [],
   "source": [
    "sweep_config = {\n",
    "    'method': 'random',\n",
    "    'metric': {\n",
    "        'name': 'Avg. F1 Score',\n",
    "        'goal': 'maximize'\n",
    "    },\n",
    "    'parameters': {\n",
    "        'd': {\n",
    "            'values': [8, 16, 32, 64]\n",
    "        },\n",
    "        'n_filters': {\n",
    "            'values': [16, 32, 64, 128]\n",
    "        },\n",
    "        'dropout': {\n",
    "            'values': [0.1, 0.2, 0.3, 0.4, 0.5]\n",
    "        },\n",
    "        'lambda_': {\n",
    "            'values': [0.1, 0.2, 0.3, 0.4, 0.5]\n",
    "        },\n",
    "        'lr': {\n",
    "            'values': [0.0001, 0.0005, 0.001, 0.005, 0.01]\n",
    "        },\n",
    "        'iterations': {\n",
    "            'values': [100, 200, 300, 400, 500]\n",
    "        },\n",
    "        'subset_size': {\n",
    "            'values': [0.1, 0.3, 0.5, 0.7]\n",
    "        },\n",
    "        'prediction_stride': {\n",
    "            'value': 4\n",
    "        },\n",
    "        'image_size': {\n",
    "            'value': (512,512)\n",
    "        },\n",
    "        'noise': {\n",
    "            'value': 0\n",
    "        },\n",
    "        'seed': {\n",
    "            'value': 0\n",
    "        }\n",
    "    }\n",
    "}\n",
    "\n",
    "representative_test_images = [\n",
    "    \"gt_2.png_1.1.01.tiff_1.1.04.tiff\", # easy\n",
    "    \"gt_2.png_1.1.01.tiff_1.1.12.tiff\", # easy\n",
    "    \"gt_2.png_1.1.02.tiff_1.1.05.tiff\", # medium\n",
    "    \"gt_2.png_1.1.02.tiff_1.1.13.tiff\", # medium\n",
    "    \"gt_2.png_1.1.03.tiff_1.1.02.tiff\", # hard\n",
    "    \"gt_2.png_1.1.03.tiff_1.1.04.tiff\"  # hard\n",
    "]\n",
    "\n",
    "#  size=(512,512),  d=16,        fore_back_ratio=0.2,\n",
    "# noise=1,         seed=0,      iterations=200,\n",
    "# lr=0.001,        lambda_=0.2, n_filters=32,\n",
    "# subset_size=0.5, dropout=0.2,  prediction_stride=4\n",
    "\n",
    "def run_experiment(config=None):\n",
    "    with wandb.init(config=config):\n",
    "        config = wandb.config\n",
    "        f1_scores = np.zeros(len(representative_test_images))\n",
    "        for image_index, test_image_name in enumerate(representative_test_images):\n",
    "            image = np.array(Image.open(f'test_images/{test_image_name}_image.png').resize(config.image_size, resample=Image.NEAREST)) / 255\n",
    "            pixelwise_labels = np.array(Image.open(f'test_images/{test_image_name}_labels.png').resize(config.image_size, resample=Image.NEAREST)) > 0\n",
    "            segmentor = GraphicallyGuidedEMSegmentor(d=config.d, n_filters=config.n_filters, dropout=config.dropout, lambda_=config.lambda_, size=config.image_size, lr=config.lr, iterations=config.iterations, subset_size=config.subset_size, prediction_stride=config.prediction_stride, seed=config.seed)\n",
    "            segmentor.fit(image)\n",
    "            segmentation = segmentor.predict()\n",
    "            accuracy, report, conf_matrix = evaluate(pixelwise_labels, segmentation, plot=False)\n",
    "            f1_scores[image_index] = report[\"weighted avg\"][\"f1-score\"]\n",
    "        wandb.log({\"Avg. F1 Score\": f1_scores.mean()})"
   ]
  },
  {
   "cell_type": "code",
   "execution_count": 7,
   "metadata": {},
   "outputs": [
    {
     "name": "stdout",
     "output_type": "stream",
     "text": [
      "Create sweep with ID: f60ae4yq\n",
      "Sweep URL: https://wandb.ai/isaacwasserman/Graphically%20Guided%20Neural%20EM%20for%20Unsupervised%20Image%20Segmentation/sweeps/f60ae4yq\n"
     ]
    },
    {
     "name": "stderr",
     "output_type": "stream",
     "text": [
      "wandb: Agent Starting Run: ru14zew8 with config:\n",
      "wandb: \td: 8\n",
      "wandb: \tdropout: 0.5\n",
      "wandb: \timage_size: [512, 512]\n",
      "wandb: \titerations: 300\n",
      "wandb: \tlambda_: 0.1\n",
      "wandb: \tlr: 0.0001\n",
      "wandb: \tn_filters: 64\n",
      "wandb: \tnoise: 0\n",
      "wandb: \tprediction_stride: 4\n",
      "wandb: \tseed: 0\n",
      "wandb: \tsubset_size: 0.1\n"
     ]
    },
    {
     "data": {
      "text/html": [
       "Tracking run with wandb version 0.13.10"
      ],
      "text/plain": [
       "<IPython.core.display.HTML object>"
      ]
     },
     "metadata": {},
     "output_type": "display_data"
    },
    {
     "data": {
      "text/html": [
       "Run data is saved locally in <code>/home/ubuntu/thesis_implementation/wandb/run-20230226_021832-ru14zew8</code>"
      ],
      "text/plain": [
       "<IPython.core.display.HTML object>"
      ]
     },
     "metadata": {},
     "output_type": "display_data"
    },
    {
     "data": {
      "text/html": [
       "Syncing run <strong><a href='https://wandb.ai/isaacwasserman/Graphically%20Guided%20Neural%20EM%20for%20Unsupervised%20Image%20Segmentation/runs/ru14zew8' target=\"_blank\">dulcet-sweep-1</a></strong> to <a href='https://wandb.ai/isaacwasserman/Graphically%20Guided%20Neural%20EM%20for%20Unsupervised%20Image%20Segmentation' target=\"_blank\">Weights & Biases</a> (<a href='https://wandb.me/run' target=\"_blank\">docs</a>)<br/>Sweep page: <a href='https://wandb.ai/isaacwasserman/Graphically%20Guided%20Neural%20EM%20for%20Unsupervised%20Image%20Segmentation/sweeps/f60ae4yq' target=\"_blank\">https://wandb.ai/isaacwasserman/Graphically%20Guided%20Neural%20EM%20for%20Unsupervised%20Image%20Segmentation/sweeps/f60ae4yq</a>"
      ],
      "text/plain": [
       "<IPython.core.display.HTML object>"
      ]
     },
     "metadata": {},
     "output_type": "display_data"
    },
    {
     "data": {
      "text/html": [
       " View project at <a href='https://wandb.ai/isaacwasserman/Graphically%20Guided%20Neural%20EM%20for%20Unsupervised%20Image%20Segmentation' target=\"_blank\">https://wandb.ai/isaacwasserman/Graphically%20Guided%20Neural%20EM%20for%20Unsupervised%20Image%20Segmentation</a>"
      ],
      "text/plain": [
       "<IPython.core.display.HTML object>"
      ]
     },
     "metadata": {},
     "output_type": "display_data"
    },
    {
     "data": {
      "text/html": [
       " View sweep at <a href='https://wandb.ai/isaacwasserman/Graphically%20Guided%20Neural%20EM%20for%20Unsupervised%20Image%20Segmentation/sweeps/f60ae4yq' target=\"_blank\">https://wandb.ai/isaacwasserman/Graphically%20Guided%20Neural%20EM%20for%20Unsupervised%20Image%20Segmentation/sweeps/f60ae4yq</a>"
      ],
      "text/plain": [
       "<IPython.core.display.HTML object>"
      ]
     },
     "metadata": {},
     "output_type": "display_data"
    },
    {
     "data": {
      "text/html": [
       " View run at <a href='https://wandb.ai/isaacwasserman/Graphically%20Guided%20Neural%20EM%20for%20Unsupervised%20Image%20Segmentation/runs/ru14zew8' target=\"_blank\">https://wandb.ai/isaacwasserman/Graphically%20Guided%20Neural%20EM%20for%20Unsupervised%20Image%20Segmentation/runs/ru14zew8</a>"
      ],
      "text/plain": [
       "<IPython.core.display.HTML object>"
      ]
     },
     "metadata": {},
     "output_type": "display_data"
    },
    {
     "name": "stderr",
     "output_type": "stream",
     "text": [
      "100%|██████████| 4/4 [00:00<00:00, 11.94it/s]\n",
      "100%|██████████| 4/4 [00:00<00:00, 154.32it/s]\n",
      "100%|██████████| 4/4 [00:00<00:00, 153.70it/s]\n",
      "100%|██████████| 4/4 [00:00<00:00, 149.66it/s]\n",
      "100%|██████████| 4/4 [00:00<00:00, 154.63it/s]\n",
      "100%|██████████| 4/4 [00:00<00:00, 149.74it/s]\n"
     ]
    },
    {
     "data": {
      "text/html": [
       "Waiting for W&B process to finish... <strong style=\"color:green\">(success).</strong>"
      ],
      "text/plain": [
       "<IPython.core.display.HTML object>"
      ]
     },
     "metadata": {},
     "output_type": "display_data"
    },
    {
     "data": {
      "application/vnd.jupyter.widget-view+json": {
       "model_id": "f7a2bbb582004762bba7bd3424212935",
       "version_major": 2,
       "version_minor": 0
      },
      "text/plain": [
       "VBox(children=(Label(value='0.001 MB of 0.001 MB uploaded (0.000 MB deduped)\\r'), FloatProgress(value=1.0, max…"
      ]
     },
     "metadata": {},
     "output_type": "display_data"
    },
    {
     "data": {
      "text/html": [
       "<style>\n",
       "    table.wandb td:nth-child(1) { padding: 0 10px; text-align: left ; width: auto;} td:nth-child(2) {text-align: left ; width: 100%}\n",
       "    .wandb-row { display: flex; flex-direction: row; flex-wrap: wrap; justify-content: flex-start; width: 100% }\n",
       "    .wandb-col { display: flex; flex-direction: column; flex-basis: 100%; flex: 1; padding: 10px; }\n",
       "    </style>\n",
       "<div class=\"wandb-row\"><div class=\"wandb-col\"><h3>Run history:</h3><br/><table class=\"wandb\"><tr><td>Avg. F1 Score</td><td>▁</td></tr></table><br/></div><div class=\"wandb-col\"><h3>Run summary:</h3><br/><table class=\"wandb\"><tr><td>Avg. F1 Score</td><td>0.72082</td></tr></table><br/></div></div>"
      ],
      "text/plain": [
       "<IPython.core.display.HTML object>"
      ]
     },
     "metadata": {},
     "output_type": "display_data"
    },
    {
     "data": {
      "text/html": [
       " View run <strong style=\"color:#cdcd00\">dulcet-sweep-1</strong> at: <a href='https://wandb.ai/isaacwasserman/Graphically%20Guided%20Neural%20EM%20for%20Unsupervised%20Image%20Segmentation/runs/ru14zew8' target=\"_blank\">https://wandb.ai/isaacwasserman/Graphically%20Guided%20Neural%20EM%20for%20Unsupervised%20Image%20Segmentation/runs/ru14zew8</a><br/>Synced 5 W&B file(s), 0 media file(s), 0 artifact file(s) and 0 other file(s)"
      ],
      "text/plain": [
       "<IPython.core.display.HTML object>"
      ]
     },
     "metadata": {},
     "output_type": "display_data"
    },
    {
     "data": {
      "text/html": [
       "Find logs at: <code>./wandb/run-20230226_021832-ru14zew8/logs</code>"
      ],
      "text/plain": [
       "<IPython.core.display.HTML object>"
      ]
     },
     "metadata": {},
     "output_type": "display_data"
    },
    {
     "name": "stderr",
     "output_type": "stream",
     "text": [
      "wandb: Agent Starting Run: v16sg44y with config:\n",
      "wandb: \td: 32\n",
      "wandb: \tdropout: 0.1\n",
      "wandb: \timage_size: [512, 512]\n",
      "wandb: \titerations: 400\n",
      "wandb: \tlambda_: 0.3\n",
      "wandb: \tlr: 0.0005\n",
      "wandb: \tn_filters: 64\n",
      "wandb: \tnoise: 0\n",
      "wandb: \tprediction_stride: 4\n",
      "wandb: \tseed: 0\n",
      "wandb: \tsubset_size: 0.1\n"
     ]
    },
    {
     "data": {
      "text/html": [
       "Tracking run with wandb version 0.13.10"
      ],
      "text/plain": [
       "<IPython.core.display.HTML object>"
      ]
     },
     "metadata": {},
     "output_type": "display_data"
    },
    {
     "data": {
      "text/html": [
       "Run data is saved locally in <code>/home/ubuntu/thesis_implementation/wandb/run-20230226_021903-v16sg44y</code>"
      ],
      "text/plain": [
       "<IPython.core.display.HTML object>"
      ]
     },
     "metadata": {},
     "output_type": "display_data"
    },
    {
     "data": {
      "text/html": [
       "Syncing run <strong><a href='https://wandb.ai/isaacwasserman/Graphically%20Guided%20Neural%20EM%20for%20Unsupervised%20Image%20Segmentation/runs/v16sg44y' target=\"_blank\">fresh-sweep-2</a></strong> to <a href='https://wandb.ai/isaacwasserman/Graphically%20Guided%20Neural%20EM%20for%20Unsupervised%20Image%20Segmentation' target=\"_blank\">Weights & Biases</a> (<a href='https://wandb.me/run' target=\"_blank\">docs</a>)<br/>Sweep page: <a href='https://wandb.ai/isaacwasserman/Graphically%20Guided%20Neural%20EM%20for%20Unsupervised%20Image%20Segmentation/sweeps/f60ae4yq' target=\"_blank\">https://wandb.ai/isaacwasserman/Graphically%20Guided%20Neural%20EM%20for%20Unsupervised%20Image%20Segmentation/sweeps/f60ae4yq</a>"
      ],
      "text/plain": [
       "<IPython.core.display.HTML object>"
      ]
     },
     "metadata": {},
     "output_type": "display_data"
    },
    {
     "data": {
      "text/html": [
       " View project at <a href='https://wandb.ai/isaacwasserman/Graphically%20Guided%20Neural%20EM%20for%20Unsupervised%20Image%20Segmentation' target=\"_blank\">https://wandb.ai/isaacwasserman/Graphically%20Guided%20Neural%20EM%20for%20Unsupervised%20Image%20Segmentation</a>"
      ],
      "text/plain": [
       "<IPython.core.display.HTML object>"
      ]
     },
     "metadata": {},
     "output_type": "display_data"
    },
    {
     "data": {
      "text/html": [
       " View sweep at <a href='https://wandb.ai/isaacwasserman/Graphically%20Guided%20Neural%20EM%20for%20Unsupervised%20Image%20Segmentation/sweeps/f60ae4yq' target=\"_blank\">https://wandb.ai/isaacwasserman/Graphically%20Guided%20Neural%20EM%20for%20Unsupervised%20Image%20Segmentation/sweeps/f60ae4yq</a>"
      ],
      "text/plain": [
       "<IPython.core.display.HTML object>"
      ]
     },
     "metadata": {},
     "output_type": "display_data"
    },
    {
     "data": {
      "text/html": [
       " View run at <a href='https://wandb.ai/isaacwasserman/Graphically%20Guided%20Neural%20EM%20for%20Unsupervised%20Image%20Segmentation/runs/v16sg44y' target=\"_blank\">https://wandb.ai/isaacwasserman/Graphically%20Guided%20Neural%20EM%20for%20Unsupervised%20Image%20Segmentation/runs/v16sg44y</a>"
      ],
      "text/plain": [
       "<IPython.core.display.HTML object>"
      ]
     },
     "metadata": {},
     "output_type": "display_data"
    },
    {
     "name": "stderr",
     "output_type": "stream",
     "text": [
      "100%|██████████| 4/4 [00:00<00:00, 127.60it/s]\n",
      "100%|██████████| 4/4 [00:00<00:00, 88.52it/s]\n",
      "100%|██████████| 4/4 [00:00<00:00, 118.72it/s]\n",
      "100%|██████████| 4/4 [00:00<00:00, 120.30it/s]\n",
      "100%|██████████| 4/4 [00:00<00:00, 122.84it/s]\n",
      "100%|██████████| 4/4 [00:00<00:00, 121.41it/s]\n"
     ]
    },
    {
     "data": {
      "text/html": [
       "Waiting for W&B process to finish... <strong style=\"color:green\">(success).</strong>"
      ],
      "text/plain": [
       "<IPython.core.display.HTML object>"
      ]
     },
     "metadata": {},
     "output_type": "display_data"
    },
    {
     "data": {
      "application/vnd.jupyter.widget-view+json": {
       "model_id": "d2e611c3777c4b5693fb6c2152317a1d",
       "version_major": 2,
       "version_minor": 0
      },
      "text/plain": [
       "VBox(children=(Label(value='0.001 MB of 0.002 MB uploaded (0.000 MB deduped)\\r'), FloatProgress(value=0.416209…"
      ]
     },
     "metadata": {},
     "output_type": "display_data"
    },
    {
     "data": {
      "text/html": [
       "<style>\n",
       "    table.wandb td:nth-child(1) { padding: 0 10px; text-align: left ; width: auto;} td:nth-child(2) {text-align: left ; width: 100%}\n",
       "    .wandb-row { display: flex; flex-direction: row; flex-wrap: wrap; justify-content: flex-start; width: 100% }\n",
       "    .wandb-col { display: flex; flex-direction: column; flex-basis: 100%; flex: 1; padding: 10px; }\n",
       "    </style>\n",
       "<div class=\"wandb-row\"><div class=\"wandb-col\"><h3>Run history:</h3><br/><table class=\"wandb\"><tr><td>Avg. F1 Score</td><td>▁</td></tr></table><br/></div><div class=\"wandb-col\"><h3>Run summary:</h3><br/><table class=\"wandb\"><tr><td>Avg. F1 Score</td><td>0.63254</td></tr></table><br/></div></div>"
      ],
      "text/plain": [
       "<IPython.core.display.HTML object>"
      ]
     },
     "metadata": {},
     "output_type": "display_data"
    },
    {
     "data": {
      "text/html": [
       " View run <strong style=\"color:#cdcd00\">fresh-sweep-2</strong> at: <a href='https://wandb.ai/isaacwasserman/Graphically%20Guided%20Neural%20EM%20for%20Unsupervised%20Image%20Segmentation/runs/v16sg44y' target=\"_blank\">https://wandb.ai/isaacwasserman/Graphically%20Guided%20Neural%20EM%20for%20Unsupervised%20Image%20Segmentation/runs/v16sg44y</a><br/>Synced 5 W&B file(s), 0 media file(s), 0 artifact file(s) and 0 other file(s)"
      ],
      "text/plain": [
       "<IPython.core.display.HTML object>"
      ]
     },
     "metadata": {},
     "output_type": "display_data"
    },
    {
     "data": {
      "text/html": [
       "Find logs at: <code>./wandb/run-20230226_021903-v16sg44y/logs</code>"
      ],
      "text/plain": [
       "<IPython.core.display.HTML object>"
      ]
     },
     "metadata": {},
     "output_type": "display_data"
    },
    {
     "name": "stderr",
     "output_type": "stream",
     "text": [
      "wandb: Agent Starting Run: dyhdp9c4 with config:\n",
      "wandb: \td: 32\n",
      "wandb: \tdropout: 0.3\n",
      "wandb: \timage_size: [512, 512]\n",
      "wandb: \titerations: 500\n",
      "wandb: \tlambda_: 0.5\n",
      "wandb: \tlr: 0.001\n",
      "wandb: \tn_filters: 64\n",
      "wandb: \tnoise: 0\n",
      "wandb: \tprediction_stride: 4\n",
      "wandb: \tseed: 0\n",
      "wandb: \tsubset_size: 0.7\n"
     ]
    },
    {
     "data": {
      "text/html": [
       "Tracking run with wandb version 0.13.10"
      ],
      "text/plain": [
       "<IPython.core.display.HTML object>"
      ]
     },
     "metadata": {},
     "output_type": "display_data"
    },
    {
     "data": {
      "text/html": [
       "Run data is saved locally in <code>/home/ubuntu/thesis_implementation/wandb/run-20230226_021939-dyhdp9c4</code>"
      ],
      "text/plain": [
       "<IPython.core.display.HTML object>"
      ]
     },
     "metadata": {},
     "output_type": "display_data"
    },
    {
     "data": {
      "text/html": [
       "Syncing run <strong><a href='https://wandb.ai/isaacwasserman/Graphically%20Guided%20Neural%20EM%20for%20Unsupervised%20Image%20Segmentation/runs/dyhdp9c4' target=\"_blank\">polished-sweep-3</a></strong> to <a href='https://wandb.ai/isaacwasserman/Graphically%20Guided%20Neural%20EM%20for%20Unsupervised%20Image%20Segmentation' target=\"_blank\">Weights & Biases</a> (<a href='https://wandb.me/run' target=\"_blank\">docs</a>)<br/>Sweep page: <a href='https://wandb.ai/isaacwasserman/Graphically%20Guided%20Neural%20EM%20for%20Unsupervised%20Image%20Segmentation/sweeps/f60ae4yq' target=\"_blank\">https://wandb.ai/isaacwasserman/Graphically%20Guided%20Neural%20EM%20for%20Unsupervised%20Image%20Segmentation/sweeps/f60ae4yq</a>"
      ],
      "text/plain": [
       "<IPython.core.display.HTML object>"
      ]
     },
     "metadata": {},
     "output_type": "display_data"
    },
    {
     "data": {
      "text/html": [
       " View project at <a href='https://wandb.ai/isaacwasserman/Graphically%20Guided%20Neural%20EM%20for%20Unsupervised%20Image%20Segmentation' target=\"_blank\">https://wandb.ai/isaacwasserman/Graphically%20Guided%20Neural%20EM%20for%20Unsupervised%20Image%20Segmentation</a>"
      ],
      "text/plain": [
       "<IPython.core.display.HTML object>"
      ]
     },
     "metadata": {},
     "output_type": "display_data"
    },
    {
     "data": {
      "text/html": [
       " View sweep at <a href='https://wandb.ai/isaacwasserman/Graphically%20Guided%20Neural%20EM%20for%20Unsupervised%20Image%20Segmentation/sweeps/f60ae4yq' target=\"_blank\">https://wandb.ai/isaacwasserman/Graphically%20Guided%20Neural%20EM%20for%20Unsupervised%20Image%20Segmentation/sweeps/f60ae4yq</a>"
      ],
      "text/plain": [
       "<IPython.core.display.HTML object>"
      ]
     },
     "metadata": {},
     "output_type": "display_data"
    },
    {
     "data": {
      "text/html": [
       " View run at <a href='https://wandb.ai/isaacwasserman/Graphically%20Guided%20Neural%20EM%20for%20Unsupervised%20Image%20Segmentation/runs/dyhdp9c4' target=\"_blank\">https://wandb.ai/isaacwasserman/Graphically%20Guided%20Neural%20EM%20for%20Unsupervised%20Image%20Segmentation/runs/dyhdp9c4</a>"
      ],
      "text/plain": [
       "<IPython.core.display.HTML object>"
      ]
     },
     "metadata": {},
     "output_type": "display_data"
    },
    {
     "name": "stderr",
     "output_type": "stream",
     "text": [
      "100%|██████████| 4/4 [00:00<00:00, 118.77it/s]\n",
      "100%|██████████| 4/4 [00:00<00:00, 110.69it/s]\n",
      "100%|██████████| 4/4 [00:00<00:00, 96.91it/s]\n",
      "100%|██████████| 4/4 [00:00<00:00, 91.68it/s]\n",
      "100%|██████████| 4/4 [00:00<00:00, 83.63it/s]\n",
      "100%|██████████| 4/4 [00:00<00:00, 80.11it/s]\n"
     ]
    },
    {
     "data": {
      "text/html": [
       "Waiting for W&B process to finish... <strong style=\"color:green\">(success).</strong>"
      ],
      "text/plain": [
       "<IPython.core.display.HTML object>"
      ]
     },
     "metadata": {},
     "output_type": "display_data"
    },
    {
     "data": {
      "application/vnd.jupyter.widget-view+json": {
       "model_id": "d2137c14760041e1a5b88f305380c288",
       "version_major": 2,
       "version_minor": 0
      },
      "text/plain": [
       "VBox(children=(Label(value='0.001 MB of 0.001 MB uploaded (0.000 MB deduped)\\r'), FloatProgress(value=1.0, max…"
      ]
     },
     "metadata": {},
     "output_type": "display_data"
    },
    {
     "data": {
      "text/html": [
       "<style>\n",
       "    table.wandb td:nth-child(1) { padding: 0 10px; text-align: left ; width: auto;} td:nth-child(2) {text-align: left ; width: 100%}\n",
       "    .wandb-row { display: flex; flex-direction: row; flex-wrap: wrap; justify-content: flex-start; width: 100% }\n",
       "    .wandb-col { display: flex; flex-direction: column; flex-basis: 100%; flex: 1; padding: 10px; }\n",
       "    </style>\n",
       "<div class=\"wandb-row\"><div class=\"wandb-col\"><h3>Run history:</h3><br/><table class=\"wandb\"><tr><td>Avg. F1 Score</td><td>▁</td></tr></table><br/></div><div class=\"wandb-col\"><h3>Run summary:</h3><br/><table class=\"wandb\"><tr><td>Avg. F1 Score</td><td>0.6109</td></tr></table><br/></div></div>"
      ],
      "text/plain": [
       "<IPython.core.display.HTML object>"
      ]
     },
     "metadata": {},
     "output_type": "display_data"
    },
    {
     "data": {
      "text/html": [
       " View run <strong style=\"color:#cdcd00\">polished-sweep-3</strong> at: <a href='https://wandb.ai/isaacwasserman/Graphically%20Guided%20Neural%20EM%20for%20Unsupervised%20Image%20Segmentation/runs/dyhdp9c4' target=\"_blank\">https://wandb.ai/isaacwasserman/Graphically%20Guided%20Neural%20EM%20for%20Unsupervised%20Image%20Segmentation/runs/dyhdp9c4</a><br/>Synced 5 W&B file(s), 0 media file(s), 0 artifact file(s) and 0 other file(s)"
      ],
      "text/plain": [
       "<IPython.core.display.HTML object>"
      ]
     },
     "metadata": {},
     "output_type": "display_data"
    },
    {
     "data": {
      "text/html": [
       "Find logs at: <code>./wandb/run-20230226_021939-dyhdp9c4/logs</code>"
      ],
      "text/plain": [
       "<IPython.core.display.HTML object>"
      ]
     },
     "metadata": {},
     "output_type": "display_data"
    },
    {
     "name": "stderr",
     "output_type": "stream",
     "text": [
      "wandb: Agent Starting Run: 9dpnl1lg with config:\n",
      "wandb: \td: 32\n",
      "wandb: \tdropout: 0.4\n",
      "wandb: \timage_size: [512, 512]\n",
      "wandb: \titerations: 500\n",
      "wandb: \tlambda_: 0.4\n",
      "wandb: \tlr: 0.0001\n",
      "wandb: \tn_filters: 64\n",
      "wandb: \tnoise: 0\n",
      "wandb: \tprediction_stride: 4\n",
      "wandb: \tseed: 0\n",
      "wandb: \tsubset_size: 0.1\n"
     ]
    },
    {
     "data": {
      "text/html": [
       "Tracking run with wandb version 0.13.10"
      ],
      "text/plain": [
       "<IPython.core.display.HTML object>"
      ]
     },
     "metadata": {},
     "output_type": "display_data"
    },
    {
     "data": {
      "text/html": [
       "Run data is saved locally in <code>/home/ubuntu/thesis_implementation/wandb/run-20230226_022039-9dpnl1lg</code>"
      ],
      "text/plain": [
       "<IPython.core.display.HTML object>"
      ]
     },
     "metadata": {},
     "output_type": "display_data"
    },
    {
     "data": {
      "text/html": [
       "Syncing run <strong><a href='https://wandb.ai/isaacwasserman/Graphically%20Guided%20Neural%20EM%20for%20Unsupervised%20Image%20Segmentation/runs/9dpnl1lg' target=\"_blank\">lively-sweep-4</a></strong> to <a href='https://wandb.ai/isaacwasserman/Graphically%20Guided%20Neural%20EM%20for%20Unsupervised%20Image%20Segmentation' target=\"_blank\">Weights & Biases</a> (<a href='https://wandb.me/run' target=\"_blank\">docs</a>)<br/>Sweep page: <a href='https://wandb.ai/isaacwasserman/Graphically%20Guided%20Neural%20EM%20for%20Unsupervised%20Image%20Segmentation/sweeps/f60ae4yq' target=\"_blank\">https://wandb.ai/isaacwasserman/Graphically%20Guided%20Neural%20EM%20for%20Unsupervised%20Image%20Segmentation/sweeps/f60ae4yq</a>"
      ],
      "text/plain": [
       "<IPython.core.display.HTML object>"
      ]
     },
     "metadata": {},
     "output_type": "display_data"
    },
    {
     "data": {
      "text/html": [
       " View project at <a href='https://wandb.ai/isaacwasserman/Graphically%20Guided%20Neural%20EM%20for%20Unsupervised%20Image%20Segmentation' target=\"_blank\">https://wandb.ai/isaacwasserman/Graphically%20Guided%20Neural%20EM%20for%20Unsupervised%20Image%20Segmentation</a>"
      ],
      "text/plain": [
       "<IPython.core.display.HTML object>"
      ]
     },
     "metadata": {},
     "output_type": "display_data"
    },
    {
     "data": {
      "text/html": [
       " View sweep at <a href='https://wandb.ai/isaacwasserman/Graphically%20Guided%20Neural%20EM%20for%20Unsupervised%20Image%20Segmentation/sweeps/f60ae4yq' target=\"_blank\">https://wandb.ai/isaacwasserman/Graphically%20Guided%20Neural%20EM%20for%20Unsupervised%20Image%20Segmentation/sweeps/f60ae4yq</a>"
      ],
      "text/plain": [
       "<IPython.core.display.HTML object>"
      ]
     },
     "metadata": {},
     "output_type": "display_data"
    },
    {
     "data": {
      "text/html": [
       " View run at <a href='https://wandb.ai/isaacwasserman/Graphically%20Guided%20Neural%20EM%20for%20Unsupervised%20Image%20Segmentation/runs/9dpnl1lg' target=\"_blank\">https://wandb.ai/isaacwasserman/Graphically%20Guided%20Neural%20EM%20for%20Unsupervised%20Image%20Segmentation/runs/9dpnl1lg</a>"
      ],
      "text/plain": [
       "<IPython.core.display.HTML object>"
      ]
     },
     "metadata": {},
     "output_type": "display_data"
    },
    {
     "name": "stderr",
     "output_type": "stream",
     "text": [
      "100%|██████████| 4/4 [00:00<00:00, 79.70it/s]\n",
      "100%|██████████| 4/4 [00:00<00:00, 26.28it/s]\n",
      "100%|██████████| 4/4 [00:00<00:00, 82.02it/s]\n",
      "100%|██████████| 4/4 [00:00<00:00, 82.29it/s]\n",
      "100%|██████████| 4/4 [00:00<00:00, 84.61it/s]\n",
      "100%|██████████| 4/4 [00:00<00:00, 113.72it/s]\n"
     ]
    },
    {
     "data": {
      "text/html": [
       "Waiting for W&B process to finish... <strong style=\"color:green\">(success).</strong>"
      ],
      "text/plain": [
       "<IPython.core.display.HTML object>"
      ]
     },
     "metadata": {},
     "output_type": "display_data"
    },
    {
     "data": {
      "application/vnd.jupyter.widget-view+json": {
       "model_id": "38ef1ea794a84ae5b64ff8aca67ad63e",
       "version_major": 2,
       "version_minor": 0
      },
      "text/plain": [
       "VBox(children=(Label(value='0.001 MB of 0.001 MB uploaded (0.000 MB deduped)\\r'), FloatProgress(value=1.0, max…"
      ]
     },
     "metadata": {},
     "output_type": "display_data"
    },
    {
     "data": {
      "text/html": [
       "<style>\n",
       "    table.wandb td:nth-child(1) { padding: 0 10px; text-align: left ; width: auto;} td:nth-child(2) {text-align: left ; width: 100%}\n",
       "    .wandb-row { display: flex; flex-direction: row; flex-wrap: wrap; justify-content: flex-start; width: 100% }\n",
       "    .wandb-col { display: flex; flex-direction: column; flex-basis: 100%; flex: 1; padding: 10px; }\n",
       "    </style>\n",
       "<div class=\"wandb-row\"><div class=\"wandb-col\"><h3>Run history:</h3><br/><table class=\"wandb\"><tr><td>Avg. F1 Score</td><td>▁</td></tr></table><br/></div><div class=\"wandb-col\"><h3>Run summary:</h3><br/><table class=\"wandb\"><tr><td>Avg. F1 Score</td><td>0.63603</td></tr></table><br/></div></div>"
      ],
      "text/plain": [
       "<IPython.core.display.HTML object>"
      ]
     },
     "metadata": {},
     "output_type": "display_data"
    },
    {
     "data": {
      "text/html": [
       " View run <strong style=\"color:#cdcd00\">lively-sweep-4</strong> at: <a href='https://wandb.ai/isaacwasserman/Graphically%20Guided%20Neural%20EM%20for%20Unsupervised%20Image%20Segmentation/runs/9dpnl1lg' target=\"_blank\">https://wandb.ai/isaacwasserman/Graphically%20Guided%20Neural%20EM%20for%20Unsupervised%20Image%20Segmentation/runs/9dpnl1lg</a><br/>Synced 5 W&B file(s), 0 media file(s), 0 artifact file(s) and 0 other file(s)"
      ],
      "text/plain": [
       "<IPython.core.display.HTML object>"
      ]
     },
     "metadata": {},
     "output_type": "display_data"
    },
    {
     "data": {
      "text/html": [
       "Find logs at: <code>./wandb/run-20230226_022039-9dpnl1lg/logs</code>"
      ],
      "text/plain": [
       "<IPython.core.display.HTML object>"
      ]
     },
     "metadata": {},
     "output_type": "display_data"
    },
    {
     "name": "stderr",
     "output_type": "stream",
     "text": [
      "wandb: Agent Starting Run: vpgc1rkb with config:\n",
      "wandb: \td: 64\n",
      "wandb: \tdropout: 0.4\n",
      "wandb: \timage_size: [512, 512]\n",
      "wandb: \titerations: 200\n",
      "wandb: \tlambda_: 0.5\n",
      "wandb: \tlr: 0.0005\n",
      "wandb: \tn_filters: 16\n",
      "wandb: \tnoise: 0\n",
      "wandb: \tprediction_stride: 4\n",
      "wandb: \tseed: 0\n",
      "wandb: \tsubset_size: 0.1\n"
     ]
    },
    {
     "data": {
      "text/html": [
       "Tracking run with wandb version 0.13.10"
      ],
      "text/plain": [
       "<IPython.core.display.HTML object>"
      ]
     },
     "metadata": {},
     "output_type": "display_data"
    },
    {
     "data": {
      "text/html": [
       "Run data is saved locally in <code>/home/ubuntu/thesis_implementation/wandb/run-20230226_022120-vpgc1rkb</code>"
      ],
      "text/plain": [
       "<IPython.core.display.HTML object>"
      ]
     },
     "metadata": {},
     "output_type": "display_data"
    },
    {
     "data": {
      "text/html": [
       "Syncing run <strong><a href='https://wandb.ai/isaacwasserman/Graphically%20Guided%20Neural%20EM%20for%20Unsupervised%20Image%20Segmentation/runs/vpgc1rkb' target=\"_blank\">light-sweep-5</a></strong> to <a href='https://wandb.ai/isaacwasserman/Graphically%20Guided%20Neural%20EM%20for%20Unsupervised%20Image%20Segmentation' target=\"_blank\">Weights & Biases</a> (<a href='https://wandb.me/run' target=\"_blank\">docs</a>)<br/>Sweep page: <a href='https://wandb.ai/isaacwasserman/Graphically%20Guided%20Neural%20EM%20for%20Unsupervised%20Image%20Segmentation/sweeps/f60ae4yq' target=\"_blank\">https://wandb.ai/isaacwasserman/Graphically%20Guided%20Neural%20EM%20for%20Unsupervised%20Image%20Segmentation/sweeps/f60ae4yq</a>"
      ],
      "text/plain": [
       "<IPython.core.display.HTML object>"
      ]
     },
     "metadata": {},
     "output_type": "display_data"
    },
    {
     "data": {
      "text/html": [
       " View project at <a href='https://wandb.ai/isaacwasserman/Graphically%20Guided%20Neural%20EM%20for%20Unsupervised%20Image%20Segmentation' target=\"_blank\">https://wandb.ai/isaacwasserman/Graphically%20Guided%20Neural%20EM%20for%20Unsupervised%20Image%20Segmentation</a>"
      ],
      "text/plain": [
       "<IPython.core.display.HTML object>"
      ]
     },
     "metadata": {},
     "output_type": "display_data"
    },
    {
     "data": {
      "text/html": [
       " View sweep at <a href='https://wandb.ai/isaacwasserman/Graphically%20Guided%20Neural%20EM%20for%20Unsupervised%20Image%20Segmentation/sweeps/f60ae4yq' target=\"_blank\">https://wandb.ai/isaacwasserman/Graphically%20Guided%20Neural%20EM%20for%20Unsupervised%20Image%20Segmentation/sweeps/f60ae4yq</a>"
      ],
      "text/plain": [
       "<IPython.core.display.HTML object>"
      ]
     },
     "metadata": {},
     "output_type": "display_data"
    },
    {
     "data": {
      "text/html": [
       " View run at <a href='https://wandb.ai/isaacwasserman/Graphically%20Guided%20Neural%20EM%20for%20Unsupervised%20Image%20Segmentation/runs/vpgc1rkb' target=\"_blank\">https://wandb.ai/isaacwasserman/Graphically%20Guided%20Neural%20EM%20for%20Unsupervised%20Image%20Segmentation/runs/vpgc1rkb</a>"
      ],
      "text/plain": [
       "<IPython.core.display.HTML object>"
      ]
     },
     "metadata": {},
     "output_type": "display_data"
    },
    {
     "name": "stderr",
     "output_type": "stream",
     "text": [
      "100%|██████████| 4/4 [00:00<00:00, 124.76it/s]\n",
      "100%|██████████| 4/4 [00:00<00:00, 131.09it/s]\n",
      "100%|██████████| 4/4 [00:00<00:00, 130.95it/s]\n",
      "100%|██████████| 4/4 [00:00<00:00, 77.42it/s]\n",
      "100%|██████████| 4/4 [00:00<00:00, 131.50it/s]\n",
      "100%|██████████| 4/4 [00:00<00:00, 133.00it/s]\n"
     ]
    },
    {
     "data": {
      "text/html": [
       "Waiting for W&B process to finish... <strong style=\"color:green\">(success).</strong>"
      ],
      "text/plain": [
       "<IPython.core.display.HTML object>"
      ]
     },
     "metadata": {},
     "output_type": "display_data"
    },
    {
     "data": {
      "text/html": [
       "<style>\n",
       "    table.wandb td:nth-child(1) { padding: 0 10px; text-align: left ; width: auto;} td:nth-child(2) {text-align: left ; width: 100%}\n",
       "    .wandb-row { display: flex; flex-direction: row; flex-wrap: wrap; justify-content: flex-start; width: 100% }\n",
       "    .wandb-col { display: flex; flex-direction: column; flex-basis: 100%; flex: 1; padding: 10px; }\n",
       "    </style>\n",
       "<div class=\"wandb-row\"><div class=\"wandb-col\"><h3>Run history:</h3><br/><table class=\"wandb\"><tr><td>Avg. F1 Score</td><td>▁</td></tr></table><br/></div><div class=\"wandb-col\"><h3>Run summary:</h3><br/><table class=\"wandb\"><tr><td>Avg. F1 Score</td><td>0.71789</td></tr></table><br/></div></div>"
      ],
      "text/plain": [
       "<IPython.core.display.HTML object>"
      ]
     },
     "metadata": {},
     "output_type": "display_data"
    },
    {
     "data": {
      "text/html": [
       " View run <strong style=\"color:#cdcd00\">light-sweep-5</strong> at: <a href='https://wandb.ai/isaacwasserman/Graphically%20Guided%20Neural%20EM%20for%20Unsupervised%20Image%20Segmentation/runs/vpgc1rkb' target=\"_blank\">https://wandb.ai/isaacwasserman/Graphically%20Guided%20Neural%20EM%20for%20Unsupervised%20Image%20Segmentation/runs/vpgc1rkb</a><br/>Synced 5 W&B file(s), 0 media file(s), 0 artifact file(s) and 0 other file(s)"
      ],
      "text/plain": [
       "<IPython.core.display.HTML object>"
      ]
     },
     "metadata": {},
     "output_type": "display_data"
    },
    {
     "data": {
      "text/html": [
       "Find logs at: <code>./wandb/run-20230226_022120-vpgc1rkb/logs</code>"
      ],
      "text/plain": [
       "<IPython.core.display.HTML object>"
      ]
     },
     "metadata": {},
     "output_type": "display_data"
    },
    {
     "name": "stderr",
     "output_type": "stream",
     "text": [
      "wandb: Agent Starting Run: o7v423dy with config:\n",
      "wandb: \td: 64\n",
      "wandb: \tdropout: 0.2\n",
      "wandb: \timage_size: [512, 512]\n",
      "wandb: \titerations: 400\n",
      "wandb: \tlambda_: 0.5\n",
      "wandb: \tlr: 0.01\n",
      "wandb: \tn_filters: 64\n",
      "wandb: \tnoise: 0\n",
      "wandb: \tprediction_stride: 4\n",
      "wandb: \tseed: 0\n",
      "wandb: \tsubset_size: 0.1\n"
     ]
    },
    {
     "data": {
      "text/html": [
       "Tracking run with wandb version 0.13.10"
      ],
      "text/plain": [
       "<IPython.core.display.HTML object>"
      ]
     },
     "metadata": {},
     "output_type": "display_data"
    },
    {
     "data": {
      "text/html": [
       "Run data is saved locally in <code>/home/ubuntu/thesis_implementation/wandb/run-20230226_022153-o7v423dy</code>"
      ],
      "text/plain": [
       "<IPython.core.display.HTML object>"
      ]
     },
     "metadata": {},
     "output_type": "display_data"
    },
    {
     "data": {
      "text/html": [
       "Syncing run <strong><a href='https://wandb.ai/isaacwasserman/Graphically%20Guided%20Neural%20EM%20for%20Unsupervised%20Image%20Segmentation/runs/o7v423dy' target=\"_blank\">pleasant-sweep-6</a></strong> to <a href='https://wandb.ai/isaacwasserman/Graphically%20Guided%20Neural%20EM%20for%20Unsupervised%20Image%20Segmentation' target=\"_blank\">Weights & Biases</a> (<a href='https://wandb.me/run' target=\"_blank\">docs</a>)<br/>Sweep page: <a href='https://wandb.ai/isaacwasserman/Graphically%20Guided%20Neural%20EM%20for%20Unsupervised%20Image%20Segmentation/sweeps/f60ae4yq' target=\"_blank\">https://wandb.ai/isaacwasserman/Graphically%20Guided%20Neural%20EM%20for%20Unsupervised%20Image%20Segmentation/sweeps/f60ae4yq</a>"
      ],
      "text/plain": [
       "<IPython.core.display.HTML object>"
      ]
     },
     "metadata": {},
     "output_type": "display_data"
    },
    {
     "data": {
      "text/html": [
       " View project at <a href='https://wandb.ai/isaacwasserman/Graphically%20Guided%20Neural%20EM%20for%20Unsupervised%20Image%20Segmentation' target=\"_blank\">https://wandb.ai/isaacwasserman/Graphically%20Guided%20Neural%20EM%20for%20Unsupervised%20Image%20Segmentation</a>"
      ],
      "text/plain": [
       "<IPython.core.display.HTML object>"
      ]
     },
     "metadata": {},
     "output_type": "display_data"
    },
    {
     "data": {
      "text/html": [
       " View sweep at <a href='https://wandb.ai/isaacwasserman/Graphically%20Guided%20Neural%20EM%20for%20Unsupervised%20Image%20Segmentation/sweeps/f60ae4yq' target=\"_blank\">https://wandb.ai/isaacwasserman/Graphically%20Guided%20Neural%20EM%20for%20Unsupervised%20Image%20Segmentation/sweeps/f60ae4yq</a>"
      ],
      "text/plain": [
       "<IPython.core.display.HTML object>"
      ]
     },
     "metadata": {},
     "output_type": "display_data"
    },
    {
     "data": {
      "text/html": [
       " View run at <a href='https://wandb.ai/isaacwasserman/Graphically%20Guided%20Neural%20EM%20for%20Unsupervised%20Image%20Segmentation/runs/o7v423dy' target=\"_blank\">https://wandb.ai/isaacwasserman/Graphically%20Guided%20Neural%20EM%20for%20Unsupervised%20Image%20Segmentation/runs/o7v423dy</a>"
      ],
      "text/plain": [
       "<IPython.core.display.HTML object>"
      ]
     },
     "metadata": {},
     "output_type": "display_data"
    },
    {
     "name": "stderr",
     "output_type": "stream",
     "text": [
      "100%|██████████| 4/4 [00:00<00:00, 122.88it/s]\n",
      "100%|██████████| 4/4 [00:00<00:00, 129.46it/s]\n",
      "100%|██████████| 4/4 [00:00<00:00, 130.86it/s]\n",
      "100%|██████████| 4/4 [00:00<00:00, 132.15it/s]\n",
      "100%|██████████| 4/4 [00:00<00:00, 130.91it/s]\n",
      "100%|██████████| 4/4 [00:00<00:00, 129.15it/s]\n"
     ]
    },
    {
     "data": {
      "text/html": [
       "Waiting for W&B process to finish... <strong style=\"color:green\">(success).</strong>"
      ],
      "text/plain": [
       "<IPython.core.display.HTML object>"
      ]
     },
     "metadata": {},
     "output_type": "display_data"
    },
    {
     "data": {
      "application/vnd.jupyter.widget-view+json": {
       "model_id": "351fb296573f453ba7c7bca63ac65fd7",
       "version_major": 2,
       "version_minor": 0
      },
      "text/plain": [
       "VBox(children=(Label(value='0.001 MB of 0.001 MB uploaded (0.000 MB deduped)\\r'), FloatProgress(value=1.0, max…"
      ]
     },
     "metadata": {},
     "output_type": "display_data"
    },
    {
     "data": {
      "text/html": [
       "<style>\n",
       "    table.wandb td:nth-child(1) { padding: 0 10px; text-align: left ; width: auto;} td:nth-child(2) {text-align: left ; width: 100%}\n",
       "    .wandb-row { display: flex; flex-direction: row; flex-wrap: wrap; justify-content: flex-start; width: 100% }\n",
       "    .wandb-col { display: flex; flex-direction: column; flex-basis: 100%; flex: 1; padding: 10px; }\n",
       "    </style>\n",
       "<div class=\"wandb-row\"><div class=\"wandb-col\"><h3>Run history:</h3><br/><table class=\"wandb\"><tr><td>Avg. F1 Score</td><td>▁</td></tr></table><br/></div><div class=\"wandb-col\"><h3>Run summary:</h3><br/><table class=\"wandb\"><tr><td>Avg. F1 Score</td><td>0.58421</td></tr></table><br/></div></div>"
      ],
      "text/plain": [
       "<IPython.core.display.HTML object>"
      ]
     },
     "metadata": {},
     "output_type": "display_data"
    },
    {
     "data": {
      "text/html": [
       " View run <strong style=\"color:#cdcd00\">pleasant-sweep-6</strong> at: <a href='https://wandb.ai/isaacwasserman/Graphically%20Guided%20Neural%20EM%20for%20Unsupervised%20Image%20Segmentation/runs/o7v423dy' target=\"_blank\">https://wandb.ai/isaacwasserman/Graphically%20Guided%20Neural%20EM%20for%20Unsupervised%20Image%20Segmentation/runs/o7v423dy</a><br/>Synced 5 W&B file(s), 0 media file(s), 0 artifact file(s) and 0 other file(s)"
      ],
      "text/plain": [
       "<IPython.core.display.HTML object>"
      ]
     },
     "metadata": {},
     "output_type": "display_data"
    },
    {
     "data": {
      "text/html": [
       "Find logs at: <code>./wandb/run-20230226_022153-o7v423dy/logs</code>"
      ],
      "text/plain": [
       "<IPython.core.display.HTML object>"
      ]
     },
     "metadata": {},
     "output_type": "display_data"
    },
    {
     "name": "stderr",
     "output_type": "stream",
     "text": [
      "wandb: Agent Starting Run: 7i17blbf with config:\n",
      "wandb: \td: 32\n",
      "wandb: \tdropout: 0.3\n",
      "wandb: \timage_size: [512, 512]\n",
      "wandb: \titerations: 400\n",
      "wandb: \tlambda_: 0.4\n",
      "wandb: \tlr: 0.005\n",
      "wandb: \tn_filters: 16\n",
      "wandb: \tnoise: 0\n",
      "wandb: \tprediction_stride: 4\n",
      "wandb: \tseed: 0\n",
      "wandb: \tsubset_size: 0.5\n"
     ]
    },
    {
     "data": {
      "text/html": [
       "Tracking run with wandb version 0.13.10"
      ],
      "text/plain": [
       "<IPython.core.display.HTML object>"
      ]
     },
     "metadata": {},
     "output_type": "display_data"
    },
    {
     "data": {
      "text/html": [
       "Run data is saved locally in <code>/home/ubuntu/thesis_implementation/wandb/run-20230226_022304-7i17blbf</code>"
      ],
      "text/plain": [
       "<IPython.core.display.HTML object>"
      ]
     },
     "metadata": {},
     "output_type": "display_data"
    },
    {
     "data": {
      "text/html": [
       "Syncing run <strong><a href='https://wandb.ai/isaacwasserman/Graphically%20Guided%20Neural%20EM%20for%20Unsupervised%20Image%20Segmentation/runs/7i17blbf' target=\"_blank\">cosmic-sweep-7</a></strong> to <a href='https://wandb.ai/isaacwasserman/Graphically%20Guided%20Neural%20EM%20for%20Unsupervised%20Image%20Segmentation' target=\"_blank\">Weights & Biases</a> (<a href='https://wandb.me/run' target=\"_blank\">docs</a>)<br/>Sweep page: <a href='https://wandb.ai/isaacwasserman/Graphically%20Guided%20Neural%20EM%20for%20Unsupervised%20Image%20Segmentation/sweeps/f60ae4yq' target=\"_blank\">https://wandb.ai/isaacwasserman/Graphically%20Guided%20Neural%20EM%20for%20Unsupervised%20Image%20Segmentation/sweeps/f60ae4yq</a>"
      ],
      "text/plain": [
       "<IPython.core.display.HTML object>"
      ]
     },
     "metadata": {},
     "output_type": "display_data"
    },
    {
     "data": {
      "text/html": [
       " View project at <a href='https://wandb.ai/isaacwasserman/Graphically%20Guided%20Neural%20EM%20for%20Unsupervised%20Image%20Segmentation' target=\"_blank\">https://wandb.ai/isaacwasserman/Graphically%20Guided%20Neural%20EM%20for%20Unsupervised%20Image%20Segmentation</a>"
      ],
      "text/plain": [
       "<IPython.core.display.HTML object>"
      ]
     },
     "metadata": {},
     "output_type": "display_data"
    },
    {
     "data": {
      "text/html": [
       " View sweep at <a href='https://wandb.ai/isaacwasserman/Graphically%20Guided%20Neural%20EM%20for%20Unsupervised%20Image%20Segmentation/sweeps/f60ae4yq' target=\"_blank\">https://wandb.ai/isaacwasserman/Graphically%20Guided%20Neural%20EM%20for%20Unsupervised%20Image%20Segmentation/sweeps/f60ae4yq</a>"
      ],
      "text/plain": [
       "<IPython.core.display.HTML object>"
      ]
     },
     "metadata": {},
     "output_type": "display_data"
    },
    {
     "data": {
      "text/html": [
       " View run at <a href='https://wandb.ai/isaacwasserman/Graphically%20Guided%20Neural%20EM%20for%20Unsupervised%20Image%20Segmentation/runs/7i17blbf' target=\"_blank\">https://wandb.ai/isaacwasserman/Graphically%20Guided%20Neural%20EM%20for%20Unsupervised%20Image%20Segmentation/runs/7i17blbf</a>"
      ],
      "text/plain": [
       "<IPython.core.display.HTML object>"
      ]
     },
     "metadata": {},
     "output_type": "display_data"
    },
    {
     "name": "stderr",
     "output_type": "stream",
     "text": [
      "100%|██████████| 4/4 [00:00<00:00, 28.65it/s]\n",
      "100%|██████████| 4/4 [00:00<00:00, 86.32it/s]\n",
      "100%|██████████| 4/4 [00:00<00:00, 86.55it/s]\n",
      "100%|██████████| 4/4 [00:00<00:00, 85.91it/s]\n",
      "100%|██████████| 4/4 [00:00<00:00, 83.67it/s]\n",
      "100%|██████████| 4/4 [00:00<00:00, 85.55it/s]\n"
     ]
    },
    {
     "data": {
      "text/html": [
       "Waiting for W&B process to finish... <strong style=\"color:green\">(success).</strong>"
      ],
      "text/plain": [
       "<IPython.core.display.HTML object>"
      ]
     },
     "metadata": {},
     "output_type": "display_data"
    },
    {
     "data": {
      "application/vnd.jupyter.widget-view+json": {
       "model_id": "3b71c859f0f24115a390b5dc769dd01a",
       "version_major": 2,
       "version_minor": 0
      },
      "text/plain": [
       "VBox(children=(Label(value='0.006 MB of 0.006 MB uploaded (0.000 MB deduped)\\r'), FloatProgress(value=0.875705…"
      ]
     },
     "metadata": {},
     "output_type": "display_data"
    },
    {
     "data": {
      "text/html": [
       "<style>\n",
       "    table.wandb td:nth-child(1) { padding: 0 10px; text-align: left ; width: auto;} td:nth-child(2) {text-align: left ; width: 100%}\n",
       "    .wandb-row { display: flex; flex-direction: row; flex-wrap: wrap; justify-content: flex-start; width: 100% }\n",
       "    .wandb-col { display: flex; flex-direction: column; flex-basis: 100%; flex: 1; padding: 10px; }\n",
       "    </style>\n",
       "<div class=\"wandb-row\"><div class=\"wandb-col\"><h3>Run history:</h3><br/><table class=\"wandb\"><tr><td>Avg. F1 Score</td><td>▁</td></tr></table><br/></div><div class=\"wandb-col\"><h3>Run summary:</h3><br/><table class=\"wandb\"><tr><td>Avg. F1 Score</td><td>0.66651</td></tr></table><br/></div></div>"
      ],
      "text/plain": [
       "<IPython.core.display.HTML object>"
      ]
     },
     "metadata": {},
     "output_type": "display_data"
    },
    {
     "data": {
      "text/html": [
       " View run <strong style=\"color:#cdcd00\">cosmic-sweep-7</strong> at: <a href='https://wandb.ai/isaacwasserman/Graphically%20Guided%20Neural%20EM%20for%20Unsupervised%20Image%20Segmentation/runs/7i17blbf' target=\"_blank\">https://wandb.ai/isaacwasserman/Graphically%20Guided%20Neural%20EM%20for%20Unsupervised%20Image%20Segmentation/runs/7i17blbf</a><br/>Synced 5 W&B file(s), 0 media file(s), 0 artifact file(s) and 0 other file(s)"
      ],
      "text/plain": [
       "<IPython.core.display.HTML object>"
      ]
     },
     "metadata": {},
     "output_type": "display_data"
    },
    {
     "data": {
      "text/html": [
       "Find logs at: <code>./wandb/run-20230226_022304-7i17blbf/logs</code>"
      ],
      "text/plain": [
       "<IPython.core.display.HTML object>"
      ]
     },
     "metadata": {},
     "output_type": "display_data"
    },
    {
     "name": "stderr",
     "output_type": "stream",
     "text": [
      "wandb: Agent Starting Run: bdlsedwj with config:\n",
      "wandb: \td: 16\n",
      "wandb: \tdropout: 0.4\n",
      "wandb: \timage_size: [512, 512]\n",
      "wandb: \titerations: 400\n",
      "wandb: \tlambda_: 0.2\n",
      "wandb: \tlr: 0.0001\n",
      "wandb: \tn_filters: 16\n",
      "wandb: \tnoise: 0\n",
      "wandb: \tprediction_stride: 4\n",
      "wandb: \tseed: 0\n",
      "wandb: \tsubset_size: 0.1\n"
     ]
    },
    {
     "data": {
      "text/html": [
       "Tracking run with wandb version 0.13.10"
      ],
      "text/plain": [
       "<IPython.core.display.HTML object>"
      ]
     },
     "metadata": {},
     "output_type": "display_data"
    },
    {
     "data": {
      "text/html": [
       "Run data is saved locally in <code>/home/ubuntu/thesis_implementation/wandb/run-20230226_022331-bdlsedwj</code>"
      ],
      "text/plain": [
       "<IPython.core.display.HTML object>"
      ]
     },
     "metadata": {},
     "output_type": "display_data"
    },
    {
     "data": {
      "text/html": [
       "Syncing run <strong><a href='https://wandb.ai/isaacwasserman/Graphically%20Guided%20Neural%20EM%20for%20Unsupervised%20Image%20Segmentation/runs/bdlsedwj' target=\"_blank\">cosmic-sweep-8</a></strong> to <a href='https://wandb.ai/isaacwasserman/Graphically%20Guided%20Neural%20EM%20for%20Unsupervised%20Image%20Segmentation' target=\"_blank\">Weights & Biases</a> (<a href='https://wandb.me/run' target=\"_blank\">docs</a>)<br/>Sweep page: <a href='https://wandb.ai/isaacwasserman/Graphically%20Guided%20Neural%20EM%20for%20Unsupervised%20Image%20Segmentation/sweeps/f60ae4yq' target=\"_blank\">https://wandb.ai/isaacwasserman/Graphically%20Guided%20Neural%20EM%20for%20Unsupervised%20Image%20Segmentation/sweeps/f60ae4yq</a>"
      ],
      "text/plain": [
       "<IPython.core.display.HTML object>"
      ]
     },
     "metadata": {},
     "output_type": "display_data"
    },
    {
     "data": {
      "text/html": [
       " View project at <a href='https://wandb.ai/isaacwasserman/Graphically%20Guided%20Neural%20EM%20for%20Unsupervised%20Image%20Segmentation' target=\"_blank\">https://wandb.ai/isaacwasserman/Graphically%20Guided%20Neural%20EM%20for%20Unsupervised%20Image%20Segmentation</a>"
      ],
      "text/plain": [
       "<IPython.core.display.HTML object>"
      ]
     },
     "metadata": {},
     "output_type": "display_data"
    },
    {
     "data": {
      "text/html": [
       " View sweep at <a href='https://wandb.ai/isaacwasserman/Graphically%20Guided%20Neural%20EM%20for%20Unsupervised%20Image%20Segmentation/sweeps/f60ae4yq' target=\"_blank\">https://wandb.ai/isaacwasserman/Graphically%20Guided%20Neural%20EM%20for%20Unsupervised%20Image%20Segmentation/sweeps/f60ae4yq</a>"
      ],
      "text/plain": [
       "<IPython.core.display.HTML object>"
      ]
     },
     "metadata": {},
     "output_type": "display_data"
    },
    {
     "data": {
      "text/html": [
       " View run at <a href='https://wandb.ai/isaacwasserman/Graphically%20Guided%20Neural%20EM%20for%20Unsupervised%20Image%20Segmentation/runs/bdlsedwj' target=\"_blank\">https://wandb.ai/isaacwasserman/Graphically%20Guided%20Neural%20EM%20for%20Unsupervised%20Image%20Segmentation/runs/bdlsedwj</a>"
      ],
      "text/plain": [
       "<IPython.core.display.HTML object>"
      ]
     },
     "metadata": {},
     "output_type": "display_data"
    },
    {
     "name": "stderr",
     "output_type": "stream",
     "text": [
      "100%|██████████| 4/4 [00:00<00:00, 123.56it/s]\n",
      "100%|██████████| 4/4 [00:00<00:00, 136.51it/s]\n",
      "100%|██████████| 4/4 [00:00<00:00, 124.34it/s]\n",
      "100%|██████████| 4/4 [00:00<00:00, 124.38it/s]\n",
      "100%|██████████| 4/4 [00:00<00:00, 124.11it/s]\n",
      "100%|██████████| 4/4 [00:00<00:00, 33.33it/s]\n"
     ]
    },
    {
     "data": {
      "text/html": [
       "Waiting for W&B process to finish... <strong style=\"color:green\">(success).</strong>"
      ],
      "text/plain": [
       "<IPython.core.display.HTML object>"
      ]
     },
     "metadata": {},
     "output_type": "display_data"
    },
    {
     "data": {
      "text/html": [
       "<style>\n",
       "    table.wandb td:nth-child(1) { padding: 0 10px; text-align: left ; width: auto;} td:nth-child(2) {text-align: left ; width: 100%}\n",
       "    .wandb-row { display: flex; flex-direction: row; flex-wrap: wrap; justify-content: flex-start; width: 100% }\n",
       "    .wandb-col { display: flex; flex-direction: column; flex-basis: 100%; flex: 1; padding: 10px; }\n",
       "    </style>\n",
       "<div class=\"wandb-row\"><div class=\"wandb-col\"><h3>Run history:</h3><br/><table class=\"wandb\"><tr><td>Avg. F1 Score</td><td>▁</td></tr></table><br/></div><div class=\"wandb-col\"><h3>Run summary:</h3><br/><table class=\"wandb\"><tr><td>Avg. F1 Score</td><td>0.79828</td></tr></table><br/></div></div>"
      ],
      "text/plain": [
       "<IPython.core.display.HTML object>"
      ]
     },
     "metadata": {},
     "output_type": "display_data"
    },
    {
     "data": {
      "text/html": [
       " View run <strong style=\"color:#cdcd00\">cosmic-sweep-8</strong> at: <a href='https://wandb.ai/isaacwasserman/Graphically%20Guided%20Neural%20EM%20for%20Unsupervised%20Image%20Segmentation/runs/bdlsedwj' target=\"_blank\">https://wandb.ai/isaacwasserman/Graphically%20Guided%20Neural%20EM%20for%20Unsupervised%20Image%20Segmentation/runs/bdlsedwj</a><br/>Synced 5 W&B file(s), 0 media file(s), 0 artifact file(s) and 0 other file(s)"
      ],
      "text/plain": [
       "<IPython.core.display.HTML object>"
      ]
     },
     "metadata": {},
     "output_type": "display_data"
    },
    {
     "data": {
      "text/html": [
       "Find logs at: <code>./wandb/run-20230226_022331-bdlsedwj/logs</code>"
      ],
      "text/plain": [
       "<IPython.core.display.HTML object>"
      ]
     },
     "metadata": {},
     "output_type": "display_data"
    },
    {
     "name": "stderr",
     "output_type": "stream",
     "text": [
      "wandb: Sweep Agent: Waiting for job.\n",
      "wandb: Job received.\n",
      "wandb: Agent Starting Run: thup2vi7 with config:\n",
      "wandb: \td: 16\n",
      "wandb: \tdropout: 0.5\n",
      "wandb: \timage_size: [512, 512]\n",
      "wandb: \titerations: 100\n",
      "wandb: \tlambda_: 0.5\n",
      "wandb: \tlr: 0.01\n",
      "wandb: \tn_filters: 32\n",
      "wandb: \tnoise: 0\n",
      "wandb: \tprediction_stride: 4\n",
      "wandb: \tseed: 0\n",
      "wandb: \tsubset_size: 0.3\n"
     ]
    },
    {
     "data": {
      "text/html": [
       "Tracking run with wandb version 0.13.10"
      ],
      "text/plain": [
       "<IPython.core.display.HTML object>"
      ]
     },
     "metadata": {},
     "output_type": "display_data"
    },
    {
     "data": {
      "text/html": [
       "Run data is saved locally in <code>/home/ubuntu/thesis_implementation/wandb/run-20230226_022401-thup2vi7</code>"
      ],
      "text/plain": [
       "<IPython.core.display.HTML object>"
      ]
     },
     "metadata": {},
     "output_type": "display_data"
    },
    {
     "data": {
      "text/html": [
       "Syncing run <strong><a href='https://wandb.ai/isaacwasserman/Graphically%20Guided%20Neural%20EM%20for%20Unsupervised%20Image%20Segmentation/runs/thup2vi7' target=\"_blank\">graceful-sweep-9</a></strong> to <a href='https://wandb.ai/isaacwasserman/Graphically%20Guided%20Neural%20EM%20for%20Unsupervised%20Image%20Segmentation' target=\"_blank\">Weights & Biases</a> (<a href='https://wandb.me/run' target=\"_blank\">docs</a>)<br/>Sweep page: <a href='https://wandb.ai/isaacwasserman/Graphically%20Guided%20Neural%20EM%20for%20Unsupervised%20Image%20Segmentation/sweeps/f60ae4yq' target=\"_blank\">https://wandb.ai/isaacwasserman/Graphically%20Guided%20Neural%20EM%20for%20Unsupervised%20Image%20Segmentation/sweeps/f60ae4yq</a>"
      ],
      "text/plain": [
       "<IPython.core.display.HTML object>"
      ]
     },
     "metadata": {},
     "output_type": "display_data"
    },
    {
     "data": {
      "text/html": [
       " View project at <a href='https://wandb.ai/isaacwasserman/Graphically%20Guided%20Neural%20EM%20for%20Unsupervised%20Image%20Segmentation' target=\"_blank\">https://wandb.ai/isaacwasserman/Graphically%20Guided%20Neural%20EM%20for%20Unsupervised%20Image%20Segmentation</a>"
      ],
      "text/plain": [
       "<IPython.core.display.HTML object>"
      ]
     },
     "metadata": {},
     "output_type": "display_data"
    },
    {
     "data": {
      "text/html": [
       " View sweep at <a href='https://wandb.ai/isaacwasserman/Graphically%20Guided%20Neural%20EM%20for%20Unsupervised%20Image%20Segmentation/sweeps/f60ae4yq' target=\"_blank\">https://wandb.ai/isaacwasserman/Graphically%20Guided%20Neural%20EM%20for%20Unsupervised%20Image%20Segmentation/sweeps/f60ae4yq</a>"
      ],
      "text/plain": [
       "<IPython.core.display.HTML object>"
      ]
     },
     "metadata": {},
     "output_type": "display_data"
    },
    {
     "data": {
      "text/html": [
       " View run at <a href='https://wandb.ai/isaacwasserman/Graphically%20Guided%20Neural%20EM%20for%20Unsupervised%20Image%20Segmentation/runs/thup2vi7' target=\"_blank\">https://wandb.ai/isaacwasserman/Graphically%20Guided%20Neural%20EM%20for%20Unsupervised%20Image%20Segmentation/runs/thup2vi7</a>"
      ],
      "text/plain": [
       "<IPython.core.display.HTML object>"
      ]
     },
     "metadata": {},
     "output_type": "display_data"
    },
    {
     "name": "stderr",
     "output_type": "stream",
     "text": [
      "100%|██████████| 4/4 [00:00<00:00, 134.58it/s]\n",
      "100%|██████████| 4/4 [00:00<00:00, 141.79it/s]\n",
      "100%|██████████| 4/4 [00:00<00:00, 139.88it/s]\n",
      "100%|██████████| 4/4 [00:00<00:00, 138.18it/s]\n",
      "100%|██████████| 4/4 [00:00<00:00, 143.51it/s]\n",
      "100%|██████████| 4/4 [00:00<00:00, 138.11it/s]\n"
     ]
    },
    {
     "data": {
      "text/html": [
       "Waiting for W&B process to finish... <strong style=\"color:green\">(success).</strong>"
      ],
      "text/plain": [
       "<IPython.core.display.HTML object>"
      ]
     },
     "metadata": {},
     "output_type": "display_data"
    },
    {
     "data": {
      "text/html": [
       "<style>\n",
       "    table.wandb td:nth-child(1) { padding: 0 10px; text-align: left ; width: auto;} td:nth-child(2) {text-align: left ; width: 100%}\n",
       "    .wandb-row { display: flex; flex-direction: row; flex-wrap: wrap; justify-content: flex-start; width: 100% }\n",
       "    .wandb-col { display: flex; flex-direction: column; flex-basis: 100%; flex: 1; padding: 10px; }\n",
       "    </style>\n",
       "<div class=\"wandb-row\"><div class=\"wandb-col\"><h3>Run history:</h3><br/><table class=\"wandb\"><tr><td>Avg. F1 Score</td><td>▁</td></tr></table><br/></div><div class=\"wandb-col\"><h3>Run summary:</h3><br/><table class=\"wandb\"><tr><td>Avg. F1 Score</td><td>0.66424</td></tr></table><br/></div></div>"
      ],
      "text/plain": [
       "<IPython.core.display.HTML object>"
      ]
     },
     "metadata": {},
     "output_type": "display_data"
    },
    {
     "data": {
      "text/html": [
       " View run <strong style=\"color:#cdcd00\">graceful-sweep-9</strong> at: <a href='https://wandb.ai/isaacwasserman/Graphically%20Guided%20Neural%20EM%20for%20Unsupervised%20Image%20Segmentation/runs/thup2vi7' target=\"_blank\">https://wandb.ai/isaacwasserman/Graphically%20Guided%20Neural%20EM%20for%20Unsupervised%20Image%20Segmentation/runs/thup2vi7</a><br/>Synced 5 W&B file(s), 0 media file(s), 0 artifact file(s) and 0 other file(s)"
      ],
      "text/plain": [
       "<IPython.core.display.HTML object>"
      ]
     },
     "metadata": {},
     "output_type": "display_data"
    },
    {
     "data": {
      "text/html": [
       "Find logs at: <code>./wandb/run-20230226_022401-thup2vi7/logs</code>"
      ],
      "text/plain": [
       "<IPython.core.display.HTML object>"
      ]
     },
     "metadata": {},
     "output_type": "display_data"
    },
    {
     "name": "stderr",
     "output_type": "stream",
     "text": [
      "wandb: Agent Starting Run: yuv110kb with config:\n",
      "wandb: \td: 64\n",
      "wandb: \tdropout: 0.2\n",
      "wandb: \timage_size: [512, 512]\n",
      "wandb: \titerations: 500\n",
      "wandb: \tlambda_: 0.3\n",
      "wandb: \tlr: 0.001\n",
      "wandb: \tn_filters: 128\n",
      "wandb: \tnoise: 0\n",
      "wandb: \tprediction_stride: 4\n",
      "wandb: \tseed: 0\n",
      "wandb: \tsubset_size: 0.5\n"
     ]
    },
    {
     "data": {
      "text/html": [
       "Tracking run with wandb version 0.13.10"
      ],
      "text/plain": [
       "<IPython.core.display.HTML object>"
      ]
     },
     "metadata": {},
     "output_type": "display_data"
    },
    {
     "data": {
      "text/html": [
       "Run data is saved locally in <code>/home/ubuntu/thesis_implementation/wandb/run-20230226_022416-yuv110kb</code>"
      ],
      "text/plain": [
       "<IPython.core.display.HTML object>"
      ]
     },
     "metadata": {},
     "output_type": "display_data"
    },
    {
     "data": {
      "text/html": [
       "Syncing run <strong><a href='https://wandb.ai/isaacwasserman/Graphically%20Guided%20Neural%20EM%20for%20Unsupervised%20Image%20Segmentation/runs/yuv110kb' target=\"_blank\">stellar-sweep-10</a></strong> to <a href='https://wandb.ai/isaacwasserman/Graphically%20Guided%20Neural%20EM%20for%20Unsupervised%20Image%20Segmentation' target=\"_blank\">Weights & Biases</a> (<a href='https://wandb.me/run' target=\"_blank\">docs</a>)<br/>Sweep page: <a href='https://wandb.ai/isaacwasserman/Graphically%20Guided%20Neural%20EM%20for%20Unsupervised%20Image%20Segmentation/sweeps/f60ae4yq' target=\"_blank\">https://wandb.ai/isaacwasserman/Graphically%20Guided%20Neural%20EM%20for%20Unsupervised%20Image%20Segmentation/sweeps/f60ae4yq</a>"
      ],
      "text/plain": [
       "<IPython.core.display.HTML object>"
      ]
     },
     "metadata": {},
     "output_type": "display_data"
    },
    {
     "data": {
      "text/html": [
       " View project at <a href='https://wandb.ai/isaacwasserman/Graphically%20Guided%20Neural%20EM%20for%20Unsupervised%20Image%20Segmentation' target=\"_blank\">https://wandb.ai/isaacwasserman/Graphically%20Guided%20Neural%20EM%20for%20Unsupervised%20Image%20Segmentation</a>"
      ],
      "text/plain": [
       "<IPython.core.display.HTML object>"
      ]
     },
     "metadata": {},
     "output_type": "display_data"
    },
    {
     "data": {
      "text/html": [
       " View sweep at <a href='https://wandb.ai/isaacwasserman/Graphically%20Guided%20Neural%20EM%20for%20Unsupervised%20Image%20Segmentation/sweeps/f60ae4yq' target=\"_blank\">https://wandb.ai/isaacwasserman/Graphically%20Guided%20Neural%20EM%20for%20Unsupervised%20Image%20Segmentation/sweeps/f60ae4yq</a>"
      ],
      "text/plain": [
       "<IPython.core.display.HTML object>"
      ]
     },
     "metadata": {},
     "output_type": "display_data"
    },
    {
     "data": {
      "text/html": [
       " View run at <a href='https://wandb.ai/isaacwasserman/Graphically%20Guided%20Neural%20EM%20for%20Unsupervised%20Image%20Segmentation/runs/yuv110kb' target=\"_blank\">https://wandb.ai/isaacwasserman/Graphically%20Guided%20Neural%20EM%20for%20Unsupervised%20Image%20Segmentation/runs/yuv110kb</a>"
      ],
      "text/plain": [
       "<IPython.core.display.HTML object>"
      ]
     },
     "metadata": {},
     "output_type": "display_data"
    },
    {
     "name": "stderr",
     "output_type": "stream",
     "text": [
      "100%|██████████| 4/4 [00:00<00:00, 126.16it/s]\n",
      "100%|██████████| 4/4 [00:00<00:00, 67.26it/s]\n",
      "100%|██████████| 4/4 [00:00<00:00, 127.22it/s]\n",
      "100%|██████████| 4/4 [00:00<00:00, 126.58it/s]\n",
      "100%|██████████| 4/4 [00:00<00:00, 128.16it/s]\n",
      "100%|██████████| 4/4 [00:00<00:00, 125.98it/s]\n"
     ]
    },
    {
     "data": {
      "text/html": [
       "Waiting for W&B process to finish... <strong style=\"color:green\">(success).</strong>"
      ],
      "text/plain": [
       "<IPython.core.display.HTML object>"
      ]
     },
     "metadata": {},
     "output_type": "display_data"
    },
    {
     "data": {
      "application/vnd.jupyter.widget-view+json": {
       "model_id": "ee93dbc9630d426d9d478f4da885fc71",
       "version_major": 2,
       "version_minor": 0
      },
      "text/plain": [
       "VBox(children=(Label(value='0.001 MB of 0.001 MB uploaded (0.000 MB deduped)\\r'), FloatProgress(value=1.0, max…"
      ]
     },
     "metadata": {},
     "output_type": "display_data"
    },
    {
     "data": {
      "text/html": [
       "<style>\n",
       "    table.wandb td:nth-child(1) { padding: 0 10px; text-align: left ; width: auto;} td:nth-child(2) {text-align: left ; width: 100%}\n",
       "    .wandb-row { display: flex; flex-direction: row; flex-wrap: wrap; justify-content: flex-start; width: 100% }\n",
       "    .wandb-col { display: flex; flex-direction: column; flex-basis: 100%; flex: 1; padding: 10px; }\n",
       "    </style>\n",
       "<div class=\"wandb-row\"><div class=\"wandb-col\"><h3>Run history:</h3><br/><table class=\"wandb\"><tr><td>Avg. F1 Score</td><td>▁</td></tr></table><br/></div><div class=\"wandb-col\"><h3>Run summary:</h3><br/><table class=\"wandb\"><tr><td>Avg. F1 Score</td><td>0.61943</td></tr></table><br/></div></div>"
      ],
      "text/plain": [
       "<IPython.core.display.HTML object>"
      ]
     },
     "metadata": {},
     "output_type": "display_data"
    },
    {
     "data": {
      "text/html": [
       " View run <strong style=\"color:#cdcd00\">stellar-sweep-10</strong> at: <a href='https://wandb.ai/isaacwasserman/Graphically%20Guided%20Neural%20EM%20for%20Unsupervised%20Image%20Segmentation/runs/yuv110kb' target=\"_blank\">https://wandb.ai/isaacwasserman/Graphically%20Guided%20Neural%20EM%20for%20Unsupervised%20Image%20Segmentation/runs/yuv110kb</a><br/>Synced 5 W&B file(s), 0 media file(s), 0 artifact file(s) and 0 other file(s)"
      ],
      "text/plain": [
       "<IPython.core.display.HTML object>"
      ]
     },
     "metadata": {},
     "output_type": "display_data"
    },
    {
     "data": {
      "text/html": [
       "Find logs at: <code>./wandb/run-20230226_022416-yuv110kb/logs</code>"
      ],
      "text/plain": [
       "<IPython.core.display.HTML object>"
      ]
     },
     "metadata": {},
     "output_type": "display_data"
    },
    {
     "name": "stderr",
     "output_type": "stream",
     "text": [
      "wandb: Agent Starting Run: kz7cvei2 with config:\n",
      "wandb: \td: 8\n",
      "wandb: \tdropout: 0.1\n",
      "wandb: \timage_size: [512, 512]\n",
      "wandb: \titerations: 100\n",
      "wandb: \tlambda_: 0.2\n",
      "wandb: \tlr: 0.001\n",
      "wandb: \tn_filters: 128\n",
      "wandb: \tnoise: 0\n",
      "wandb: \tprediction_stride: 4\n",
      "wandb: \tseed: 0\n",
      "wandb: \tsubset_size: 0.7\n"
     ]
    },
    {
     "data": {
      "text/html": [
       "Tracking run with wandb version 0.13.10"
      ],
      "text/plain": [
       "<IPython.core.display.HTML object>"
      ]
     },
     "metadata": {},
     "output_type": "display_data"
    },
    {
     "data": {
      "text/html": [
       "Run data is saved locally in <code>/home/ubuntu/thesis_implementation/wandb/run-20230226_022625-kz7cvei2</code>"
      ],
      "text/plain": [
       "<IPython.core.display.HTML object>"
      ]
     },
     "metadata": {},
     "output_type": "display_data"
    },
    {
     "data": {
      "text/html": [
       "Syncing run <strong><a href='https://wandb.ai/isaacwasserman/Graphically%20Guided%20Neural%20EM%20for%20Unsupervised%20Image%20Segmentation/runs/kz7cvei2' target=\"_blank\">usual-sweep-11</a></strong> to <a href='https://wandb.ai/isaacwasserman/Graphically%20Guided%20Neural%20EM%20for%20Unsupervised%20Image%20Segmentation' target=\"_blank\">Weights & Biases</a> (<a href='https://wandb.me/run' target=\"_blank\">docs</a>)<br/>Sweep page: <a href='https://wandb.ai/isaacwasserman/Graphically%20Guided%20Neural%20EM%20for%20Unsupervised%20Image%20Segmentation/sweeps/f60ae4yq' target=\"_blank\">https://wandb.ai/isaacwasserman/Graphically%20Guided%20Neural%20EM%20for%20Unsupervised%20Image%20Segmentation/sweeps/f60ae4yq</a>"
      ],
      "text/plain": [
       "<IPython.core.display.HTML object>"
      ]
     },
     "metadata": {},
     "output_type": "display_data"
    },
    {
     "data": {
      "text/html": [
       " View project at <a href='https://wandb.ai/isaacwasserman/Graphically%20Guided%20Neural%20EM%20for%20Unsupervised%20Image%20Segmentation' target=\"_blank\">https://wandb.ai/isaacwasserman/Graphically%20Guided%20Neural%20EM%20for%20Unsupervised%20Image%20Segmentation</a>"
      ],
      "text/plain": [
       "<IPython.core.display.HTML object>"
      ]
     },
     "metadata": {},
     "output_type": "display_data"
    },
    {
     "data": {
      "text/html": [
       " View sweep at <a href='https://wandb.ai/isaacwasserman/Graphically%20Guided%20Neural%20EM%20for%20Unsupervised%20Image%20Segmentation/sweeps/f60ae4yq' target=\"_blank\">https://wandb.ai/isaacwasserman/Graphically%20Guided%20Neural%20EM%20for%20Unsupervised%20Image%20Segmentation/sweeps/f60ae4yq</a>"
      ],
      "text/plain": [
       "<IPython.core.display.HTML object>"
      ]
     },
     "metadata": {},
     "output_type": "display_data"
    },
    {
     "data": {
      "text/html": [
       " View run at <a href='https://wandb.ai/isaacwasserman/Graphically%20Guided%20Neural%20EM%20for%20Unsupervised%20Image%20Segmentation/runs/kz7cvei2' target=\"_blank\">https://wandb.ai/isaacwasserman/Graphically%20Guided%20Neural%20EM%20for%20Unsupervised%20Image%20Segmentation/runs/kz7cvei2</a>"
      ],
      "text/plain": [
       "<IPython.core.display.HTML object>"
      ]
     },
     "metadata": {},
     "output_type": "display_data"
    },
    {
     "name": "stderr",
     "output_type": "stream",
     "text": [
      "  0%|          | 0/4 [00:00<?, ?it/s]\n"
     ]
    },
    {
     "data": {
      "text/html": [
       "Waiting for W&B process to finish... <strong style=\"color:red\">(failed 1).</strong> Press Control-C to abort syncing."
      ],
      "text/plain": [
       "<IPython.core.display.HTML object>"
      ]
     },
     "metadata": {},
     "output_type": "display_data"
    },
    {
     "data": {
      "application/vnd.jupyter.widget-view+json": {
       "model_id": "e9c7b195106043fcac4d72ab69667f7c",
       "version_major": 2,
       "version_minor": 0
      },
      "text/plain": [
       "VBox(children=(Label(value='0.001 MB of 0.001 MB uploaded (0.000 MB deduped)\\r'), FloatProgress(value=1.0, max…"
      ]
     },
     "metadata": {},
     "output_type": "display_data"
    },
    {
     "data": {
      "text/html": [
       " View run <strong style=\"color:#cdcd00\">usual-sweep-11</strong> at: <a href='https://wandb.ai/isaacwasserman/Graphically%20Guided%20Neural%20EM%20for%20Unsupervised%20Image%20Segmentation/runs/kz7cvei2' target=\"_blank\">https://wandb.ai/isaacwasserman/Graphically%20Guided%20Neural%20EM%20for%20Unsupervised%20Image%20Segmentation/runs/kz7cvei2</a><br/>Synced 5 W&B file(s), 0 media file(s), 0 artifact file(s) and 0 other file(s)"
      ],
      "text/plain": [
       "<IPython.core.display.HTML object>"
      ]
     },
     "metadata": {},
     "output_type": "display_data"
    },
    {
     "data": {
      "text/html": [
       "Find logs at: <code>./wandb/run-20230226_022625-kz7cvei2/logs</code>"
      ],
      "text/plain": [
       "<IPython.core.display.HTML object>"
      ]
     },
     "metadata": {},
     "output_type": "display_data"
    },
    {
     "name": "stderr",
     "output_type": "stream",
     "text": [
      "Run kz7cvei2 errored: RuntimeError('cuDNN error: CUDNN_STATUS_NOT_SUPPORTED. This error may appear if you passed in a non-contiguous input.')\n",
      "wandb: ERROR Run kz7cvei2 errored: RuntimeError('cuDNN error: CUDNN_STATUS_NOT_SUPPORTED. This error may appear if you passed in a non-contiguous input.')\n",
      "wandb: Agent Starting Run: 4dxxegfy with config:\n",
      "wandb: \td: 8\n",
      "wandb: \tdropout: 0.3\n",
      "wandb: \timage_size: [512, 512]\n",
      "wandb: \titerations: 400\n",
      "wandb: \tlambda_: 0.2\n",
      "wandb: \tlr: 0.0001\n",
      "wandb: \tn_filters: 64\n",
      "wandb: \tnoise: 0\n",
      "wandb: \tprediction_stride: 4\n",
      "wandb: \tseed: 0\n",
      "wandb: \tsubset_size: 0.3\n"
     ]
    },
    {
     "data": {
      "text/html": [
       "Tracking run with wandb version 0.13.10"
      ],
      "text/plain": [
       "<IPython.core.display.HTML object>"
      ]
     },
     "metadata": {},
     "output_type": "display_data"
    },
    {
     "data": {
      "text/html": [
       "Run data is saved locally in <code>/home/ubuntu/thesis_implementation/wandb/run-20230226_022639-4dxxegfy</code>"
      ],
      "text/plain": [
       "<IPython.core.display.HTML object>"
      ]
     },
     "metadata": {},
     "output_type": "display_data"
    },
    {
     "data": {
      "text/html": [
       "Syncing run <strong><a href='https://wandb.ai/isaacwasserman/Graphically%20Guided%20Neural%20EM%20for%20Unsupervised%20Image%20Segmentation/runs/4dxxegfy' target=\"_blank\">distinctive-sweep-12</a></strong> to <a href='https://wandb.ai/isaacwasserman/Graphically%20Guided%20Neural%20EM%20for%20Unsupervised%20Image%20Segmentation' target=\"_blank\">Weights & Biases</a> (<a href='https://wandb.me/run' target=\"_blank\">docs</a>)<br/>Sweep page: <a href='https://wandb.ai/isaacwasserman/Graphically%20Guided%20Neural%20EM%20for%20Unsupervised%20Image%20Segmentation/sweeps/f60ae4yq' target=\"_blank\">https://wandb.ai/isaacwasserman/Graphically%20Guided%20Neural%20EM%20for%20Unsupervised%20Image%20Segmentation/sweeps/f60ae4yq</a>"
      ],
      "text/plain": [
       "<IPython.core.display.HTML object>"
      ]
     },
     "metadata": {},
     "output_type": "display_data"
    },
    {
     "data": {
      "text/html": [
       " View project at <a href='https://wandb.ai/isaacwasserman/Graphically%20Guided%20Neural%20EM%20for%20Unsupervised%20Image%20Segmentation' target=\"_blank\">https://wandb.ai/isaacwasserman/Graphically%20Guided%20Neural%20EM%20for%20Unsupervised%20Image%20Segmentation</a>"
      ],
      "text/plain": [
       "<IPython.core.display.HTML object>"
      ]
     },
     "metadata": {},
     "output_type": "display_data"
    },
    {
     "data": {
      "text/html": [
       " View sweep at <a href='https://wandb.ai/isaacwasserman/Graphically%20Guided%20Neural%20EM%20for%20Unsupervised%20Image%20Segmentation/sweeps/f60ae4yq' target=\"_blank\">https://wandb.ai/isaacwasserman/Graphically%20Guided%20Neural%20EM%20for%20Unsupervised%20Image%20Segmentation/sweeps/f60ae4yq</a>"
      ],
      "text/plain": [
       "<IPython.core.display.HTML object>"
      ]
     },
     "metadata": {},
     "output_type": "display_data"
    },
    {
     "data": {
      "text/html": [
       " View run at <a href='https://wandb.ai/isaacwasserman/Graphically%20Guided%20Neural%20EM%20for%20Unsupervised%20Image%20Segmentation/runs/4dxxegfy' target=\"_blank\">https://wandb.ai/isaacwasserman/Graphically%20Guided%20Neural%20EM%20for%20Unsupervised%20Image%20Segmentation/runs/4dxxegfy</a>"
      ],
      "text/plain": [
       "<IPython.core.display.HTML object>"
      ]
     },
     "metadata": {},
     "output_type": "display_data"
    },
    {
     "name": "stderr",
     "output_type": "stream",
     "text": [
      " 25%|██▌       | 1/4 [00:00<00:01,  2.77it/s]\n"
     ]
    },
    {
     "data": {
      "text/html": [
       "Waiting for W&B process to finish... <strong style=\"color:red\">(failed 1).</strong> Press Control-C to abort syncing."
      ],
      "text/plain": [
       "<IPython.core.display.HTML object>"
      ]
     },
     "metadata": {},
     "output_type": "display_data"
    },
    {
     "data": {
      "application/vnd.jupyter.widget-view+json": {
       "model_id": "d02de833b85d459aa933ab29ec9e28ae",
       "version_major": 2,
       "version_minor": 0
      },
      "text/plain": [
       "VBox(children=(Label(value='0.001 MB of 0.001 MB uploaded (0.000 MB deduped)\\r'), FloatProgress(value=1.0, max…"
      ]
     },
     "metadata": {},
     "output_type": "display_data"
    },
    {
     "data": {
      "text/html": [
       " View run <strong style=\"color:#cdcd00\">distinctive-sweep-12</strong> at: <a href='https://wandb.ai/isaacwasserman/Graphically%20Guided%20Neural%20EM%20for%20Unsupervised%20Image%20Segmentation/runs/4dxxegfy' target=\"_blank\">https://wandb.ai/isaacwasserman/Graphically%20Guided%20Neural%20EM%20for%20Unsupervised%20Image%20Segmentation/runs/4dxxegfy</a><br/>Synced 5 W&B file(s), 0 media file(s), 0 artifact file(s) and 0 other file(s)"
      ],
      "text/plain": [
       "<IPython.core.display.HTML object>"
      ]
     },
     "metadata": {},
     "output_type": "display_data"
    },
    {
     "data": {
      "text/html": [
       "Find logs at: <code>./wandb/run-20230226_022639-4dxxegfy/logs</code>"
      ],
      "text/plain": [
       "<IPython.core.display.HTML object>"
      ]
     },
     "metadata": {},
     "output_type": "display_data"
    },
    {
     "name": "stderr",
     "output_type": "stream",
     "text": [
      "Run 4dxxegfy errored: RuntimeError('CUDA out of memory. Tried to allocate 4.00 GiB (GPU 0; 22.06 GiB total capacity; 12.58 GiB already allocated; 128.44 MiB free; 20.27 GiB reserved in total by PyTorch) If reserved memory is >> allocated memory try setting max_split_size_mb to avoid fragmentation.  See documentation for Memory Management and PYTORCH_CUDA_ALLOC_CONF')\n",
      "wandb: ERROR Run 4dxxegfy errored: RuntimeError('CUDA out of memory. Tried to allocate 4.00 GiB (GPU 0; 22.06 GiB total capacity; 12.58 GiB already allocated; 128.44 MiB free; 20.27 GiB reserved in total by PyTorch) If reserved memory is >> allocated memory try setting max_split_size_mb to avoid fragmentation.  See documentation for Memory Management and PYTORCH_CUDA_ALLOC_CONF')\n",
      "wandb: Agent Starting Run: j0i9wpwg with config:\n",
      "wandb: \td: 16\n",
      "wandb: \tdropout: 0.4\n",
      "wandb: \timage_size: [512, 512]\n",
      "wandb: \titerations: 300\n",
      "wandb: \tlambda_: 0.5\n",
      "wandb: \tlr: 0.0005\n",
      "wandb: \tn_filters: 32\n",
      "wandb: \tnoise: 0\n",
      "wandb: \tprediction_stride: 4\n",
      "wandb: \tseed: 0\n",
      "wandb: \tsubset_size: 0.1\n"
     ]
    },
    {
     "data": {
      "text/html": [
       "Tracking run with wandb version 0.13.10"
      ],
      "text/plain": [
       "<IPython.core.display.HTML object>"
      ]
     },
     "metadata": {},
     "output_type": "display_data"
    },
    {
     "data": {
      "text/html": [
       "Run data is saved locally in <code>/home/ubuntu/thesis_implementation/wandb/run-20230226_022650-j0i9wpwg</code>"
      ],
      "text/plain": [
       "<IPython.core.display.HTML object>"
      ]
     },
     "metadata": {},
     "output_type": "display_data"
    },
    {
     "data": {
      "text/html": [
       "Syncing run <strong><a href='https://wandb.ai/isaacwasserman/Graphically%20Guided%20Neural%20EM%20for%20Unsupervised%20Image%20Segmentation/runs/j0i9wpwg' target=\"_blank\">dry-sweep-13</a></strong> to <a href='https://wandb.ai/isaacwasserman/Graphically%20Guided%20Neural%20EM%20for%20Unsupervised%20Image%20Segmentation' target=\"_blank\">Weights & Biases</a> (<a href='https://wandb.me/run' target=\"_blank\">docs</a>)<br/>Sweep page: <a href='https://wandb.ai/isaacwasserman/Graphically%20Guided%20Neural%20EM%20for%20Unsupervised%20Image%20Segmentation/sweeps/f60ae4yq' target=\"_blank\">https://wandb.ai/isaacwasserman/Graphically%20Guided%20Neural%20EM%20for%20Unsupervised%20Image%20Segmentation/sweeps/f60ae4yq</a>"
      ],
      "text/plain": [
       "<IPython.core.display.HTML object>"
      ]
     },
     "metadata": {},
     "output_type": "display_data"
    },
    {
     "data": {
      "text/html": [
       " View project at <a href='https://wandb.ai/isaacwasserman/Graphically%20Guided%20Neural%20EM%20for%20Unsupervised%20Image%20Segmentation' target=\"_blank\">https://wandb.ai/isaacwasserman/Graphically%20Guided%20Neural%20EM%20for%20Unsupervised%20Image%20Segmentation</a>"
      ],
      "text/plain": [
       "<IPython.core.display.HTML object>"
      ]
     },
     "metadata": {},
     "output_type": "display_data"
    },
    {
     "data": {
      "text/html": [
       " View sweep at <a href='https://wandb.ai/isaacwasserman/Graphically%20Guided%20Neural%20EM%20for%20Unsupervised%20Image%20Segmentation/sweeps/f60ae4yq' target=\"_blank\">https://wandb.ai/isaacwasserman/Graphically%20Guided%20Neural%20EM%20for%20Unsupervised%20Image%20Segmentation/sweeps/f60ae4yq</a>"
      ],
      "text/plain": [
       "<IPython.core.display.HTML object>"
      ]
     },
     "metadata": {},
     "output_type": "display_data"
    },
    {
     "data": {
      "text/html": [
       " View run at <a href='https://wandb.ai/isaacwasserman/Graphically%20Guided%20Neural%20EM%20for%20Unsupervised%20Image%20Segmentation/runs/j0i9wpwg' target=\"_blank\">https://wandb.ai/isaacwasserman/Graphically%20Guided%20Neural%20EM%20for%20Unsupervised%20Image%20Segmentation/runs/j0i9wpwg</a>"
      ],
      "text/plain": [
       "<IPython.core.display.HTML object>"
      ]
     },
     "metadata": {},
     "output_type": "display_data"
    },
    {
     "name": "stderr",
     "output_type": "stream",
     "text": [
      "100%|██████████| 4/4 [00:00<00:00, 129.97it/s]\n",
      "100%|██████████| 4/4 [00:00<00:00, 132.72it/s]\n",
      "100%|██████████| 4/4 [00:00<00:00, 127.32it/s]\n",
      "100%|██████████| 4/4 [00:00<00:00, 29.87it/s]\n",
      "100%|██████████| 4/4 [00:00<00:00, 75.22it/s]\n",
      "100%|██████████| 4/4 [00:00<00:00, 128.53it/s]\n"
     ]
    },
    {
     "data": {
      "text/html": [
       "Waiting for W&B process to finish... <strong style=\"color:green\">(success).</strong>"
      ],
      "text/plain": [
       "<IPython.core.display.HTML object>"
      ]
     },
     "metadata": {},
     "output_type": "display_data"
    },
    {
     "data": {
      "text/html": [
       "<style>\n",
       "    table.wandb td:nth-child(1) { padding: 0 10px; text-align: left ; width: auto;} td:nth-child(2) {text-align: left ; width: 100%}\n",
       "    .wandb-row { display: flex; flex-direction: row; flex-wrap: wrap; justify-content: flex-start; width: 100% }\n",
       "    .wandb-col { display: flex; flex-direction: column; flex-basis: 100%; flex: 1; padding: 10px; }\n",
       "    </style>\n",
       "<div class=\"wandb-row\"><div class=\"wandb-col\"><h3>Run history:</h3><br/><table class=\"wandb\"><tr><td>Avg. F1 Score</td><td>▁</td></tr></table><br/></div><div class=\"wandb-col\"><h3>Run summary:</h3><br/><table class=\"wandb\"><tr><td>Avg. F1 Score</td><td>0.73062</td></tr></table><br/></div></div>"
      ],
      "text/plain": [
       "<IPython.core.display.HTML object>"
      ]
     },
     "metadata": {},
     "output_type": "display_data"
    },
    {
     "data": {
      "text/html": [
       " View run <strong style=\"color:#cdcd00\">dry-sweep-13</strong> at: <a href='https://wandb.ai/isaacwasserman/Graphically%20Guided%20Neural%20EM%20for%20Unsupervised%20Image%20Segmentation/runs/j0i9wpwg' target=\"_blank\">https://wandb.ai/isaacwasserman/Graphically%20Guided%20Neural%20EM%20for%20Unsupervised%20Image%20Segmentation/runs/j0i9wpwg</a><br/>Synced 5 W&B file(s), 0 media file(s), 0 artifact file(s) and 0 other file(s)"
      ],
      "text/plain": [
       "<IPython.core.display.HTML object>"
      ]
     },
     "metadata": {},
     "output_type": "display_data"
    },
    {
     "data": {
      "text/html": [
       "Find logs at: <code>./wandb/run-20230226_022650-j0i9wpwg/logs</code>"
      ],
      "text/plain": [
       "<IPython.core.display.HTML object>"
      ]
     },
     "metadata": {},
     "output_type": "display_data"
    },
    {
     "name": "stderr",
     "output_type": "stream",
     "text": [
      "wandb: Agent Starting Run: wq4uvirg with config:\n",
      "wandb: \td: 64\n",
      "wandb: \tdropout: 0.5\n",
      "wandb: \timage_size: [512, 512]\n",
      "wandb: \titerations: 400\n",
      "wandb: \tlambda_: 0.3\n",
      "wandb: \tlr: 0.001\n",
      "wandb: \tn_filters: 64\n",
      "wandb: \tnoise: 0\n",
      "wandb: \tprediction_stride: 4\n",
      "wandb: \tseed: 0\n",
      "wandb: \tsubset_size: 0.5\n"
     ]
    },
    {
     "data": {
      "text/html": [
       "Tracking run with wandb version 0.13.10"
      ],
      "text/plain": [
       "<IPython.core.display.HTML object>"
      ]
     },
     "metadata": {},
     "output_type": "display_data"
    },
    {
     "data": {
      "text/html": [
       "Run data is saved locally in <code>/home/ubuntu/thesis_implementation/wandb/run-20230226_022715-wq4uvirg</code>"
      ],
      "text/plain": [
       "<IPython.core.display.HTML object>"
      ]
     },
     "metadata": {},
     "output_type": "display_data"
    },
    {
     "data": {
      "text/html": [
       "Syncing run <strong><a href='https://wandb.ai/isaacwasserman/Graphically%20Guided%20Neural%20EM%20for%20Unsupervised%20Image%20Segmentation/runs/wq4uvirg' target=\"_blank\">young-sweep-14</a></strong> to <a href='https://wandb.ai/isaacwasserman/Graphically%20Guided%20Neural%20EM%20for%20Unsupervised%20Image%20Segmentation' target=\"_blank\">Weights & Biases</a> (<a href='https://wandb.me/run' target=\"_blank\">docs</a>)<br/>Sweep page: <a href='https://wandb.ai/isaacwasserman/Graphically%20Guided%20Neural%20EM%20for%20Unsupervised%20Image%20Segmentation/sweeps/f60ae4yq' target=\"_blank\">https://wandb.ai/isaacwasserman/Graphically%20Guided%20Neural%20EM%20for%20Unsupervised%20Image%20Segmentation/sweeps/f60ae4yq</a>"
      ],
      "text/plain": [
       "<IPython.core.display.HTML object>"
      ]
     },
     "metadata": {},
     "output_type": "display_data"
    },
    {
     "data": {
      "text/html": [
       " View project at <a href='https://wandb.ai/isaacwasserman/Graphically%20Guided%20Neural%20EM%20for%20Unsupervised%20Image%20Segmentation' target=\"_blank\">https://wandb.ai/isaacwasserman/Graphically%20Guided%20Neural%20EM%20for%20Unsupervised%20Image%20Segmentation</a>"
      ],
      "text/plain": [
       "<IPython.core.display.HTML object>"
      ]
     },
     "metadata": {},
     "output_type": "display_data"
    },
    {
     "data": {
      "text/html": [
       " View sweep at <a href='https://wandb.ai/isaacwasserman/Graphically%20Guided%20Neural%20EM%20for%20Unsupervised%20Image%20Segmentation/sweeps/f60ae4yq' target=\"_blank\">https://wandb.ai/isaacwasserman/Graphically%20Guided%20Neural%20EM%20for%20Unsupervised%20Image%20Segmentation/sweeps/f60ae4yq</a>"
      ],
      "text/plain": [
       "<IPython.core.display.HTML object>"
      ]
     },
     "metadata": {},
     "output_type": "display_data"
    },
    {
     "data": {
      "text/html": [
       " View run at <a href='https://wandb.ai/isaacwasserman/Graphically%20Guided%20Neural%20EM%20for%20Unsupervised%20Image%20Segmentation/runs/wq4uvirg' target=\"_blank\">https://wandb.ai/isaacwasserman/Graphically%20Guided%20Neural%20EM%20for%20Unsupervised%20Image%20Segmentation/runs/wq4uvirg</a>"
      ],
      "text/plain": [
       "<IPython.core.display.HTML object>"
      ]
     },
     "metadata": {},
     "output_type": "display_data"
    },
    {
     "name": "stderr",
     "output_type": "stream",
     "text": [
      "100%|██████████| 4/4 [00:00<00:00, 127.02it/s]\n",
      "100%|██████████| 4/4 [00:00<00:00, 128.61it/s]\n",
      "100%|██████████| 4/4 [00:00<00:00, 128.08it/s]\n",
      "100%|██████████| 4/4 [00:00<00:00, 128.20it/s]\n",
      "100%|██████████| 4/4 [00:00<00:00, 69.13it/s]\n",
      "100%|██████████| 4/4 [00:00<00:00, 127.90it/s]\n"
     ]
    },
    {
     "data": {
      "text/html": [
       "Waiting for W&B process to finish... <strong style=\"color:green\">(success).</strong>"
      ],
      "text/plain": [
       "<IPython.core.display.HTML object>"
      ]
     },
     "metadata": {},
     "output_type": "display_data"
    },
    {
     "data": {
      "text/html": [
       "<style>\n",
       "    table.wandb td:nth-child(1) { padding: 0 10px; text-align: left ; width: auto;} td:nth-child(2) {text-align: left ; width: 100%}\n",
       "    .wandb-row { display: flex; flex-direction: row; flex-wrap: wrap; justify-content: flex-start; width: 100% }\n",
       "    .wandb-col { display: flex; flex-direction: column; flex-basis: 100%; flex: 1; padding: 10px; }\n",
       "    </style>\n",
       "<div class=\"wandb-row\"><div class=\"wandb-col\"><h3>Run history:</h3><br/><table class=\"wandb\"><tr><td>Avg. F1 Score</td><td>▁</td></tr></table><br/></div><div class=\"wandb-col\"><h3>Run summary:</h3><br/><table class=\"wandb\"><tr><td>Avg. F1 Score</td><td>0.60885</td></tr></table><br/></div></div>"
      ],
      "text/plain": [
       "<IPython.core.display.HTML object>"
      ]
     },
     "metadata": {},
     "output_type": "display_data"
    },
    {
     "data": {
      "text/html": [
       " View run <strong style=\"color:#cdcd00\">young-sweep-14</strong> at: <a href='https://wandb.ai/isaacwasserman/Graphically%20Guided%20Neural%20EM%20for%20Unsupervised%20Image%20Segmentation/runs/wq4uvirg' target=\"_blank\">https://wandb.ai/isaacwasserman/Graphically%20Guided%20Neural%20EM%20for%20Unsupervised%20Image%20Segmentation/runs/wq4uvirg</a><br/>Synced 5 W&B file(s), 0 media file(s), 0 artifact file(s) and 0 other file(s)"
      ],
      "text/plain": [
       "<IPython.core.display.HTML object>"
      ]
     },
     "metadata": {},
     "output_type": "display_data"
    },
    {
     "data": {
      "text/html": [
       "Find logs at: <code>./wandb/run-20230226_022715-wq4uvirg/logs</code>"
      ],
      "text/plain": [
       "<IPython.core.display.HTML object>"
      ]
     },
     "metadata": {},
     "output_type": "display_data"
    },
    {
     "name": "stderr",
     "output_type": "stream",
     "text": [
      "wandb: Agent Starting Run: qozcbqlh with config:\n",
      "wandb: \td: 16\n",
      "wandb: \tdropout: 0.4\n",
      "wandb: \timage_size: [512, 512]\n",
      "wandb: \titerations: 500\n",
      "wandb: \tlambda_: 0.1\n",
      "wandb: \tlr: 0.0005\n",
      "wandb: \tn_filters: 32\n",
      "wandb: \tnoise: 0\n",
      "wandb: \tprediction_stride: 4\n",
      "wandb: \tseed: 0\n",
      "wandb: \tsubset_size: 0.3\n"
     ]
    },
    {
     "data": {
      "text/html": [
       "Tracking run with wandb version 0.13.10"
      ],
      "text/plain": [
       "<IPython.core.display.HTML object>"
      ]
     },
     "metadata": {},
     "output_type": "display_data"
    },
    {
     "data": {
      "text/html": [
       "Run data is saved locally in <code>/home/ubuntu/thesis_implementation/wandb/run-20230226_022837-qozcbqlh</code>"
      ],
      "text/plain": [
       "<IPython.core.display.HTML object>"
      ]
     },
     "metadata": {},
     "output_type": "display_data"
    },
    {
     "data": {
      "text/html": [
       "Syncing run <strong><a href='https://wandb.ai/isaacwasserman/Graphically%20Guided%20Neural%20EM%20for%20Unsupervised%20Image%20Segmentation/runs/qozcbqlh' target=\"_blank\">deep-sweep-15</a></strong> to <a href='https://wandb.ai/isaacwasserman/Graphically%20Guided%20Neural%20EM%20for%20Unsupervised%20Image%20Segmentation' target=\"_blank\">Weights & Biases</a> (<a href='https://wandb.me/run' target=\"_blank\">docs</a>)<br/>Sweep page: <a href='https://wandb.ai/isaacwasserman/Graphically%20Guided%20Neural%20EM%20for%20Unsupervised%20Image%20Segmentation/sweeps/f60ae4yq' target=\"_blank\">https://wandb.ai/isaacwasserman/Graphically%20Guided%20Neural%20EM%20for%20Unsupervised%20Image%20Segmentation/sweeps/f60ae4yq</a>"
      ],
      "text/plain": [
       "<IPython.core.display.HTML object>"
      ]
     },
     "metadata": {},
     "output_type": "display_data"
    },
    {
     "data": {
      "text/html": [
       " View project at <a href='https://wandb.ai/isaacwasserman/Graphically%20Guided%20Neural%20EM%20for%20Unsupervised%20Image%20Segmentation' target=\"_blank\">https://wandb.ai/isaacwasserman/Graphically%20Guided%20Neural%20EM%20for%20Unsupervised%20Image%20Segmentation</a>"
      ],
      "text/plain": [
       "<IPython.core.display.HTML object>"
      ]
     },
     "metadata": {},
     "output_type": "display_data"
    },
    {
     "data": {
      "text/html": [
       " View sweep at <a href='https://wandb.ai/isaacwasserman/Graphically%20Guided%20Neural%20EM%20for%20Unsupervised%20Image%20Segmentation/sweeps/f60ae4yq' target=\"_blank\">https://wandb.ai/isaacwasserman/Graphically%20Guided%20Neural%20EM%20for%20Unsupervised%20Image%20Segmentation/sweeps/f60ae4yq</a>"
      ],
      "text/plain": [
       "<IPython.core.display.HTML object>"
      ]
     },
     "metadata": {},
     "output_type": "display_data"
    },
    {
     "data": {
      "text/html": [
       " View run at <a href='https://wandb.ai/isaacwasserman/Graphically%20Guided%20Neural%20EM%20for%20Unsupervised%20Image%20Segmentation/runs/qozcbqlh' target=\"_blank\">https://wandb.ai/isaacwasserman/Graphically%20Guided%20Neural%20EM%20for%20Unsupervised%20Image%20Segmentation/runs/qozcbqlh</a>"
      ],
      "text/plain": [
       "<IPython.core.display.HTML object>"
      ]
     },
     "metadata": {},
     "output_type": "display_data"
    },
    {
     "name": "stderr",
     "output_type": "stream",
     "text": [
      "100%|██████████| 4/4 [00:00<00:00, 117.30it/s]\n",
      "100%|██████████| 4/4 [00:00<00:00, 117.03it/s]\n",
      "100%|██████████| 4/4 [00:00<00:00, 118.10it/s]\n",
      "100%|██████████| 4/4 [00:00<00:00, 111.77it/s]\n",
      "100%|██████████| 4/4 [00:00<00:00, 115.53it/s]\n",
      "100%|██████████| 4/4 [00:00<00:00, 119.37it/s]\n"
     ]
    },
    {
     "data": {
      "text/html": [
       "Waiting for W&B process to finish... <strong style=\"color:green\">(success).</strong>"
      ],
      "text/plain": [
       "<IPython.core.display.HTML object>"
      ]
     },
     "metadata": {},
     "output_type": "display_data"
    },
    {
     "data": {
      "application/vnd.jupyter.widget-view+json": {
       "model_id": "e41161335e094cd39ae206167459c007",
       "version_major": 2,
       "version_minor": 0
      },
      "text/plain": [
       "VBox(children=(Label(value='0.001 MB of 0.001 MB uploaded (0.000 MB deduped)\\r'), FloatProgress(value=0.874113…"
      ]
     },
     "metadata": {},
     "output_type": "display_data"
    },
    {
     "data": {
      "text/html": [
       "<style>\n",
       "    table.wandb td:nth-child(1) { padding: 0 10px; text-align: left ; width: auto;} td:nth-child(2) {text-align: left ; width: 100%}\n",
       "    .wandb-row { display: flex; flex-direction: row; flex-wrap: wrap; justify-content: flex-start; width: 100% }\n",
       "    .wandb-col { display: flex; flex-direction: column; flex-basis: 100%; flex: 1; padding: 10px; }\n",
       "    </style>\n",
       "<div class=\"wandb-row\"><div class=\"wandb-col\"><h3>Run history:</h3><br/><table class=\"wandb\"><tr><td>Avg. F1 Score</td><td>▁</td></tr></table><br/></div><div class=\"wandb-col\"><h3>Run summary:</h3><br/><table class=\"wandb\"><tr><td>Avg. F1 Score</td><td>0.67822</td></tr></table><br/></div></div>"
      ],
      "text/plain": [
       "<IPython.core.display.HTML object>"
      ]
     },
     "metadata": {},
     "output_type": "display_data"
    },
    {
     "data": {
      "text/html": [
       " View run <strong style=\"color:#cdcd00\">deep-sweep-15</strong> at: <a href='https://wandb.ai/isaacwasserman/Graphically%20Guided%20Neural%20EM%20for%20Unsupervised%20Image%20Segmentation/runs/qozcbqlh' target=\"_blank\">https://wandb.ai/isaacwasserman/Graphically%20Guided%20Neural%20EM%20for%20Unsupervised%20Image%20Segmentation/runs/qozcbqlh</a><br/>Synced 5 W&B file(s), 0 media file(s), 0 artifact file(s) and 0 other file(s)"
      ],
      "text/plain": [
       "<IPython.core.display.HTML object>"
      ]
     },
     "metadata": {},
     "output_type": "display_data"
    },
    {
     "data": {
      "text/html": [
       "Find logs at: <code>./wandb/run-20230226_022837-qozcbqlh/logs</code>"
      ],
      "text/plain": [
       "<IPython.core.display.HTML object>"
      ]
     },
     "metadata": {},
     "output_type": "display_data"
    },
    {
     "name": "stderr",
     "output_type": "stream",
     "text": [
      "wandb: Agent Starting Run: x46efr4g with config:\n",
      "wandb: \td: 32\n",
      "wandb: \tdropout: 0.4\n",
      "wandb: \timage_size: [512, 512]\n",
      "wandb: \titerations: 400\n",
      "wandb: \tlambda_: 0.5\n",
      "wandb: \tlr: 0.01\n",
      "wandb: \tn_filters: 32\n",
      "wandb: \tnoise: 0\n",
      "wandb: \tprediction_stride: 4\n",
      "wandb: \tseed: 0\n",
      "wandb: \tsubset_size: 0.7\n"
     ]
    },
    {
     "data": {
      "text/html": [
       "Tracking run with wandb version 0.13.10"
      ],
      "text/plain": [
       "<IPython.core.display.HTML object>"
      ]
     },
     "metadata": {},
     "output_type": "display_data"
    },
    {
     "data": {
      "text/html": [
       "Run data is saved locally in <code>/home/ubuntu/thesis_implementation/wandb/run-20230226_022908-x46efr4g</code>"
      ],
      "text/plain": [
       "<IPython.core.display.HTML object>"
      ]
     },
     "metadata": {},
     "output_type": "display_data"
    },
    {
     "data": {
      "text/html": [
       "Syncing run <strong><a href='https://wandb.ai/isaacwasserman/Graphically%20Guided%20Neural%20EM%20for%20Unsupervised%20Image%20Segmentation/runs/x46efr4g' target=\"_blank\">hardy-sweep-16</a></strong> to <a href='https://wandb.ai/isaacwasserman/Graphically%20Guided%20Neural%20EM%20for%20Unsupervised%20Image%20Segmentation' target=\"_blank\">Weights & Biases</a> (<a href='https://wandb.me/run' target=\"_blank\">docs</a>)<br/>Sweep page: <a href='https://wandb.ai/isaacwasserman/Graphically%20Guided%20Neural%20EM%20for%20Unsupervised%20Image%20Segmentation/sweeps/f60ae4yq' target=\"_blank\">https://wandb.ai/isaacwasserman/Graphically%20Guided%20Neural%20EM%20for%20Unsupervised%20Image%20Segmentation/sweeps/f60ae4yq</a>"
      ],
      "text/plain": [
       "<IPython.core.display.HTML object>"
      ]
     },
     "metadata": {},
     "output_type": "display_data"
    },
    {
     "data": {
      "text/html": [
       " View project at <a href='https://wandb.ai/isaacwasserman/Graphically%20Guided%20Neural%20EM%20for%20Unsupervised%20Image%20Segmentation' target=\"_blank\">https://wandb.ai/isaacwasserman/Graphically%20Guided%20Neural%20EM%20for%20Unsupervised%20Image%20Segmentation</a>"
      ],
      "text/plain": [
       "<IPython.core.display.HTML object>"
      ]
     },
     "metadata": {},
     "output_type": "display_data"
    },
    {
     "data": {
      "text/html": [
       " View sweep at <a href='https://wandb.ai/isaacwasserman/Graphically%20Guided%20Neural%20EM%20for%20Unsupervised%20Image%20Segmentation/sweeps/f60ae4yq' target=\"_blank\">https://wandb.ai/isaacwasserman/Graphically%20Guided%20Neural%20EM%20for%20Unsupervised%20Image%20Segmentation/sweeps/f60ae4yq</a>"
      ],
      "text/plain": [
       "<IPython.core.display.HTML object>"
      ]
     },
     "metadata": {},
     "output_type": "display_data"
    },
    {
     "data": {
      "text/html": [
       " View run at <a href='https://wandb.ai/isaacwasserman/Graphically%20Guided%20Neural%20EM%20for%20Unsupervised%20Image%20Segmentation/runs/x46efr4g' target=\"_blank\">https://wandb.ai/isaacwasserman/Graphically%20Guided%20Neural%20EM%20for%20Unsupervised%20Image%20Segmentation/runs/x46efr4g</a>"
      ],
      "text/plain": [
       "<IPython.core.display.HTML object>"
      ]
     },
     "metadata": {},
     "output_type": "display_data"
    },
    {
     "name": "stderr",
     "output_type": "stream",
     "text": [
      "100%|██████████| 4/4 [00:00<00:00, 84.53it/s]\n",
      "100%|██████████| 4/4 [00:00<00:00, 84.85it/s]\n",
      "100%|██████████| 4/4 [00:00<00:00, 25.74it/s]\n",
      "100%|██████████| 4/4 [00:00<00:00, 86.77it/s]\n",
      "100%|██████████| 4/4 [00:00<00:00, 86.88it/s]\n",
      "100%|██████████| 4/4 [00:00<00:00, 87.23it/s]\n"
     ]
    },
    {
     "data": {
      "text/html": [
       "Waiting for W&B process to finish... <strong style=\"color:green\">(success).</strong>"
      ],
      "text/plain": [
       "<IPython.core.display.HTML object>"
      ]
     },
     "metadata": {},
     "output_type": "display_data"
    },
    {
     "data": {
      "application/vnd.jupyter.widget-view+json": {
       "model_id": "a391ae73bc094bbba5c6172965e1cda4",
       "version_major": 2,
       "version_minor": 0
      },
      "text/plain": [
       "VBox(children=(Label(value='0.001 MB of 0.001 MB uploaded (0.000 MB deduped)\\r'), FloatProgress(value=1.0, max…"
      ]
     },
     "metadata": {},
     "output_type": "display_data"
    },
    {
     "data": {
      "text/html": [
       "<style>\n",
       "    table.wandb td:nth-child(1) { padding: 0 10px; text-align: left ; width: auto;} td:nth-child(2) {text-align: left ; width: 100%}\n",
       "    .wandb-row { display: flex; flex-direction: row; flex-wrap: wrap; justify-content: flex-start; width: 100% }\n",
       "    .wandb-col { display: flex; flex-direction: column; flex-basis: 100%; flex: 1; padding: 10px; }\n",
       "    </style>\n",
       "<div class=\"wandb-row\"><div class=\"wandb-col\"><h3>Run history:</h3><br/><table class=\"wandb\"><tr><td>Avg. F1 Score</td><td>▁</td></tr></table><br/></div><div class=\"wandb-col\"><h3>Run summary:</h3><br/><table class=\"wandb\"><tr><td>Avg. F1 Score</td><td>0.70183</td></tr></table><br/></div></div>"
      ],
      "text/plain": [
       "<IPython.core.display.HTML object>"
      ]
     },
     "metadata": {},
     "output_type": "display_data"
    },
    {
     "data": {
      "text/html": [
       " View run <strong style=\"color:#cdcd00\">hardy-sweep-16</strong> at: <a href='https://wandb.ai/isaacwasserman/Graphically%20Guided%20Neural%20EM%20for%20Unsupervised%20Image%20Segmentation/runs/x46efr4g' target=\"_blank\">https://wandb.ai/isaacwasserman/Graphically%20Guided%20Neural%20EM%20for%20Unsupervised%20Image%20Segmentation/runs/x46efr4g</a><br/>Synced 5 W&B file(s), 0 media file(s), 0 artifact file(s) and 0 other file(s)"
      ],
      "text/plain": [
       "<IPython.core.display.HTML object>"
      ]
     },
     "metadata": {},
     "output_type": "display_data"
    },
    {
     "data": {
      "text/html": [
       "Find logs at: <code>./wandb/run-20230226_022908-x46efr4g/logs</code>"
      ],
      "text/plain": [
       "<IPython.core.display.HTML object>"
      ]
     },
     "metadata": {},
     "output_type": "display_data"
    },
    {
     "name": "stderr",
     "output_type": "stream",
     "text": [
      "wandb: Agent Starting Run: gyvw6qoj with config:\n",
      "wandb: \td: 16\n",
      "wandb: \tdropout: 0.1\n",
      "wandb: \timage_size: [512, 512]\n",
      "wandb: \titerations: 100\n",
      "wandb: \tlambda_: 0.1\n",
      "wandb: \tlr: 0.01\n",
      "wandb: \tn_filters: 64\n",
      "wandb: \tnoise: 0\n",
      "wandb: \tprediction_stride: 4\n",
      "wandb: \tseed: 0\n",
      "wandb: \tsubset_size: 0.1\n"
     ]
    },
    {
     "data": {
      "text/html": [
       "Tracking run with wandb version 0.13.10"
      ],
      "text/plain": [
       "<IPython.core.display.HTML object>"
      ]
     },
     "metadata": {},
     "output_type": "display_data"
    },
    {
     "data": {
      "text/html": [
       "Run data is saved locally in <code>/home/ubuntu/thesis_implementation/wandb/run-20230226_022944-gyvw6qoj</code>"
      ],
      "text/plain": [
       "<IPython.core.display.HTML object>"
      ]
     },
     "metadata": {},
     "output_type": "display_data"
    },
    {
     "data": {
      "text/html": [
       "Syncing run <strong><a href='https://wandb.ai/isaacwasserman/Graphically%20Guided%20Neural%20EM%20for%20Unsupervised%20Image%20Segmentation/runs/gyvw6qoj' target=\"_blank\">earnest-sweep-17</a></strong> to <a href='https://wandb.ai/isaacwasserman/Graphically%20Guided%20Neural%20EM%20for%20Unsupervised%20Image%20Segmentation' target=\"_blank\">Weights & Biases</a> (<a href='https://wandb.me/run' target=\"_blank\">docs</a>)<br/>Sweep page: <a href='https://wandb.ai/isaacwasserman/Graphically%20Guided%20Neural%20EM%20for%20Unsupervised%20Image%20Segmentation/sweeps/f60ae4yq' target=\"_blank\">https://wandb.ai/isaacwasserman/Graphically%20Guided%20Neural%20EM%20for%20Unsupervised%20Image%20Segmentation/sweeps/f60ae4yq</a>"
      ],
      "text/plain": [
       "<IPython.core.display.HTML object>"
      ]
     },
     "metadata": {},
     "output_type": "display_data"
    },
    {
     "data": {
      "text/html": [
       " View project at <a href='https://wandb.ai/isaacwasserman/Graphically%20Guided%20Neural%20EM%20for%20Unsupervised%20Image%20Segmentation' target=\"_blank\">https://wandb.ai/isaacwasserman/Graphically%20Guided%20Neural%20EM%20for%20Unsupervised%20Image%20Segmentation</a>"
      ],
      "text/plain": [
       "<IPython.core.display.HTML object>"
      ]
     },
     "metadata": {},
     "output_type": "display_data"
    },
    {
     "data": {
      "text/html": [
       " View sweep at <a href='https://wandb.ai/isaacwasserman/Graphically%20Guided%20Neural%20EM%20for%20Unsupervised%20Image%20Segmentation/sweeps/f60ae4yq' target=\"_blank\">https://wandb.ai/isaacwasserman/Graphically%20Guided%20Neural%20EM%20for%20Unsupervised%20Image%20Segmentation/sweeps/f60ae4yq</a>"
      ],
      "text/plain": [
       "<IPython.core.display.HTML object>"
      ]
     },
     "metadata": {},
     "output_type": "display_data"
    },
    {
     "data": {
      "text/html": [
       " View run at <a href='https://wandb.ai/isaacwasserman/Graphically%20Guided%20Neural%20EM%20for%20Unsupervised%20Image%20Segmentation/runs/gyvw6qoj' target=\"_blank\">https://wandb.ai/isaacwasserman/Graphically%20Guided%20Neural%20EM%20for%20Unsupervised%20Image%20Segmentation/runs/gyvw6qoj</a>"
      ],
      "text/plain": [
       "<IPython.core.display.HTML object>"
      ]
     },
     "metadata": {},
     "output_type": "display_data"
    },
    {
     "name": "stderr",
     "output_type": "stream",
     "text": [
      "100%|██████████| 4/4 [00:00<00:00, 127.01it/s]\n",
      "100%|██████████| 4/4 [00:00<00:00, 135.16it/s]\n",
      "100%|██████████| 4/4 [00:00<00:00, 137.28it/s]\n",
      "100%|██████████| 4/4 [00:00<00:00, 134.69it/s]\n",
      "100%|██████████| 4/4 [00:00<00:00, 133.95it/s]\n",
      "100%|██████████| 4/4 [00:00<00:00, 140.39it/s]\n"
     ]
    },
    {
     "data": {
      "text/html": [
       "Waiting for W&B process to finish... <strong style=\"color:green\">(success).</strong>"
      ],
      "text/plain": [
       "<IPython.core.display.HTML object>"
      ]
     },
     "metadata": {},
     "output_type": "display_data"
    },
    {
     "data": {
      "text/html": [
       "<style>\n",
       "    table.wandb td:nth-child(1) { padding: 0 10px; text-align: left ; width: auto;} td:nth-child(2) {text-align: left ; width: 100%}\n",
       "    .wandb-row { display: flex; flex-direction: row; flex-wrap: wrap; justify-content: flex-start; width: 100% }\n",
       "    .wandb-col { display: flex; flex-direction: column; flex-basis: 100%; flex: 1; padding: 10px; }\n",
       "    </style>\n",
       "<div class=\"wandb-row\"><div class=\"wandb-col\"><h3>Run history:</h3><br/><table class=\"wandb\"><tr><td>Avg. F1 Score</td><td>▁</td></tr></table><br/></div><div class=\"wandb-col\"><h3>Run summary:</h3><br/><table class=\"wandb\"><tr><td>Avg. F1 Score</td><td>0.67058</td></tr></table><br/></div></div>"
      ],
      "text/plain": [
       "<IPython.core.display.HTML object>"
      ]
     },
     "metadata": {},
     "output_type": "display_data"
    },
    {
     "data": {
      "text/html": [
       " View run <strong style=\"color:#cdcd00\">earnest-sweep-17</strong> at: <a href='https://wandb.ai/isaacwasserman/Graphically%20Guided%20Neural%20EM%20for%20Unsupervised%20Image%20Segmentation/runs/gyvw6qoj' target=\"_blank\">https://wandb.ai/isaacwasserman/Graphically%20Guided%20Neural%20EM%20for%20Unsupervised%20Image%20Segmentation/runs/gyvw6qoj</a><br/>Synced 5 W&B file(s), 0 media file(s), 0 artifact file(s) and 0 other file(s)"
      ],
      "text/plain": [
       "<IPython.core.display.HTML object>"
      ]
     },
     "metadata": {},
     "output_type": "display_data"
    },
    {
     "data": {
      "text/html": [
       "Find logs at: <code>./wandb/run-20230226_022944-gyvw6qoj/logs</code>"
      ],
      "text/plain": [
       "<IPython.core.display.HTML object>"
      ]
     },
     "metadata": {},
     "output_type": "display_data"
    },
    {
     "name": "stderr",
     "output_type": "stream",
     "text": [
      "wandb: Sweep Agent: Waiting for job.\n",
      "wandb: Job received.\n",
      "wandb: Agent Starting Run: rarp6448 with config:\n",
      "wandb: \td: 32\n",
      "wandb: \tdropout: 0.2\n",
      "wandb: \timage_size: [512, 512]\n",
      "wandb: \titerations: 100\n",
      "wandb: \tlambda_: 0.3\n",
      "wandb: \tlr: 0.0001\n",
      "wandb: \tn_filters: 128\n",
      "wandb: \tnoise: 0\n",
      "wandb: \tprediction_stride: 4\n",
      "wandb: \tseed: 0\n",
      "wandb: \tsubset_size: 0.5\n"
     ]
    },
    {
     "data": {
      "text/html": [
       "Tracking run with wandb version 0.13.10"
      ],
      "text/plain": [
       "<IPython.core.display.HTML object>"
      ]
     },
     "metadata": {},
     "output_type": "display_data"
    },
    {
     "data": {
      "text/html": [
       "Run data is saved locally in <code>/home/ubuntu/thesis_implementation/wandb/run-20230226_023009-rarp6448</code>"
      ],
      "text/plain": [
       "<IPython.core.display.HTML object>"
      ]
     },
     "metadata": {},
     "output_type": "display_data"
    },
    {
     "data": {
      "text/html": [
       "Syncing run <strong><a href='https://wandb.ai/isaacwasserman/Graphically%20Guided%20Neural%20EM%20for%20Unsupervised%20Image%20Segmentation/runs/rarp6448' target=\"_blank\">dauntless-sweep-18</a></strong> to <a href='https://wandb.ai/isaacwasserman/Graphically%20Guided%20Neural%20EM%20for%20Unsupervised%20Image%20Segmentation' target=\"_blank\">Weights & Biases</a> (<a href='https://wandb.me/run' target=\"_blank\">docs</a>)<br/>Sweep page: <a href='https://wandb.ai/isaacwasserman/Graphically%20Guided%20Neural%20EM%20for%20Unsupervised%20Image%20Segmentation/sweeps/f60ae4yq' target=\"_blank\">https://wandb.ai/isaacwasserman/Graphically%20Guided%20Neural%20EM%20for%20Unsupervised%20Image%20Segmentation/sweeps/f60ae4yq</a>"
      ],
      "text/plain": [
       "<IPython.core.display.HTML object>"
      ]
     },
     "metadata": {},
     "output_type": "display_data"
    },
    {
     "data": {
      "text/html": [
       " View project at <a href='https://wandb.ai/isaacwasserman/Graphically%20Guided%20Neural%20EM%20for%20Unsupervised%20Image%20Segmentation' target=\"_blank\">https://wandb.ai/isaacwasserman/Graphically%20Guided%20Neural%20EM%20for%20Unsupervised%20Image%20Segmentation</a>"
      ],
      "text/plain": [
       "<IPython.core.display.HTML object>"
      ]
     },
     "metadata": {},
     "output_type": "display_data"
    },
    {
     "data": {
      "text/html": [
       " View sweep at <a href='https://wandb.ai/isaacwasserman/Graphically%20Guided%20Neural%20EM%20for%20Unsupervised%20Image%20Segmentation/sweeps/f60ae4yq' target=\"_blank\">https://wandb.ai/isaacwasserman/Graphically%20Guided%20Neural%20EM%20for%20Unsupervised%20Image%20Segmentation/sweeps/f60ae4yq</a>"
      ],
      "text/plain": [
       "<IPython.core.display.HTML object>"
      ]
     },
     "metadata": {},
     "output_type": "display_data"
    },
    {
     "data": {
      "text/html": [
       " View run at <a href='https://wandb.ai/isaacwasserman/Graphically%20Guided%20Neural%20EM%20for%20Unsupervised%20Image%20Segmentation/runs/rarp6448' target=\"_blank\">https://wandb.ai/isaacwasserman/Graphically%20Guided%20Neural%20EM%20for%20Unsupervised%20Image%20Segmentation/runs/rarp6448</a>"
      ],
      "text/plain": [
       "<IPython.core.display.HTML object>"
      ]
     },
     "metadata": {},
     "output_type": "display_data"
    },
    {
     "name": "stderr",
     "output_type": "stream",
     "text": [
      "100%|██████████| 4/4 [00:00<00:00, 108.08it/s]\n",
      "100%|██████████| 4/4 [00:00<00:00, 117.16it/s]\n",
      "100%|██████████| 4/4 [00:00<00:00, 121.25it/s]\n",
      "100%|██████████| 4/4 [00:00<00:00, 112.24it/s]\n",
      "100%|██████████| 4/4 [00:00<00:00, 30.91it/s]\n",
      "100%|██████████| 4/4 [00:00<00:00, 117.27it/s]\n"
     ]
    },
    {
     "data": {
      "text/html": [
       "Waiting for W&B process to finish... <strong style=\"color:green\">(success).</strong>"
      ],
      "text/plain": [
       "<IPython.core.display.HTML object>"
      ]
     },
     "metadata": {},
     "output_type": "display_data"
    },
    {
     "data": {
      "application/vnd.jupyter.widget-view+json": {
       "model_id": "ae1247576f37467592a614159dba3420",
       "version_major": 2,
       "version_minor": 0
      },
      "text/plain": [
       "VBox(children=(Label(value='0.001 MB of 0.001 MB uploaded (0.000 MB deduped)\\r'), FloatProgress(value=1.0, max…"
      ]
     },
     "metadata": {},
     "output_type": "display_data"
    },
    {
     "data": {
      "text/html": [
       "<style>\n",
       "    table.wandb td:nth-child(1) { padding: 0 10px; text-align: left ; width: auto;} td:nth-child(2) {text-align: left ; width: 100%}\n",
       "    .wandb-row { display: flex; flex-direction: row; flex-wrap: wrap; justify-content: flex-start; width: 100% }\n",
       "    .wandb-col { display: flex; flex-direction: column; flex-basis: 100%; flex: 1; padding: 10px; }\n",
       "    </style>\n",
       "<div class=\"wandb-row\"><div class=\"wandb-col\"><h3>Run history:</h3><br/><table class=\"wandb\"><tr><td>Avg. F1 Score</td><td>▁</td></tr></table><br/></div><div class=\"wandb-col\"><h3>Run summary:</h3><br/><table class=\"wandb\"><tr><td>Avg. F1 Score</td><td>0.75901</td></tr></table><br/></div></div>"
      ],
      "text/plain": [
       "<IPython.core.display.HTML object>"
      ]
     },
     "metadata": {},
     "output_type": "display_data"
    },
    {
     "data": {
      "text/html": [
       " View run <strong style=\"color:#cdcd00\">dauntless-sweep-18</strong> at: <a href='https://wandb.ai/isaacwasserman/Graphically%20Guided%20Neural%20EM%20for%20Unsupervised%20Image%20Segmentation/runs/rarp6448' target=\"_blank\">https://wandb.ai/isaacwasserman/Graphically%20Guided%20Neural%20EM%20for%20Unsupervised%20Image%20Segmentation/runs/rarp6448</a><br/>Synced 5 W&B file(s), 0 media file(s), 0 artifact file(s) and 0 other file(s)"
      ],
      "text/plain": [
       "<IPython.core.display.HTML object>"
      ]
     },
     "metadata": {},
     "output_type": "display_data"
    },
    {
     "data": {
      "text/html": [
       "Find logs at: <code>./wandb/run-20230226_023009-rarp6448/logs</code>"
      ],
      "text/plain": [
       "<IPython.core.display.HTML object>"
      ]
     },
     "metadata": {},
     "output_type": "display_data"
    },
    {
     "name": "stderr",
     "output_type": "stream",
     "text": [
      "wandb: Agent Starting Run: 7vhr5jy9 with config:\n",
      "wandb: \td: 8\n",
      "wandb: \tdropout: 0.3\n",
      "wandb: \timage_size: [512, 512]\n",
      "wandb: \titerations: 200\n",
      "wandb: \tlambda_: 0.1\n",
      "wandb: \tlr: 0.0001\n",
      "wandb: \tn_filters: 64\n",
      "wandb: \tnoise: 0\n",
      "wandb: \tprediction_stride: 4\n",
      "wandb: \tseed: 0\n",
      "wandb: \tsubset_size: 0.7\n"
     ]
    },
    {
     "data": {
      "text/html": [
       "Tracking run with wandb version 0.13.10"
      ],
      "text/plain": [
       "<IPython.core.display.HTML object>"
      ]
     },
     "metadata": {},
     "output_type": "display_data"
    },
    {
     "data": {
      "text/html": [
       "Run data is saved locally in <code>/home/ubuntu/thesis_implementation/wandb/run-20230226_023039-7vhr5jy9</code>"
      ],
      "text/plain": [
       "<IPython.core.display.HTML object>"
      ]
     },
     "metadata": {},
     "output_type": "display_data"
    },
    {
     "data": {
      "text/html": [
       "Syncing run <strong><a href='https://wandb.ai/isaacwasserman/Graphically%20Guided%20Neural%20EM%20for%20Unsupervised%20Image%20Segmentation/runs/7vhr5jy9' target=\"_blank\">skilled-sweep-19</a></strong> to <a href='https://wandb.ai/isaacwasserman/Graphically%20Guided%20Neural%20EM%20for%20Unsupervised%20Image%20Segmentation' target=\"_blank\">Weights & Biases</a> (<a href='https://wandb.me/run' target=\"_blank\">docs</a>)<br/>Sweep page: <a href='https://wandb.ai/isaacwasserman/Graphically%20Guided%20Neural%20EM%20for%20Unsupervised%20Image%20Segmentation/sweeps/f60ae4yq' target=\"_blank\">https://wandb.ai/isaacwasserman/Graphically%20Guided%20Neural%20EM%20for%20Unsupervised%20Image%20Segmentation/sweeps/f60ae4yq</a>"
      ],
      "text/plain": [
       "<IPython.core.display.HTML object>"
      ]
     },
     "metadata": {},
     "output_type": "display_data"
    },
    {
     "data": {
      "text/html": [
       " View project at <a href='https://wandb.ai/isaacwasserman/Graphically%20Guided%20Neural%20EM%20for%20Unsupervised%20Image%20Segmentation' target=\"_blank\">https://wandb.ai/isaacwasserman/Graphically%20Guided%20Neural%20EM%20for%20Unsupervised%20Image%20Segmentation</a>"
      ],
      "text/plain": [
       "<IPython.core.display.HTML object>"
      ]
     },
     "metadata": {},
     "output_type": "display_data"
    },
    {
     "data": {
      "text/html": [
       " View sweep at <a href='https://wandb.ai/isaacwasserman/Graphically%20Guided%20Neural%20EM%20for%20Unsupervised%20Image%20Segmentation/sweeps/f60ae4yq' target=\"_blank\">https://wandb.ai/isaacwasserman/Graphically%20Guided%20Neural%20EM%20for%20Unsupervised%20Image%20Segmentation/sweeps/f60ae4yq</a>"
      ],
      "text/plain": [
       "<IPython.core.display.HTML object>"
      ]
     },
     "metadata": {},
     "output_type": "display_data"
    },
    {
     "data": {
      "text/html": [
       " View run at <a href='https://wandb.ai/isaacwasserman/Graphically%20Guided%20Neural%20EM%20for%20Unsupervised%20Image%20Segmentation/runs/7vhr5jy9' target=\"_blank\">https://wandb.ai/isaacwasserman/Graphically%20Guided%20Neural%20EM%20for%20Unsupervised%20Image%20Segmentation/runs/7vhr5jy9</a>"
      ],
      "text/plain": [
       "<IPython.core.display.HTML object>"
      ]
     },
     "metadata": {},
     "output_type": "display_data"
    },
    {
     "name": "stderr",
     "output_type": "stream",
     "text": [
      "  0%|          | 0/4 [00:00<?, ?it/s]\n"
     ]
    },
    {
     "data": {
      "text/html": [
       "Waiting for W&B process to finish... <strong style=\"color:red\">(failed 1).</strong> Press Control-C to abort syncing."
      ],
      "text/plain": [
       "<IPython.core.display.HTML object>"
      ]
     },
     "metadata": {},
     "output_type": "display_data"
    },
    {
     "data": {
      "application/vnd.jupyter.widget-view+json": {
       "model_id": "9faf7c7768c84ceabf6e248e25fb183e",
       "version_major": 2,
       "version_minor": 0
      },
      "text/plain": [
       "VBox(children=(Label(value='0.001 MB of 0.001 MB uploaded (0.000 MB deduped)\\r'), FloatProgress(value=1.0, max…"
      ]
     },
     "metadata": {},
     "output_type": "display_data"
    },
    {
     "data": {
      "text/html": [
       " View run <strong style=\"color:#cdcd00\">skilled-sweep-19</strong> at: <a href='https://wandb.ai/isaacwasserman/Graphically%20Guided%20Neural%20EM%20for%20Unsupervised%20Image%20Segmentation/runs/7vhr5jy9' target=\"_blank\">https://wandb.ai/isaacwasserman/Graphically%20Guided%20Neural%20EM%20for%20Unsupervised%20Image%20Segmentation/runs/7vhr5jy9</a><br/>Synced 5 W&B file(s), 0 media file(s), 0 artifact file(s) and 0 other file(s)"
      ],
      "text/plain": [
       "<IPython.core.display.HTML object>"
      ]
     },
     "metadata": {},
     "output_type": "display_data"
    },
    {
     "data": {
      "text/html": [
       "Find logs at: <code>./wandb/run-20230226_023039-7vhr5jy9/logs</code>"
      ],
      "text/plain": [
       "<IPython.core.display.HTML object>"
      ]
     },
     "metadata": {},
     "output_type": "display_data"
    },
    {
     "name": "stderr",
     "output_type": "stream",
     "text": [
      "Run 7vhr5jy9 errored: RuntimeError('CUDA out of memory. Tried to allocate 4.00 GiB (GPU 0; 22.06 GiB total capacity; 12.77 GiB already allocated; 128.44 MiB free; 20.27 GiB reserved in total by PyTorch) If reserved memory is >> allocated memory try setting max_split_size_mb to avoid fragmentation.  See documentation for Memory Management and PYTORCH_CUDA_ALLOC_CONF')\n",
      "wandb: ERROR Run 7vhr5jy9 errored: RuntimeError('CUDA out of memory. Tried to allocate 4.00 GiB (GPU 0; 22.06 GiB total capacity; 12.77 GiB already allocated; 128.44 MiB free; 20.27 GiB reserved in total by PyTorch) If reserved memory is >> allocated memory try setting max_split_size_mb to avoid fragmentation.  See documentation for Memory Management and PYTORCH_CUDA_ALLOC_CONF')\n",
      "wandb: Agent Starting Run: 3yj698ul with config:\n",
      "wandb: \td: 16\n",
      "wandb: \tdropout: 0.1\n",
      "wandb: \timage_size: [512, 512]\n",
      "wandb: \titerations: 300\n",
      "wandb: \tlambda_: 0.3\n",
      "wandb: \tlr: 0.001\n",
      "wandb: \tn_filters: 16\n",
      "wandb: \tnoise: 0\n",
      "wandb: \tprediction_stride: 4\n",
      "wandb: \tseed: 0\n",
      "wandb: \tsubset_size: 0.5\n"
     ]
    },
    {
     "data": {
      "text/html": [
       "Tracking run with wandb version 0.13.10"
      ],
      "text/plain": [
       "<IPython.core.display.HTML object>"
      ]
     },
     "metadata": {},
     "output_type": "display_data"
    },
    {
     "data": {
      "text/html": [
       "Run data is saved locally in <code>/home/ubuntu/thesis_implementation/wandb/run-20230226_023051-3yj698ul</code>"
      ],
      "text/plain": [
       "<IPython.core.display.HTML object>"
      ]
     },
     "metadata": {},
     "output_type": "display_data"
    },
    {
     "data": {
      "text/html": [
       "Syncing run <strong><a href='https://wandb.ai/isaacwasserman/Graphically%20Guided%20Neural%20EM%20for%20Unsupervised%20Image%20Segmentation/runs/3yj698ul' target=\"_blank\">ruby-sweep-20</a></strong> to <a href='https://wandb.ai/isaacwasserman/Graphically%20Guided%20Neural%20EM%20for%20Unsupervised%20Image%20Segmentation' target=\"_blank\">Weights & Biases</a> (<a href='https://wandb.me/run' target=\"_blank\">docs</a>)<br/>Sweep page: <a href='https://wandb.ai/isaacwasserman/Graphically%20Guided%20Neural%20EM%20for%20Unsupervised%20Image%20Segmentation/sweeps/f60ae4yq' target=\"_blank\">https://wandb.ai/isaacwasserman/Graphically%20Guided%20Neural%20EM%20for%20Unsupervised%20Image%20Segmentation/sweeps/f60ae4yq</a>"
      ],
      "text/plain": [
       "<IPython.core.display.HTML object>"
      ]
     },
     "metadata": {},
     "output_type": "display_data"
    },
    {
     "data": {
      "text/html": [
       " View project at <a href='https://wandb.ai/isaacwasserman/Graphically%20Guided%20Neural%20EM%20for%20Unsupervised%20Image%20Segmentation' target=\"_blank\">https://wandb.ai/isaacwasserman/Graphically%20Guided%20Neural%20EM%20for%20Unsupervised%20Image%20Segmentation</a>"
      ],
      "text/plain": [
       "<IPython.core.display.HTML object>"
      ]
     },
     "metadata": {},
     "output_type": "display_data"
    },
    {
     "data": {
      "text/html": [
       " View sweep at <a href='https://wandb.ai/isaacwasserman/Graphically%20Guided%20Neural%20EM%20for%20Unsupervised%20Image%20Segmentation/sweeps/f60ae4yq' target=\"_blank\">https://wandb.ai/isaacwasserman/Graphically%20Guided%20Neural%20EM%20for%20Unsupervised%20Image%20Segmentation/sweeps/f60ae4yq</a>"
      ],
      "text/plain": [
       "<IPython.core.display.HTML object>"
      ]
     },
     "metadata": {},
     "output_type": "display_data"
    },
    {
     "data": {
      "text/html": [
       " View run at <a href='https://wandb.ai/isaacwasserman/Graphically%20Guided%20Neural%20EM%20for%20Unsupervised%20Image%20Segmentation/runs/3yj698ul' target=\"_blank\">https://wandb.ai/isaacwasserman/Graphically%20Guided%20Neural%20EM%20for%20Unsupervised%20Image%20Segmentation/runs/3yj698ul</a>"
      ],
      "text/plain": [
       "<IPython.core.display.HTML object>"
      ]
     },
     "metadata": {},
     "output_type": "display_data"
    },
    {
     "name": "stderr",
     "output_type": "stream",
     "text": [
      "100%|██████████| 4/4 [00:00<00:00, 121.76it/s]\n",
      "100%|██████████| 4/4 [00:00<00:00, 129.43it/s]\n",
      "100%|██████████| 4/4 [00:00<00:00, 129.55it/s]\n",
      "100%|██████████| 4/4 [00:00<00:00, 132.25it/s]\n",
      "100%|██████████| 4/4 [00:00<00:00, 144.27it/s]\n",
      "100%|██████████| 4/4 [00:00<00:00, 130.18it/s]\n"
     ]
    },
    {
     "data": {
      "text/html": [
       "Waiting for W&B process to finish... <strong style=\"color:green\">(success).</strong>"
      ],
      "text/plain": [
       "<IPython.core.display.HTML object>"
      ]
     },
     "metadata": {},
     "output_type": "display_data"
    },
    {
     "data": {
      "application/vnd.jupyter.widget-view+json": {
       "model_id": "0b81cf8353fb474aae6e10fb1f62f33d",
       "version_major": 2,
       "version_minor": 0
      },
      "text/plain": [
       "VBox(children=(Label(value='0.001 MB of 0.001 MB uploaded (0.000 MB deduped)\\r'), FloatProgress(value=1.0, max…"
      ]
     },
     "metadata": {},
     "output_type": "display_data"
    },
    {
     "data": {
      "text/html": [
       "<style>\n",
       "    table.wandb td:nth-child(1) { padding: 0 10px; text-align: left ; width: auto;} td:nth-child(2) {text-align: left ; width: 100%}\n",
       "    .wandb-row { display: flex; flex-direction: row; flex-wrap: wrap; justify-content: flex-start; width: 100% }\n",
       "    .wandb-col { display: flex; flex-direction: column; flex-basis: 100%; flex: 1; padding: 10px; }\n",
       "    </style>\n",
       "<div class=\"wandb-row\"><div class=\"wandb-col\"><h3>Run history:</h3><br/><table class=\"wandb\"><tr><td>Avg. F1 Score</td><td>▁</td></tr></table><br/></div><div class=\"wandb-col\"><h3>Run summary:</h3><br/><table class=\"wandb\"><tr><td>Avg. F1 Score</td><td>0.68723</td></tr></table><br/></div></div>"
      ],
      "text/plain": [
       "<IPython.core.display.HTML object>"
      ]
     },
     "metadata": {},
     "output_type": "display_data"
    },
    {
     "data": {
      "text/html": [
       " View run <strong style=\"color:#cdcd00\">ruby-sweep-20</strong> at: <a href='https://wandb.ai/isaacwasserman/Graphically%20Guided%20Neural%20EM%20for%20Unsupervised%20Image%20Segmentation/runs/3yj698ul' target=\"_blank\">https://wandb.ai/isaacwasserman/Graphically%20Guided%20Neural%20EM%20for%20Unsupervised%20Image%20Segmentation/runs/3yj698ul</a><br/>Synced 5 W&B file(s), 0 media file(s), 0 artifact file(s) and 0 other file(s)"
      ],
      "text/plain": [
       "<IPython.core.display.HTML object>"
      ]
     },
     "metadata": {},
     "output_type": "display_data"
    },
    {
     "data": {
      "text/html": [
       "Find logs at: <code>./wandb/run-20230226_023051-3yj698ul/logs</code>"
      ],
      "text/plain": [
       "<IPython.core.display.HTML object>"
      ]
     },
     "metadata": {},
     "output_type": "display_data"
    },
    {
     "name": "stderr",
     "output_type": "stream",
     "text": [
      "wandb: Agent Starting Run: 2ghnsysi with config:\n",
      "wandb: \td: 32\n",
      "wandb: \tdropout: 0.1\n",
      "wandb: \timage_size: [512, 512]\n",
      "wandb: \titerations: 200\n",
      "wandb: \tlambda_: 0.3\n",
      "wandb: \tlr: 0.001\n",
      "wandb: \tn_filters: 128\n",
      "wandb: \tnoise: 0\n",
      "wandb: \tprediction_stride: 4\n",
      "wandb: \tseed: 0\n",
      "wandb: \tsubset_size: 0.3\n"
     ]
    },
    {
     "data": {
      "text/html": [
       "Tracking run with wandb version 0.13.10"
      ],
      "text/plain": [
       "<IPython.core.display.HTML object>"
      ]
     },
     "metadata": {},
     "output_type": "display_data"
    },
    {
     "data": {
      "text/html": [
       "Run data is saved locally in <code>/home/ubuntu/thesis_implementation/wandb/run-20230226_023111-2ghnsysi</code>"
      ],
      "text/plain": [
       "<IPython.core.display.HTML object>"
      ]
     },
     "metadata": {},
     "output_type": "display_data"
    },
    {
     "data": {
      "text/html": [
       "Syncing run <strong><a href='https://wandb.ai/isaacwasserman/Graphically%20Guided%20Neural%20EM%20for%20Unsupervised%20Image%20Segmentation/runs/2ghnsysi' target=\"_blank\">blooming-sweep-21</a></strong> to <a href='https://wandb.ai/isaacwasserman/Graphically%20Guided%20Neural%20EM%20for%20Unsupervised%20Image%20Segmentation' target=\"_blank\">Weights & Biases</a> (<a href='https://wandb.me/run' target=\"_blank\">docs</a>)<br/>Sweep page: <a href='https://wandb.ai/isaacwasserman/Graphically%20Guided%20Neural%20EM%20for%20Unsupervised%20Image%20Segmentation/sweeps/f60ae4yq' target=\"_blank\">https://wandb.ai/isaacwasserman/Graphically%20Guided%20Neural%20EM%20for%20Unsupervised%20Image%20Segmentation/sweeps/f60ae4yq</a>"
      ],
      "text/plain": [
       "<IPython.core.display.HTML object>"
      ]
     },
     "metadata": {},
     "output_type": "display_data"
    },
    {
     "data": {
      "text/html": [
       " View project at <a href='https://wandb.ai/isaacwasserman/Graphically%20Guided%20Neural%20EM%20for%20Unsupervised%20Image%20Segmentation' target=\"_blank\">https://wandb.ai/isaacwasserman/Graphically%20Guided%20Neural%20EM%20for%20Unsupervised%20Image%20Segmentation</a>"
      ],
      "text/plain": [
       "<IPython.core.display.HTML object>"
      ]
     },
     "metadata": {},
     "output_type": "display_data"
    },
    {
     "data": {
      "text/html": [
       " View sweep at <a href='https://wandb.ai/isaacwasserman/Graphically%20Guided%20Neural%20EM%20for%20Unsupervised%20Image%20Segmentation/sweeps/f60ae4yq' target=\"_blank\">https://wandb.ai/isaacwasserman/Graphically%20Guided%20Neural%20EM%20for%20Unsupervised%20Image%20Segmentation/sweeps/f60ae4yq</a>"
      ],
      "text/plain": [
       "<IPython.core.display.HTML object>"
      ]
     },
     "metadata": {},
     "output_type": "display_data"
    },
    {
     "data": {
      "text/html": [
       " View run at <a href='https://wandb.ai/isaacwasserman/Graphically%20Guided%20Neural%20EM%20for%20Unsupervised%20Image%20Segmentation/runs/2ghnsysi' target=\"_blank\">https://wandb.ai/isaacwasserman/Graphically%20Guided%20Neural%20EM%20for%20Unsupervised%20Image%20Segmentation/runs/2ghnsysi</a>"
      ],
      "text/plain": [
       "<IPython.core.display.HTML object>"
      ]
     },
     "metadata": {},
     "output_type": "display_data"
    },
    {
     "name": "stderr",
     "output_type": "stream",
     "text": [
      "100%|██████████| 4/4 [00:00<00:00, 59.44it/s]\n",
      "100%|██████████| 4/4 [00:00<00:00, 103.90it/s]\n",
      "100%|██████████| 4/4 [00:00<00:00, 105.81it/s]\n",
      "100%|██████████| 4/4 [00:00<00:00, 124.94it/s]\n",
      "100%|██████████| 4/4 [00:00<00:00, 105.85it/s]\n",
      "100%|██████████| 4/4 [00:00<00:00, 29.44it/s]\n"
     ]
    },
    {
     "data": {
      "text/html": [
       "Waiting for W&B process to finish... <strong style=\"color:green\">(success).</strong>"
      ],
      "text/plain": [
       "<IPython.core.display.HTML object>"
      ]
     },
     "metadata": {},
     "output_type": "display_data"
    },
    {
     "data": {
      "application/vnd.jupyter.widget-view+json": {
       "model_id": "b96a988b311c4fc9868a6a1676c9bf3c",
       "version_major": 2,
       "version_minor": 0
      },
      "text/plain": [
       "VBox(children=(Label(value='0.001 MB of 0.002 MB uploaded (0.000 MB deduped)\\r'), FloatProgress(value=0.416737…"
      ]
     },
     "metadata": {},
     "output_type": "display_data"
    },
    {
     "data": {
      "text/html": [
       "<style>\n",
       "    table.wandb td:nth-child(1) { padding: 0 10px; text-align: left ; width: auto;} td:nth-child(2) {text-align: left ; width: 100%}\n",
       "    .wandb-row { display: flex; flex-direction: row; flex-wrap: wrap; justify-content: flex-start; width: 100% }\n",
       "    .wandb-col { display: flex; flex-direction: column; flex-basis: 100%; flex: 1; padding: 10px; }\n",
       "    </style>\n",
       "<div class=\"wandb-row\"><div class=\"wandb-col\"><h3>Run history:</h3><br/><table class=\"wandb\"><tr><td>Avg. F1 Score</td><td>▁</td></tr></table><br/></div><div class=\"wandb-col\"><h3>Run summary:</h3><br/><table class=\"wandb\"><tr><td>Avg. F1 Score</td><td>0.67753</td></tr></table><br/></div></div>"
      ],
      "text/plain": [
       "<IPython.core.display.HTML object>"
      ]
     },
     "metadata": {},
     "output_type": "display_data"
    },
    {
     "data": {
      "text/html": [
       " View run <strong style=\"color:#cdcd00\">blooming-sweep-21</strong> at: <a href='https://wandb.ai/isaacwasserman/Graphically%20Guided%20Neural%20EM%20for%20Unsupervised%20Image%20Segmentation/runs/2ghnsysi' target=\"_blank\">https://wandb.ai/isaacwasserman/Graphically%20Guided%20Neural%20EM%20for%20Unsupervised%20Image%20Segmentation/runs/2ghnsysi</a><br/>Synced 5 W&B file(s), 0 media file(s), 0 artifact file(s) and 0 other file(s)"
      ],
      "text/plain": [
       "<IPython.core.display.HTML object>"
      ]
     },
     "metadata": {},
     "output_type": "display_data"
    },
    {
     "data": {
      "text/html": [
       "Find logs at: <code>./wandb/run-20230226_023111-2ghnsysi/logs</code>"
      ],
      "text/plain": [
       "<IPython.core.display.HTML object>"
      ]
     },
     "metadata": {},
     "output_type": "display_data"
    },
    {
     "name": "stderr",
     "output_type": "stream",
     "text": [
      "wandb: Agent Starting Run: 6c5abcc5 with config:\n",
      "wandb: \td: 32\n",
      "wandb: \tdropout: 0.2\n",
      "wandb: \timage_size: [512, 512]\n",
      "wandb: \titerations: 400\n",
      "wandb: \tlambda_: 0.1\n",
      "wandb: \tlr: 0.0005\n",
      "wandb: \tn_filters: 32\n",
      "wandb: \tnoise: 0\n",
      "wandb: \tprediction_stride: 4\n",
      "wandb: \tseed: 0\n",
      "wandb: \tsubset_size: 0.7\n"
     ]
    },
    {
     "data": {
      "text/html": [
       "Tracking run with wandb version 0.13.10"
      ],
      "text/plain": [
       "<IPython.core.display.HTML object>"
      ]
     },
     "metadata": {},
     "output_type": "display_data"
    },
    {
     "data": {
      "text/html": [
       "Run data is saved locally in <code>/home/ubuntu/thesis_implementation/wandb/run-20230226_023151-6c5abcc5</code>"
      ],
      "text/plain": [
       "<IPython.core.display.HTML object>"
      ]
     },
     "metadata": {},
     "output_type": "display_data"
    },
    {
     "data": {
      "text/html": [
       "Syncing run <strong><a href='https://wandb.ai/isaacwasserman/Graphically%20Guided%20Neural%20EM%20for%20Unsupervised%20Image%20Segmentation/runs/6c5abcc5' target=\"_blank\">gallant-sweep-22</a></strong> to <a href='https://wandb.ai/isaacwasserman/Graphically%20Guided%20Neural%20EM%20for%20Unsupervised%20Image%20Segmentation' target=\"_blank\">Weights & Biases</a> (<a href='https://wandb.me/run' target=\"_blank\">docs</a>)<br/>Sweep page: <a href='https://wandb.ai/isaacwasserman/Graphically%20Guided%20Neural%20EM%20for%20Unsupervised%20Image%20Segmentation/sweeps/f60ae4yq' target=\"_blank\">https://wandb.ai/isaacwasserman/Graphically%20Guided%20Neural%20EM%20for%20Unsupervised%20Image%20Segmentation/sweeps/f60ae4yq</a>"
      ],
      "text/plain": [
       "<IPython.core.display.HTML object>"
      ]
     },
     "metadata": {},
     "output_type": "display_data"
    },
    {
     "data": {
      "text/html": [
       " View project at <a href='https://wandb.ai/isaacwasserman/Graphically%20Guided%20Neural%20EM%20for%20Unsupervised%20Image%20Segmentation' target=\"_blank\">https://wandb.ai/isaacwasserman/Graphically%20Guided%20Neural%20EM%20for%20Unsupervised%20Image%20Segmentation</a>"
      ],
      "text/plain": [
       "<IPython.core.display.HTML object>"
      ]
     },
     "metadata": {},
     "output_type": "display_data"
    },
    {
     "data": {
      "text/html": [
       " View sweep at <a href='https://wandb.ai/isaacwasserman/Graphically%20Guided%20Neural%20EM%20for%20Unsupervised%20Image%20Segmentation/sweeps/f60ae4yq' target=\"_blank\">https://wandb.ai/isaacwasserman/Graphically%20Guided%20Neural%20EM%20for%20Unsupervised%20Image%20Segmentation/sweeps/f60ae4yq</a>"
      ],
      "text/plain": [
       "<IPython.core.display.HTML object>"
      ]
     },
     "metadata": {},
     "output_type": "display_data"
    },
    {
     "data": {
      "text/html": [
       " View run at <a href='https://wandb.ai/isaacwasserman/Graphically%20Guided%20Neural%20EM%20for%20Unsupervised%20Image%20Segmentation/runs/6c5abcc5' target=\"_blank\">https://wandb.ai/isaacwasserman/Graphically%20Guided%20Neural%20EM%20for%20Unsupervised%20Image%20Segmentation/runs/6c5abcc5</a>"
      ],
      "text/plain": [
       "<IPython.core.display.HTML object>"
      ]
     },
     "metadata": {},
     "output_type": "display_data"
    },
    {
     "name": "stderr",
     "output_type": "stream",
     "text": [
      "100%|██████████| 4/4 [00:00<00:00, 81.49it/s]\n",
      "100%|██████████| 4/4 [00:00<00:00, 84.19it/s]\n",
      "100%|██████████| 4/4 [00:00<00:00, 84.41it/s]\n",
      "100%|██████████| 4/4 [00:00<00:00, 85.04it/s]\n",
      "100%|██████████| 4/4 [00:00<00:00, 82.29it/s]\n",
      "100%|██████████| 4/4 [00:00<00:00, 84.39it/s]\n"
     ]
    },
    {
     "data": {
      "text/html": [
       "Waiting for W&B process to finish... <strong style=\"color:green\">(success).</strong>"
      ],
      "text/plain": [
       "<IPython.core.display.HTML object>"
      ]
     },
     "metadata": {},
     "output_type": "display_data"
    },
    {
     "data": {
      "application/vnd.jupyter.widget-view+json": {
       "model_id": "54ba163eca414ef6b4294af2402a332f",
       "version_major": 2,
       "version_minor": 0
      },
      "text/plain": [
       "VBox(children=(Label(value='0.001 MB of 0.001 MB uploaded (0.000 MB deduped)\\r'), FloatProgress(value=1.0, max…"
      ]
     },
     "metadata": {},
     "output_type": "display_data"
    },
    {
     "data": {
      "text/html": [
       "<style>\n",
       "    table.wandb td:nth-child(1) { padding: 0 10px; text-align: left ; width: auto;} td:nth-child(2) {text-align: left ; width: 100%}\n",
       "    .wandb-row { display: flex; flex-direction: row; flex-wrap: wrap; justify-content: flex-start; width: 100% }\n",
       "    .wandb-col { display: flex; flex-direction: column; flex-basis: 100%; flex: 1; padding: 10px; }\n",
       "    </style>\n",
       "<div class=\"wandb-row\"><div class=\"wandb-col\"><h3>Run history:</h3><br/><table class=\"wandb\"><tr><td>Avg. F1 Score</td><td>▁</td></tr></table><br/></div><div class=\"wandb-col\"><h3>Run summary:</h3><br/><table class=\"wandb\"><tr><td>Avg. F1 Score</td><td>0.70616</td></tr></table><br/></div></div>"
      ],
      "text/plain": [
       "<IPython.core.display.HTML object>"
      ]
     },
     "metadata": {},
     "output_type": "display_data"
    },
    {
     "data": {
      "text/html": [
       " View run <strong style=\"color:#cdcd00\">gallant-sweep-22</strong> at: <a href='https://wandb.ai/isaacwasserman/Graphically%20Guided%20Neural%20EM%20for%20Unsupervised%20Image%20Segmentation/runs/6c5abcc5' target=\"_blank\">https://wandb.ai/isaacwasserman/Graphically%20Guided%20Neural%20EM%20for%20Unsupervised%20Image%20Segmentation/runs/6c5abcc5</a><br/>Synced 5 W&B file(s), 0 media file(s), 0 artifact file(s) and 0 other file(s)"
      ],
      "text/plain": [
       "<IPython.core.display.HTML object>"
      ]
     },
     "metadata": {},
     "output_type": "display_data"
    },
    {
     "data": {
      "text/html": [
       "Find logs at: <code>./wandb/run-20230226_023151-6c5abcc5/logs</code>"
      ],
      "text/plain": [
       "<IPython.core.display.HTML object>"
      ]
     },
     "metadata": {},
     "output_type": "display_data"
    },
    {
     "name": "stderr",
     "output_type": "stream",
     "text": [
      "wandb: Agent Starting Run: qct64uxj with config:\n",
      "wandb: \td: 16\n",
      "wandb: \tdropout: 0.1\n",
      "wandb: \timage_size: [512, 512]\n",
      "wandb: \titerations: 500\n",
      "wandb: \tlambda_: 0.1\n",
      "wandb: \tlr: 0.005\n",
      "wandb: \tn_filters: 32\n",
      "wandb: \tnoise: 0\n",
      "wandb: \tprediction_stride: 4\n",
      "wandb: \tseed: 0\n",
      "wandb: \tsubset_size: 0.3\n"
     ]
    },
    {
     "data": {
      "text/html": [
       "Tracking run with wandb version 0.13.10"
      ],
      "text/plain": [
       "<IPython.core.display.HTML object>"
      ]
     },
     "metadata": {},
     "output_type": "display_data"
    },
    {
     "data": {
      "text/html": [
       "Run data is saved locally in <code>/home/ubuntu/thesis_implementation/wandb/run-20230226_023228-qct64uxj</code>"
      ],
      "text/plain": [
       "<IPython.core.display.HTML object>"
      ]
     },
     "metadata": {},
     "output_type": "display_data"
    },
    {
     "data": {
      "text/html": [
       "Syncing run <strong><a href='https://wandb.ai/isaacwasserman/Graphically%20Guided%20Neural%20EM%20for%20Unsupervised%20Image%20Segmentation/runs/qct64uxj' target=\"_blank\">fallen-sweep-23</a></strong> to <a href='https://wandb.ai/isaacwasserman/Graphically%20Guided%20Neural%20EM%20for%20Unsupervised%20Image%20Segmentation' target=\"_blank\">Weights & Biases</a> (<a href='https://wandb.me/run' target=\"_blank\">docs</a>)<br/>Sweep page: <a href='https://wandb.ai/isaacwasserman/Graphically%20Guided%20Neural%20EM%20for%20Unsupervised%20Image%20Segmentation/sweeps/f60ae4yq' target=\"_blank\">https://wandb.ai/isaacwasserman/Graphically%20Guided%20Neural%20EM%20for%20Unsupervised%20Image%20Segmentation/sweeps/f60ae4yq</a>"
      ],
      "text/plain": [
       "<IPython.core.display.HTML object>"
      ]
     },
     "metadata": {},
     "output_type": "display_data"
    },
    {
     "data": {
      "text/html": [
       " View project at <a href='https://wandb.ai/isaacwasserman/Graphically%20Guided%20Neural%20EM%20for%20Unsupervised%20Image%20Segmentation' target=\"_blank\">https://wandb.ai/isaacwasserman/Graphically%20Guided%20Neural%20EM%20for%20Unsupervised%20Image%20Segmentation</a>"
      ],
      "text/plain": [
       "<IPython.core.display.HTML object>"
      ]
     },
     "metadata": {},
     "output_type": "display_data"
    },
    {
     "data": {
      "text/html": [
       " View sweep at <a href='https://wandb.ai/isaacwasserman/Graphically%20Guided%20Neural%20EM%20for%20Unsupervised%20Image%20Segmentation/sweeps/f60ae4yq' target=\"_blank\">https://wandb.ai/isaacwasserman/Graphically%20Guided%20Neural%20EM%20for%20Unsupervised%20Image%20Segmentation/sweeps/f60ae4yq</a>"
      ],
      "text/plain": [
       "<IPython.core.display.HTML object>"
      ]
     },
     "metadata": {},
     "output_type": "display_data"
    },
    {
     "data": {
      "text/html": [
       " View run at <a href='https://wandb.ai/isaacwasserman/Graphically%20Guided%20Neural%20EM%20for%20Unsupervised%20Image%20Segmentation/runs/qct64uxj' target=\"_blank\">https://wandb.ai/isaacwasserman/Graphically%20Guided%20Neural%20EM%20for%20Unsupervised%20Image%20Segmentation/runs/qct64uxj</a>"
      ],
      "text/plain": [
       "<IPython.core.display.HTML object>"
      ]
     },
     "metadata": {},
     "output_type": "display_data"
    },
    {
     "name": "stderr",
     "output_type": "stream",
     "text": [
      "100%|██████████| 4/4 [00:00<00:00, 112.63it/s]\n",
      "100%|██████████| 4/4 [00:00<00:00, 116.62it/s]\n",
      "100%|██████████| 4/4 [00:00<00:00, 29.00it/s]\n",
      "100%|██████████| 4/4 [00:00<00:00, 118.45it/s]\n",
      "100%|██████████| 4/4 [00:00<00:00, 118.65it/s]\n",
      "100%|██████████| 4/4 [00:00<00:00, 118.72it/s]\n"
     ]
    },
    {
     "data": {
      "text/html": [
       "Waiting for W&B process to finish... <strong style=\"color:green\">(success).</strong>"
      ],
      "text/plain": [
       "<IPython.core.display.HTML object>"
      ]
     },
     "metadata": {},
     "output_type": "display_data"
    },
    {
     "data": {
      "application/vnd.jupyter.widget-view+json": {
       "model_id": "e2a40dabca2849eeab3ba84bf03758a7",
       "version_major": 2,
       "version_minor": 0
      },
      "text/plain": [
       "VBox(children=(Label(value='0.001 MB of 0.006 MB uploaded (0.000 MB deduped)\\r'), FloatProgress(value=0.146080…"
      ]
     },
     "metadata": {},
     "output_type": "display_data"
    },
    {
     "data": {
      "text/html": [
       "<style>\n",
       "    table.wandb td:nth-child(1) { padding: 0 10px; text-align: left ; width: auto;} td:nth-child(2) {text-align: left ; width: 100%}\n",
       "    .wandb-row { display: flex; flex-direction: row; flex-wrap: wrap; justify-content: flex-start; width: 100% }\n",
       "    .wandb-col { display: flex; flex-direction: column; flex-basis: 100%; flex: 1; padding: 10px; }\n",
       "    </style>\n",
       "<div class=\"wandb-row\"><div class=\"wandb-col\"><h3>Run history:</h3><br/><table class=\"wandb\"><tr><td>Avg. F1 Score</td><td>▁</td></tr></table><br/></div><div class=\"wandb-col\"><h3>Run summary:</h3><br/><table class=\"wandb\"><tr><td>Avg. F1 Score</td><td>0.69585</td></tr></table><br/></div></div>"
      ],
      "text/plain": [
       "<IPython.core.display.HTML object>"
      ]
     },
     "metadata": {},
     "output_type": "display_data"
    },
    {
     "data": {
      "text/html": [
       " View run <strong style=\"color:#cdcd00\">fallen-sweep-23</strong> at: <a href='https://wandb.ai/isaacwasserman/Graphically%20Guided%20Neural%20EM%20for%20Unsupervised%20Image%20Segmentation/runs/qct64uxj' target=\"_blank\">https://wandb.ai/isaacwasserman/Graphically%20Guided%20Neural%20EM%20for%20Unsupervised%20Image%20Segmentation/runs/qct64uxj</a><br/>Synced 5 W&B file(s), 0 media file(s), 0 artifact file(s) and 0 other file(s)"
      ],
      "text/plain": [
       "<IPython.core.display.HTML object>"
      ]
     },
     "metadata": {},
     "output_type": "display_data"
    },
    {
     "data": {
      "text/html": [
       "Find logs at: <code>./wandb/run-20230226_023228-qct64uxj/logs</code>"
      ],
      "text/plain": [
       "<IPython.core.display.HTML object>"
      ]
     },
     "metadata": {},
     "output_type": "display_data"
    },
    {
     "name": "stderr",
     "output_type": "stream",
     "text": [
      "wandb: Agent Starting Run: r75v2egw with config:\n",
      "wandb: \td: 64\n",
      "wandb: \tdropout: 0.5\n",
      "wandb: \timage_size: [512, 512]\n",
      "wandb: \titerations: 200\n",
      "wandb: \tlambda_: 0.1\n",
      "wandb: \tlr: 0.001\n",
      "wandb: \tn_filters: 128\n",
      "wandb: \tnoise: 0\n",
      "wandb: \tprediction_stride: 4\n",
      "wandb: \tseed: 0\n",
      "wandb: \tsubset_size: 0.7\n"
     ]
    },
    {
     "data": {
      "text/html": [
       "Tracking run with wandb version 0.13.10"
      ],
      "text/plain": [
       "<IPython.core.display.HTML object>"
      ]
     },
     "metadata": {},
     "output_type": "display_data"
    },
    {
     "data": {
      "text/html": [
       "Run data is saved locally in <code>/home/ubuntu/thesis_implementation/wandb/run-20230226_023258-r75v2egw</code>"
      ],
      "text/plain": [
       "<IPython.core.display.HTML object>"
      ]
     },
     "metadata": {},
     "output_type": "display_data"
    },
    {
     "data": {
      "text/html": [
       "Syncing run <strong><a href='https://wandb.ai/isaacwasserman/Graphically%20Guided%20Neural%20EM%20for%20Unsupervised%20Image%20Segmentation/runs/r75v2egw' target=\"_blank\">helpful-sweep-24</a></strong> to <a href='https://wandb.ai/isaacwasserman/Graphically%20Guided%20Neural%20EM%20for%20Unsupervised%20Image%20Segmentation' target=\"_blank\">Weights & Biases</a> (<a href='https://wandb.me/run' target=\"_blank\">docs</a>)<br/>Sweep page: <a href='https://wandb.ai/isaacwasserman/Graphically%20Guided%20Neural%20EM%20for%20Unsupervised%20Image%20Segmentation/sweeps/f60ae4yq' target=\"_blank\">https://wandb.ai/isaacwasserman/Graphically%20Guided%20Neural%20EM%20for%20Unsupervised%20Image%20Segmentation/sweeps/f60ae4yq</a>"
      ],
      "text/plain": [
       "<IPython.core.display.HTML object>"
      ]
     },
     "metadata": {},
     "output_type": "display_data"
    },
    {
     "data": {
      "text/html": [
       " View project at <a href='https://wandb.ai/isaacwasserman/Graphically%20Guided%20Neural%20EM%20for%20Unsupervised%20Image%20Segmentation' target=\"_blank\">https://wandb.ai/isaacwasserman/Graphically%20Guided%20Neural%20EM%20for%20Unsupervised%20Image%20Segmentation</a>"
      ],
      "text/plain": [
       "<IPython.core.display.HTML object>"
      ]
     },
     "metadata": {},
     "output_type": "display_data"
    },
    {
     "data": {
      "text/html": [
       " View sweep at <a href='https://wandb.ai/isaacwasserman/Graphically%20Guided%20Neural%20EM%20for%20Unsupervised%20Image%20Segmentation/sweeps/f60ae4yq' target=\"_blank\">https://wandb.ai/isaacwasserman/Graphically%20Guided%20Neural%20EM%20for%20Unsupervised%20Image%20Segmentation/sweeps/f60ae4yq</a>"
      ],
      "text/plain": [
       "<IPython.core.display.HTML object>"
      ]
     },
     "metadata": {},
     "output_type": "display_data"
    },
    {
     "data": {
      "text/html": [
       " View run at <a href='https://wandb.ai/isaacwasserman/Graphically%20Guided%20Neural%20EM%20for%20Unsupervised%20Image%20Segmentation/runs/r75v2egw' target=\"_blank\">https://wandb.ai/isaacwasserman/Graphically%20Guided%20Neural%20EM%20for%20Unsupervised%20Image%20Segmentation/runs/r75v2egw</a>"
      ],
      "text/plain": [
       "<IPython.core.display.HTML object>"
      ]
     },
     "metadata": {},
     "output_type": "display_data"
    },
    {
     "name": "stderr",
     "output_type": "stream",
     "text": [
      "100%|██████████| 4/4 [00:00<00:00, 128.24it/s]\n",
      "100%|██████████| 4/4 [00:00<00:00, 130.14it/s]\n",
      "100%|██████████| 4/4 [00:00<00:00, 110.84it/s]\n",
      "100%|██████████| 4/4 [00:00<00:00, 131.21it/s]\n",
      "100%|██████████| 4/4 [00:00<00:00, 129.98it/s]\n",
      "100%|██████████| 4/4 [00:00<00:00, 26.51it/s]\n"
     ]
    },
    {
     "data": {
      "text/html": [
       "Waiting for W&B process to finish... <strong style=\"color:green\">(success).</strong>"
      ],
      "text/plain": [
       "<IPython.core.display.HTML object>"
      ]
     },
     "metadata": {},
     "output_type": "display_data"
    },
    {
     "data": {
      "application/vnd.jupyter.widget-view+json": {
       "model_id": "a8c147b0922d4e1b9172fb7a4122105d",
       "version_major": 2,
       "version_minor": 0
      },
      "text/plain": [
       "VBox(children=(Label(value='0.001 MB of 0.002 MB uploaded (0.000 MB deduped)\\r'), FloatProgress(value=0.416209…"
      ]
     },
     "metadata": {},
     "output_type": "display_data"
    },
    {
     "data": {
      "text/html": [
       "<style>\n",
       "    table.wandb td:nth-child(1) { padding: 0 10px; text-align: left ; width: auto;} td:nth-child(2) {text-align: left ; width: 100%}\n",
       "    .wandb-row { display: flex; flex-direction: row; flex-wrap: wrap; justify-content: flex-start; width: 100% }\n",
       "    .wandb-col { display: flex; flex-direction: column; flex-basis: 100%; flex: 1; padding: 10px; }\n",
       "    </style>\n",
       "<div class=\"wandb-row\"><div class=\"wandb-col\"><h3>Run history:</h3><br/><table class=\"wandb\"><tr><td>Avg. F1 Score</td><td>▁</td></tr></table><br/></div><div class=\"wandb-col\"><h3>Run summary:</h3><br/><table class=\"wandb\"><tr><td>Avg. F1 Score</td><td>0.73399</td></tr></table><br/></div></div>"
      ],
      "text/plain": [
       "<IPython.core.display.HTML object>"
      ]
     },
     "metadata": {},
     "output_type": "display_data"
    },
    {
     "data": {
      "text/html": [
       " View run <strong style=\"color:#cdcd00\">helpful-sweep-24</strong> at: <a href='https://wandb.ai/isaacwasserman/Graphically%20Guided%20Neural%20EM%20for%20Unsupervised%20Image%20Segmentation/runs/r75v2egw' target=\"_blank\">https://wandb.ai/isaacwasserman/Graphically%20Guided%20Neural%20EM%20for%20Unsupervised%20Image%20Segmentation/runs/r75v2egw</a><br/>Synced 5 W&B file(s), 0 media file(s), 0 artifact file(s) and 0 other file(s)"
      ],
      "text/plain": [
       "<IPython.core.display.HTML object>"
      ]
     },
     "metadata": {},
     "output_type": "display_data"
    },
    {
     "data": {
      "text/html": [
       "Find logs at: <code>./wandb/run-20230226_023258-r75v2egw/logs</code>"
      ],
      "text/plain": [
       "<IPython.core.display.HTML object>"
      ]
     },
     "metadata": {},
     "output_type": "display_data"
    },
    {
     "name": "stderr",
     "output_type": "stream",
     "text": [
      "wandb: Agent Starting Run: n8qs6lkh with config:\n",
      "wandb: \td: 32\n",
      "wandb: \tdropout: 0.5\n",
      "wandb: \timage_size: [512, 512]\n",
      "wandb: \titerations: 100\n",
      "wandb: \tlambda_: 0.3\n",
      "wandb: \tlr: 0.0001\n",
      "wandb: \tn_filters: 128\n",
      "wandb: \tnoise: 0\n",
      "wandb: \tprediction_stride: 4\n",
      "wandb: \tseed: 0\n",
      "wandb: \tsubset_size: 0.1\n"
     ]
    },
    {
     "data": {
      "text/html": [
       "Tracking run with wandb version 0.13.10"
      ],
      "text/plain": [
       "<IPython.core.display.HTML object>"
      ]
     },
     "metadata": {},
     "output_type": "display_data"
    },
    {
     "data": {
      "text/html": [
       "Run data is saved locally in <code>/home/ubuntu/thesis_implementation/wandb/run-20230226_023359-n8qs6lkh</code>"
      ],
      "text/plain": [
       "<IPython.core.display.HTML object>"
      ]
     },
     "metadata": {},
     "output_type": "display_data"
    },
    {
     "data": {
      "text/html": [
       "Syncing run <strong><a href='https://wandb.ai/isaacwasserman/Graphically%20Guided%20Neural%20EM%20for%20Unsupervised%20Image%20Segmentation/runs/n8qs6lkh' target=\"_blank\">eager-sweep-25</a></strong> to <a href='https://wandb.ai/isaacwasserman/Graphically%20Guided%20Neural%20EM%20for%20Unsupervised%20Image%20Segmentation' target=\"_blank\">Weights & Biases</a> (<a href='https://wandb.me/run' target=\"_blank\">docs</a>)<br/>Sweep page: <a href='https://wandb.ai/isaacwasserman/Graphically%20Guided%20Neural%20EM%20for%20Unsupervised%20Image%20Segmentation/sweeps/f60ae4yq' target=\"_blank\">https://wandb.ai/isaacwasserman/Graphically%20Guided%20Neural%20EM%20for%20Unsupervised%20Image%20Segmentation/sweeps/f60ae4yq</a>"
      ],
      "text/plain": [
       "<IPython.core.display.HTML object>"
      ]
     },
     "metadata": {},
     "output_type": "display_data"
    },
    {
     "data": {
      "text/html": [
       " View project at <a href='https://wandb.ai/isaacwasserman/Graphically%20Guided%20Neural%20EM%20for%20Unsupervised%20Image%20Segmentation' target=\"_blank\">https://wandb.ai/isaacwasserman/Graphically%20Guided%20Neural%20EM%20for%20Unsupervised%20Image%20Segmentation</a>"
      ],
      "text/plain": [
       "<IPython.core.display.HTML object>"
      ]
     },
     "metadata": {},
     "output_type": "display_data"
    },
    {
     "data": {
      "text/html": [
       " View sweep at <a href='https://wandb.ai/isaacwasserman/Graphically%20Guided%20Neural%20EM%20for%20Unsupervised%20Image%20Segmentation/sweeps/f60ae4yq' target=\"_blank\">https://wandb.ai/isaacwasserman/Graphically%20Guided%20Neural%20EM%20for%20Unsupervised%20Image%20Segmentation/sweeps/f60ae4yq</a>"
      ],
      "text/plain": [
       "<IPython.core.display.HTML object>"
      ]
     },
     "metadata": {},
     "output_type": "display_data"
    },
    {
     "data": {
      "text/html": [
       " View run at <a href='https://wandb.ai/isaacwasserman/Graphically%20Guided%20Neural%20EM%20for%20Unsupervised%20Image%20Segmentation/runs/n8qs6lkh' target=\"_blank\">https://wandb.ai/isaacwasserman/Graphically%20Guided%20Neural%20EM%20for%20Unsupervised%20Image%20Segmentation/runs/n8qs6lkh</a>"
      ],
      "text/plain": [
       "<IPython.core.display.HTML object>"
      ]
     },
     "metadata": {},
     "output_type": "display_data"
    },
    {
     "name": "stderr",
     "output_type": "stream",
     "text": [
      "100%|██████████| 4/4 [00:00<00:00, 113.14it/s]\n",
      "100%|██████████| 4/4 [00:00<00:00, 115.41it/s]\n",
      "100%|██████████| 4/4 [00:00<00:00, 116.97it/s]\n",
      "100%|██████████| 4/4 [00:00<00:00, 130.99it/s]\n",
      "100%|██████████| 4/4 [00:00<00:00, 118.27it/s]\n",
      "100%|██████████| 4/4 [00:00<00:00, 116.57it/s]\n"
     ]
    },
    {
     "data": {
      "text/html": [
       "Waiting for W&B process to finish... <strong style=\"color:green\">(success).</strong>"
      ],
      "text/plain": [
       "<IPython.core.display.HTML object>"
      ]
     },
     "metadata": {},
     "output_type": "display_data"
    },
    {
     "data": {
      "text/html": [
       "<style>\n",
       "    table.wandb td:nth-child(1) { padding: 0 10px; text-align: left ; width: auto;} td:nth-child(2) {text-align: left ; width: 100%}\n",
       "    .wandb-row { display: flex; flex-direction: row; flex-wrap: wrap; justify-content: flex-start; width: 100% }\n",
       "    .wandb-col { display: flex; flex-direction: column; flex-basis: 100%; flex: 1; padding: 10px; }\n",
       "    </style>\n",
       "<div class=\"wandb-row\"><div class=\"wandb-col\"><h3>Run history:</h3><br/><table class=\"wandb\"><tr><td>Avg. F1 Score</td><td>▁</td></tr></table><br/></div><div class=\"wandb-col\"><h3>Run summary:</h3><br/><table class=\"wandb\"><tr><td>Avg. F1 Score</td><td>0.62717</td></tr></table><br/></div></div>"
      ],
      "text/plain": [
       "<IPython.core.display.HTML object>"
      ]
     },
     "metadata": {},
     "output_type": "display_data"
    },
    {
     "data": {
      "text/html": [
       " View run <strong style=\"color:#cdcd00\">eager-sweep-25</strong> at: <a href='https://wandb.ai/isaacwasserman/Graphically%20Guided%20Neural%20EM%20for%20Unsupervised%20Image%20Segmentation/runs/n8qs6lkh' target=\"_blank\">https://wandb.ai/isaacwasserman/Graphically%20Guided%20Neural%20EM%20for%20Unsupervised%20Image%20Segmentation/runs/n8qs6lkh</a><br/>Synced 5 W&B file(s), 0 media file(s), 0 artifact file(s) and 0 other file(s)"
      ],
      "text/plain": [
       "<IPython.core.display.HTML object>"
      ]
     },
     "metadata": {},
     "output_type": "display_data"
    },
    {
     "data": {
      "text/html": [
       "Find logs at: <code>./wandb/run-20230226_023359-n8qs6lkh/logs</code>"
      ],
      "text/plain": [
       "<IPython.core.display.HTML object>"
      ]
     },
     "metadata": {},
     "output_type": "display_data"
    },
    {
     "name": "stderr",
     "output_type": "stream",
     "text": [
      "wandb: Agent Starting Run: lgj5n010 with config:\n",
      "wandb: \td: 64\n",
      "wandb: \tdropout: 0.3\n",
      "wandb: \timage_size: [512, 512]\n",
      "wandb: \titerations: 500\n",
      "wandb: \tlambda_: 0.4\n",
      "wandb: \tlr: 0.005\n",
      "wandb: \tn_filters: 32\n",
      "wandb: \tnoise: 0\n",
      "wandb: \tprediction_stride: 4\n",
      "wandb: \tseed: 0\n",
      "wandb: \tsubset_size: 0.5\n"
     ]
    },
    {
     "data": {
      "text/html": [
       "Tracking run with wandb version 0.13.10"
      ],
      "text/plain": [
       "<IPython.core.display.HTML object>"
      ]
     },
     "metadata": {},
     "output_type": "display_data"
    },
    {
     "data": {
      "text/html": [
       "Run data is saved locally in <code>/home/ubuntu/thesis_implementation/wandb/run-20230226_023421-lgj5n010</code>"
      ],
      "text/plain": [
       "<IPython.core.display.HTML object>"
      ]
     },
     "metadata": {},
     "output_type": "display_data"
    },
    {
     "data": {
      "text/html": [
       "Syncing run <strong><a href='https://wandb.ai/isaacwasserman/Graphically%20Guided%20Neural%20EM%20for%20Unsupervised%20Image%20Segmentation/runs/lgj5n010' target=\"_blank\">absurd-sweep-26</a></strong> to <a href='https://wandb.ai/isaacwasserman/Graphically%20Guided%20Neural%20EM%20for%20Unsupervised%20Image%20Segmentation' target=\"_blank\">Weights & Biases</a> (<a href='https://wandb.me/run' target=\"_blank\">docs</a>)<br/>Sweep page: <a href='https://wandb.ai/isaacwasserman/Graphically%20Guided%20Neural%20EM%20for%20Unsupervised%20Image%20Segmentation/sweeps/f60ae4yq' target=\"_blank\">https://wandb.ai/isaacwasserman/Graphically%20Guided%20Neural%20EM%20for%20Unsupervised%20Image%20Segmentation/sweeps/f60ae4yq</a>"
      ],
      "text/plain": [
       "<IPython.core.display.HTML object>"
      ]
     },
     "metadata": {},
     "output_type": "display_data"
    },
    {
     "data": {
      "text/html": [
       " View project at <a href='https://wandb.ai/isaacwasserman/Graphically%20Guided%20Neural%20EM%20for%20Unsupervised%20Image%20Segmentation' target=\"_blank\">https://wandb.ai/isaacwasserman/Graphically%20Guided%20Neural%20EM%20for%20Unsupervised%20Image%20Segmentation</a>"
      ],
      "text/plain": [
       "<IPython.core.display.HTML object>"
      ]
     },
     "metadata": {},
     "output_type": "display_data"
    },
    {
     "data": {
      "text/html": [
       " View sweep at <a href='https://wandb.ai/isaacwasserman/Graphically%20Guided%20Neural%20EM%20for%20Unsupervised%20Image%20Segmentation/sweeps/f60ae4yq' target=\"_blank\">https://wandb.ai/isaacwasserman/Graphically%20Guided%20Neural%20EM%20for%20Unsupervised%20Image%20Segmentation/sweeps/f60ae4yq</a>"
      ],
      "text/plain": [
       "<IPython.core.display.HTML object>"
      ]
     },
     "metadata": {},
     "output_type": "display_data"
    },
    {
     "data": {
      "text/html": [
       " View run at <a href='https://wandb.ai/isaacwasserman/Graphically%20Guided%20Neural%20EM%20for%20Unsupervised%20Image%20Segmentation/runs/lgj5n010' target=\"_blank\">https://wandb.ai/isaacwasserman/Graphically%20Guided%20Neural%20EM%20for%20Unsupervised%20Image%20Segmentation/runs/lgj5n010</a>"
      ],
      "text/plain": [
       "<IPython.core.display.HTML object>"
      ]
     },
     "metadata": {},
     "output_type": "display_data"
    },
    {
     "name": "stderr",
     "output_type": "stream",
     "text": [
      "100%|██████████| 4/4 [00:00<00:00, 124.93it/s]\n",
      "100%|██████████| 4/4 [00:00<00:00, 130.00it/s]\n",
      "100%|██████████| 4/4 [00:00<00:00, 130.97it/s]\n",
      "100%|██████████| 4/4 [00:00<00:00, 130.55it/s]\n",
      "100%|██████████| 4/4 [00:00<00:00, 129.00it/s]\n",
      "100%|██████████| 4/4 [00:00<00:00, 127.70it/s]\n"
     ]
    },
    {
     "data": {
      "text/html": [
       "Waiting for W&B process to finish... <strong style=\"color:green\">(success).</strong>"
      ],
      "text/plain": [
       "<IPython.core.display.HTML object>"
      ]
     },
     "metadata": {},
     "output_type": "display_data"
    },
    {
     "data": {
      "text/html": [
       "<style>\n",
       "    table.wandb td:nth-child(1) { padding: 0 10px; text-align: left ; width: auto;} td:nth-child(2) {text-align: left ; width: 100%}\n",
       "    .wandb-row { display: flex; flex-direction: row; flex-wrap: wrap; justify-content: flex-start; width: 100% }\n",
       "    .wandb-col { display: flex; flex-direction: column; flex-basis: 100%; flex: 1; padding: 10px; }\n",
       "    </style>\n",
       "<div class=\"wandb-row\"><div class=\"wandb-col\"><h3>Run history:</h3><br/><table class=\"wandb\"><tr><td>Avg. F1 Score</td><td>▁</td></tr></table><br/></div><div class=\"wandb-col\"><h3>Run summary:</h3><br/><table class=\"wandb\"><tr><td>Avg. F1 Score</td><td>0.65552</td></tr></table><br/></div></div>"
      ],
      "text/plain": [
       "<IPython.core.display.HTML object>"
      ]
     },
     "metadata": {},
     "output_type": "display_data"
    },
    {
     "data": {
      "text/html": [
       " View run <strong style=\"color:#cdcd00\">absurd-sweep-26</strong> at: <a href='https://wandb.ai/isaacwasserman/Graphically%20Guided%20Neural%20EM%20for%20Unsupervised%20Image%20Segmentation/runs/lgj5n010' target=\"_blank\">https://wandb.ai/isaacwasserman/Graphically%20Guided%20Neural%20EM%20for%20Unsupervised%20Image%20Segmentation/runs/lgj5n010</a><br/>Synced 5 W&B file(s), 0 media file(s), 0 artifact file(s) and 0 other file(s)"
      ],
      "text/plain": [
       "<IPython.core.display.HTML object>"
      ]
     },
     "metadata": {},
     "output_type": "display_data"
    },
    {
     "data": {
      "text/html": [
       "Find logs at: <code>./wandb/run-20230226_023421-lgj5n010/logs</code>"
      ],
      "text/plain": [
       "<IPython.core.display.HTML object>"
      ]
     },
     "metadata": {},
     "output_type": "display_data"
    },
    {
     "name": "stderr",
     "output_type": "stream",
     "text": [
      "wandb: Agent Starting Run: n03i8tkn with config:\n",
      "wandb: \td: 16\n",
      "wandb: \tdropout: 0.5\n",
      "wandb: \timage_size: [512, 512]\n",
      "wandb: \titerations: 100\n",
      "wandb: \tlambda_: 0.4\n",
      "wandb: \tlr: 0.01\n",
      "wandb: \tn_filters: 32\n",
      "wandb: \tnoise: 0\n",
      "wandb: \tprediction_stride: 4\n",
      "wandb: \tseed: 0\n",
      "wandb: \tsubset_size: 0.5\n"
     ]
    },
    {
     "data": {
      "text/html": [
       "Tracking run with wandb version 0.13.10"
      ],
      "text/plain": [
       "<IPython.core.display.HTML object>"
      ]
     },
     "metadata": {},
     "output_type": "display_data"
    },
    {
     "data": {
      "text/html": [
       "Run data is saved locally in <code>/home/ubuntu/thesis_implementation/wandb/run-20230226_023526-n03i8tkn</code>"
      ],
      "text/plain": [
       "<IPython.core.display.HTML object>"
      ]
     },
     "metadata": {},
     "output_type": "display_data"
    },
    {
     "data": {
      "text/html": [
       "Syncing run <strong><a href='https://wandb.ai/isaacwasserman/Graphically%20Guided%20Neural%20EM%20for%20Unsupervised%20Image%20Segmentation/runs/n03i8tkn' target=\"_blank\">trim-sweep-27</a></strong> to <a href='https://wandb.ai/isaacwasserman/Graphically%20Guided%20Neural%20EM%20for%20Unsupervised%20Image%20Segmentation' target=\"_blank\">Weights & Biases</a> (<a href='https://wandb.me/run' target=\"_blank\">docs</a>)<br/>Sweep page: <a href='https://wandb.ai/isaacwasserman/Graphically%20Guided%20Neural%20EM%20for%20Unsupervised%20Image%20Segmentation/sweeps/f60ae4yq' target=\"_blank\">https://wandb.ai/isaacwasserman/Graphically%20Guided%20Neural%20EM%20for%20Unsupervised%20Image%20Segmentation/sweeps/f60ae4yq</a>"
      ],
      "text/plain": [
       "<IPython.core.display.HTML object>"
      ]
     },
     "metadata": {},
     "output_type": "display_data"
    },
    {
     "data": {
      "text/html": [
       " View project at <a href='https://wandb.ai/isaacwasserman/Graphically%20Guided%20Neural%20EM%20for%20Unsupervised%20Image%20Segmentation' target=\"_blank\">https://wandb.ai/isaacwasserman/Graphically%20Guided%20Neural%20EM%20for%20Unsupervised%20Image%20Segmentation</a>"
      ],
      "text/plain": [
       "<IPython.core.display.HTML object>"
      ]
     },
     "metadata": {},
     "output_type": "display_data"
    },
    {
     "data": {
      "text/html": [
       " View sweep at <a href='https://wandb.ai/isaacwasserman/Graphically%20Guided%20Neural%20EM%20for%20Unsupervised%20Image%20Segmentation/sweeps/f60ae4yq' target=\"_blank\">https://wandb.ai/isaacwasserman/Graphically%20Guided%20Neural%20EM%20for%20Unsupervised%20Image%20Segmentation/sweeps/f60ae4yq</a>"
      ],
      "text/plain": [
       "<IPython.core.display.HTML object>"
      ]
     },
     "metadata": {},
     "output_type": "display_data"
    },
    {
     "data": {
      "text/html": [
       " View run at <a href='https://wandb.ai/isaacwasserman/Graphically%20Guided%20Neural%20EM%20for%20Unsupervised%20Image%20Segmentation/runs/n03i8tkn' target=\"_blank\">https://wandb.ai/isaacwasserman/Graphically%20Guided%20Neural%20EM%20for%20Unsupervised%20Image%20Segmentation/runs/n03i8tkn</a>"
      ],
      "text/plain": [
       "<IPython.core.display.HTML object>"
      ]
     },
     "metadata": {},
     "output_type": "display_data"
    },
    {
     "name": "stderr",
     "output_type": "stream",
     "text": [
      "100%|██████████| 4/4 [00:00<00:00, 134.02it/s]\n",
      "100%|██████████| 4/4 [00:00<00:00, 138.56it/s]\n",
      "100%|██████████| 4/4 [00:00<00:00, 137.74it/s]\n",
      "100%|██████████| 4/4 [00:00<00:00, 139.69it/s]\n",
      "100%|██████████| 4/4 [00:00<00:00, 140.96it/s]\n",
      "100%|██████████| 4/4 [00:00<00:00, 85.40it/s]\n"
     ]
    },
    {
     "data": {
      "text/html": [
       "Waiting for W&B process to finish... <strong style=\"color:green\">(success).</strong>"
      ],
      "text/plain": [
       "<IPython.core.display.HTML object>"
      ]
     },
     "metadata": {},
     "output_type": "display_data"
    },
    {
     "data": {
      "application/vnd.jupyter.widget-view+json": {
       "model_id": "cbf0197e0a3d4a7f9402fd476c21a7ed",
       "version_major": 2,
       "version_minor": 0
      },
      "text/plain": [
       "VBox(children=(Label(value='0.001 MB of 0.001 MB uploaded (0.000 MB deduped)\\r'), FloatProgress(value=1.0, max…"
      ]
     },
     "metadata": {},
     "output_type": "display_data"
    },
    {
     "data": {
      "text/html": [
       "<style>\n",
       "    table.wandb td:nth-child(1) { padding: 0 10px; text-align: left ; width: auto;} td:nth-child(2) {text-align: left ; width: 100%}\n",
       "    .wandb-row { display: flex; flex-direction: row; flex-wrap: wrap; justify-content: flex-start; width: 100% }\n",
       "    .wandb-col { display: flex; flex-direction: column; flex-basis: 100%; flex: 1; padding: 10px; }\n",
       "    </style>\n",
       "<div class=\"wandb-row\"><div class=\"wandb-col\"><h3>Run history:</h3><br/><table class=\"wandb\"><tr><td>Avg. F1 Score</td><td>▁</td></tr></table><br/></div><div class=\"wandb-col\"><h3>Run summary:</h3><br/><table class=\"wandb\"><tr><td>Avg. F1 Score</td><td>0.66787</td></tr></table><br/></div></div>"
      ],
      "text/plain": [
       "<IPython.core.display.HTML object>"
      ]
     },
     "metadata": {},
     "output_type": "display_data"
    },
    {
     "data": {
      "text/html": [
       " View run <strong style=\"color:#cdcd00\">trim-sweep-27</strong> at: <a href='https://wandb.ai/isaacwasserman/Graphically%20Guided%20Neural%20EM%20for%20Unsupervised%20Image%20Segmentation/runs/n03i8tkn' target=\"_blank\">https://wandb.ai/isaacwasserman/Graphically%20Guided%20Neural%20EM%20for%20Unsupervised%20Image%20Segmentation/runs/n03i8tkn</a><br/>Synced 5 W&B file(s), 0 media file(s), 0 artifact file(s) and 0 other file(s)"
      ],
      "text/plain": [
       "<IPython.core.display.HTML object>"
      ]
     },
     "metadata": {},
     "output_type": "display_data"
    },
    {
     "data": {
      "text/html": [
       "Find logs at: <code>./wandb/run-20230226_023526-n03i8tkn/logs</code>"
      ],
      "text/plain": [
       "<IPython.core.display.HTML object>"
      ]
     },
     "metadata": {},
     "output_type": "display_data"
    },
    {
     "name": "stderr",
     "output_type": "stream",
     "text": [
      "wandb: Agent Starting Run: k5tecym5 with config:\n",
      "wandb: \td: 64\n",
      "wandb: \tdropout: 0.3\n",
      "wandb: \timage_size: [512, 512]\n",
      "wandb: \titerations: 400\n",
      "wandb: \tlambda_: 0.1\n",
      "wandb: \tlr: 0.0001\n",
      "wandb: \tn_filters: 128\n",
      "wandb: \tnoise: 0\n",
      "wandb: \tprediction_stride: 4\n",
      "wandb: \tseed: 0\n",
      "wandb: \tsubset_size: 0.7\n"
     ]
    },
    {
     "data": {
      "text/html": [
       "Tracking run with wandb version 0.13.10"
      ],
      "text/plain": [
       "<IPython.core.display.HTML object>"
      ]
     },
     "metadata": {},
     "output_type": "display_data"
    },
    {
     "data": {
      "text/html": [
       "Run data is saved locally in <code>/home/ubuntu/thesis_implementation/wandb/run-20230226_023542-k5tecym5</code>"
      ],
      "text/plain": [
       "<IPython.core.display.HTML object>"
      ]
     },
     "metadata": {},
     "output_type": "display_data"
    },
    {
     "data": {
      "text/html": [
       "Syncing run <strong><a href='https://wandb.ai/isaacwasserman/Graphically%20Guided%20Neural%20EM%20for%20Unsupervised%20Image%20Segmentation/runs/k5tecym5' target=\"_blank\">gentle-sweep-28</a></strong> to <a href='https://wandb.ai/isaacwasserman/Graphically%20Guided%20Neural%20EM%20for%20Unsupervised%20Image%20Segmentation' target=\"_blank\">Weights & Biases</a> (<a href='https://wandb.me/run' target=\"_blank\">docs</a>)<br/>Sweep page: <a href='https://wandb.ai/isaacwasserman/Graphically%20Guided%20Neural%20EM%20for%20Unsupervised%20Image%20Segmentation/sweeps/f60ae4yq' target=\"_blank\">https://wandb.ai/isaacwasserman/Graphically%20Guided%20Neural%20EM%20for%20Unsupervised%20Image%20Segmentation/sweeps/f60ae4yq</a>"
      ],
      "text/plain": [
       "<IPython.core.display.HTML object>"
      ]
     },
     "metadata": {},
     "output_type": "display_data"
    },
    {
     "data": {
      "text/html": [
       " View project at <a href='https://wandb.ai/isaacwasserman/Graphically%20Guided%20Neural%20EM%20for%20Unsupervised%20Image%20Segmentation' target=\"_blank\">https://wandb.ai/isaacwasserman/Graphically%20Guided%20Neural%20EM%20for%20Unsupervised%20Image%20Segmentation</a>"
      ],
      "text/plain": [
       "<IPython.core.display.HTML object>"
      ]
     },
     "metadata": {},
     "output_type": "display_data"
    },
    {
     "data": {
      "text/html": [
       " View sweep at <a href='https://wandb.ai/isaacwasserman/Graphically%20Guided%20Neural%20EM%20for%20Unsupervised%20Image%20Segmentation/sweeps/f60ae4yq' target=\"_blank\">https://wandb.ai/isaacwasserman/Graphically%20Guided%20Neural%20EM%20for%20Unsupervised%20Image%20Segmentation/sweeps/f60ae4yq</a>"
      ],
      "text/plain": [
       "<IPython.core.display.HTML object>"
      ]
     },
     "metadata": {},
     "output_type": "display_data"
    },
    {
     "data": {
      "text/html": [
       " View run at <a href='https://wandb.ai/isaacwasserman/Graphically%20Guided%20Neural%20EM%20for%20Unsupervised%20Image%20Segmentation/runs/k5tecym5' target=\"_blank\">https://wandb.ai/isaacwasserman/Graphically%20Guided%20Neural%20EM%20for%20Unsupervised%20Image%20Segmentation/runs/k5tecym5</a>"
      ],
      "text/plain": [
       "<IPython.core.display.HTML object>"
      ]
     },
     "metadata": {},
     "output_type": "display_data"
    },
    {
     "name": "stderr",
     "output_type": "stream",
     "text": [
      "100%|██████████| 4/4 [00:00<00:00, 124.54it/s]\n",
      "100%|██████████| 4/4 [00:00<00:00, 126.18it/s]\n",
      "100%|██████████| 4/4 [00:00<00:00, 127.73it/s]\n",
      "100%|██████████| 4/4 [00:00<00:00, 127.41it/s]\n",
      "100%|██████████| 4/4 [00:00<00:00, 129.30it/s]\n",
      "100%|██████████| 4/4 [00:00<00:00, 128.46it/s]\n"
     ]
    },
    {
     "data": {
      "text/html": [
       "Waiting for W&B process to finish... <strong style=\"color:green\">(success).</strong>"
      ],
      "text/plain": [
       "<IPython.core.display.HTML object>"
      ]
     },
     "metadata": {},
     "output_type": "display_data"
    },
    {
     "data": {
      "application/vnd.jupyter.widget-view+json": {
       "model_id": "ded72be115ed459a96ee5ec056102ac0",
       "version_major": 2,
       "version_minor": 0
      },
      "text/plain": [
       "VBox(children=(Label(value='0.001 MB of 0.001 MB uploaded (0.000 MB deduped)\\r'), FloatProgress(value=1.0, max…"
      ]
     },
     "metadata": {},
     "output_type": "display_data"
    },
    {
     "data": {
      "text/html": [
       "<style>\n",
       "    table.wandb td:nth-child(1) { padding: 0 10px; text-align: left ; width: auto;} td:nth-child(2) {text-align: left ; width: 100%}\n",
       "    .wandb-row { display: flex; flex-direction: row; flex-wrap: wrap; justify-content: flex-start; width: 100% }\n",
       "    .wandb-col { display: flex; flex-direction: column; flex-basis: 100%; flex: 1; padding: 10px; }\n",
       "    </style>\n",
       "<div class=\"wandb-row\"><div class=\"wandb-col\"><h3>Run history:</h3><br/><table class=\"wandb\"><tr><td>Avg. F1 Score</td><td>▁</td></tr></table><br/></div><div class=\"wandb-col\"><h3>Run summary:</h3><br/><table class=\"wandb\"><tr><td>Avg. F1 Score</td><td>0.76139</td></tr></table><br/></div></div>"
      ],
      "text/plain": [
       "<IPython.core.display.HTML object>"
      ]
     },
     "metadata": {},
     "output_type": "display_data"
    },
    {
     "data": {
      "text/html": [
       " View run <strong style=\"color:#cdcd00\">gentle-sweep-28</strong> at: <a href='https://wandb.ai/isaacwasserman/Graphically%20Guided%20Neural%20EM%20for%20Unsupervised%20Image%20Segmentation/runs/k5tecym5' target=\"_blank\">https://wandb.ai/isaacwasserman/Graphically%20Guided%20Neural%20EM%20for%20Unsupervised%20Image%20Segmentation/runs/k5tecym5</a><br/>Synced 5 W&B file(s), 0 media file(s), 0 artifact file(s) and 0 other file(s)"
      ],
      "text/plain": [
       "<IPython.core.display.HTML object>"
      ]
     },
     "metadata": {},
     "output_type": "display_data"
    },
    {
     "data": {
      "text/html": [
       "Find logs at: <code>./wandb/run-20230226_023542-k5tecym5/logs</code>"
      ],
      "text/plain": [
       "<IPython.core.display.HTML object>"
      ]
     },
     "metadata": {},
     "output_type": "display_data"
    },
    {
     "name": "stderr",
     "output_type": "stream",
     "text": [
      "wandb: Agent Starting Run: sqpnskkg with config:\n",
      "wandb: \td: 32\n",
      "wandb: \tdropout: 0.5\n",
      "wandb: \timage_size: [512, 512]\n",
      "wandb: \titerations: 300\n",
      "wandb: \tlambda_: 0.5\n",
      "wandb: \tlr: 0.001\n",
      "wandb: \tn_filters: 64\n",
      "wandb: \tnoise: 0\n",
      "wandb: \tprediction_stride: 4\n",
      "wandb: \tseed: 0\n",
      "wandb: \tsubset_size: 0.1\n"
     ]
    },
    {
     "data": {
      "text/html": [
       "Tracking run with wandb version 0.13.10"
      ],
      "text/plain": [
       "<IPython.core.display.HTML object>"
      ]
     },
     "metadata": {},
     "output_type": "display_data"
    },
    {
     "data": {
      "text/html": [
       "Run data is saved locally in <code>/home/ubuntu/thesis_implementation/wandb/run-20230226_023734-sqpnskkg</code>"
      ],
      "text/plain": [
       "<IPython.core.display.HTML object>"
      ]
     },
     "metadata": {},
     "output_type": "display_data"
    },
    {
     "data": {
      "text/html": [
       "Syncing run <strong><a href='https://wandb.ai/isaacwasserman/Graphically%20Guided%20Neural%20EM%20for%20Unsupervised%20Image%20Segmentation/runs/sqpnskkg' target=\"_blank\">true-sweep-29</a></strong> to <a href='https://wandb.ai/isaacwasserman/Graphically%20Guided%20Neural%20EM%20for%20Unsupervised%20Image%20Segmentation' target=\"_blank\">Weights & Biases</a> (<a href='https://wandb.me/run' target=\"_blank\">docs</a>)<br/>Sweep page: <a href='https://wandb.ai/isaacwasserman/Graphically%20Guided%20Neural%20EM%20for%20Unsupervised%20Image%20Segmentation/sweeps/f60ae4yq' target=\"_blank\">https://wandb.ai/isaacwasserman/Graphically%20Guided%20Neural%20EM%20for%20Unsupervised%20Image%20Segmentation/sweeps/f60ae4yq</a>"
      ],
      "text/plain": [
       "<IPython.core.display.HTML object>"
      ]
     },
     "metadata": {},
     "output_type": "display_data"
    },
    {
     "data": {
      "text/html": [
       " View project at <a href='https://wandb.ai/isaacwasserman/Graphically%20Guided%20Neural%20EM%20for%20Unsupervised%20Image%20Segmentation' target=\"_blank\">https://wandb.ai/isaacwasserman/Graphically%20Guided%20Neural%20EM%20for%20Unsupervised%20Image%20Segmentation</a>"
      ],
      "text/plain": [
       "<IPython.core.display.HTML object>"
      ]
     },
     "metadata": {},
     "output_type": "display_data"
    },
    {
     "data": {
      "text/html": [
       " View sweep at <a href='https://wandb.ai/isaacwasserman/Graphically%20Guided%20Neural%20EM%20for%20Unsupervised%20Image%20Segmentation/sweeps/f60ae4yq' target=\"_blank\">https://wandb.ai/isaacwasserman/Graphically%20Guided%20Neural%20EM%20for%20Unsupervised%20Image%20Segmentation/sweeps/f60ae4yq</a>"
      ],
      "text/plain": [
       "<IPython.core.display.HTML object>"
      ]
     },
     "metadata": {},
     "output_type": "display_data"
    },
    {
     "data": {
      "text/html": [
       " View run at <a href='https://wandb.ai/isaacwasserman/Graphically%20Guided%20Neural%20EM%20for%20Unsupervised%20Image%20Segmentation/runs/sqpnskkg' target=\"_blank\">https://wandb.ai/isaacwasserman/Graphically%20Guided%20Neural%20EM%20for%20Unsupervised%20Image%20Segmentation/runs/sqpnskkg</a>"
      ],
      "text/plain": [
       "<IPython.core.display.HTML object>"
      ]
     },
     "metadata": {},
     "output_type": "display_data"
    },
    {
     "name": "stderr",
     "output_type": "stream",
     "text": [
      "100%|██████████| 4/4 [00:00<00:00, 97.97it/s]\n",
      "100%|██████████| 4/4 [00:00<00:00, 26.52it/s]\n",
      "100%|██████████| 4/4 [00:00<00:00, 92.39it/s]\n",
      "100%|██████████| 4/4 [00:00<00:00, 92.69it/s]\n",
      "100%|██████████| 4/4 [00:00<00:00, 93.76it/s]\n",
      "100%|██████████| 4/4 [00:00<00:00, 92.17it/s]\n"
     ]
    },
    {
     "data": {
      "text/html": [
       "Waiting for W&B process to finish... <strong style=\"color:green\">(success).</strong>"
      ],
      "text/plain": [
       "<IPython.core.display.HTML object>"
      ]
     },
     "metadata": {},
     "output_type": "display_data"
    },
    {
     "data": {
      "text/html": [
       "<style>\n",
       "    table.wandb td:nth-child(1) { padding: 0 10px; text-align: left ; width: auto;} td:nth-child(2) {text-align: left ; width: 100%}\n",
       "    .wandb-row { display: flex; flex-direction: row; flex-wrap: wrap; justify-content: flex-start; width: 100% }\n",
       "    .wandb-col { display: flex; flex-direction: column; flex-basis: 100%; flex: 1; padding: 10px; }\n",
       "    </style>\n",
       "<div class=\"wandb-row\"><div class=\"wandb-col\"><h3>Run history:</h3><br/><table class=\"wandb\"><tr><td>Avg. F1 Score</td><td>▁</td></tr></table><br/></div><div class=\"wandb-col\"><h3>Run summary:</h3><br/><table class=\"wandb\"><tr><td>Avg. F1 Score</td><td>0.61913</td></tr></table><br/></div></div>"
      ],
      "text/plain": [
       "<IPython.core.display.HTML object>"
      ]
     },
     "metadata": {},
     "output_type": "display_data"
    },
    {
     "data": {
      "text/html": [
       " View run <strong style=\"color:#cdcd00\">true-sweep-29</strong> at: <a href='https://wandb.ai/isaacwasserman/Graphically%20Guided%20Neural%20EM%20for%20Unsupervised%20Image%20Segmentation/runs/sqpnskkg' target=\"_blank\">https://wandb.ai/isaacwasserman/Graphically%20Guided%20Neural%20EM%20for%20Unsupervised%20Image%20Segmentation/runs/sqpnskkg</a><br/>Synced 5 W&B file(s), 0 media file(s), 0 artifact file(s) and 0 other file(s)"
      ],
      "text/plain": [
       "<IPython.core.display.HTML object>"
      ]
     },
     "metadata": {},
     "output_type": "display_data"
    },
    {
     "data": {
      "text/html": [
       "Find logs at: <code>./wandb/run-20230226_023734-sqpnskkg/logs</code>"
      ],
      "text/plain": [
       "<IPython.core.display.HTML object>"
      ]
     },
     "metadata": {},
     "output_type": "display_data"
    },
    {
     "name": "stderr",
     "output_type": "stream",
     "text": [
      "wandb: Agent Starting Run: d3zpbqs7 with config:\n",
      "wandb: \td: 64\n",
      "wandb: \tdropout: 0.4\n",
      "wandb: \timage_size: [512, 512]\n",
      "wandb: \titerations: 100\n",
      "wandb: \tlambda_: 0.4\n",
      "wandb: \tlr: 0.005\n",
      "wandb: \tn_filters: 16\n",
      "wandb: \tnoise: 0\n",
      "wandb: \tprediction_stride: 4\n",
      "wandb: \tseed: 0\n",
      "wandb: \tsubset_size: 0.7\n"
     ]
    },
    {
     "data": {
      "text/html": [
       "Tracking run with wandb version 0.13.10"
      ],
      "text/plain": [
       "<IPython.core.display.HTML object>"
      ]
     },
     "metadata": {},
     "output_type": "display_data"
    },
    {
     "data": {
      "text/html": [
       "Run data is saved locally in <code>/home/ubuntu/thesis_implementation/wandb/run-20230226_023804-d3zpbqs7</code>"
      ],
      "text/plain": [
       "<IPython.core.display.HTML object>"
      ]
     },
     "metadata": {},
     "output_type": "display_data"
    },
    {
     "data": {
      "text/html": [
       "Syncing run <strong><a href='https://wandb.ai/isaacwasserman/Graphically%20Guided%20Neural%20EM%20for%20Unsupervised%20Image%20Segmentation/runs/d3zpbqs7' target=\"_blank\">effortless-sweep-30</a></strong> to <a href='https://wandb.ai/isaacwasserman/Graphically%20Guided%20Neural%20EM%20for%20Unsupervised%20Image%20Segmentation' target=\"_blank\">Weights & Biases</a> (<a href='https://wandb.me/run' target=\"_blank\">docs</a>)<br/>Sweep page: <a href='https://wandb.ai/isaacwasserman/Graphically%20Guided%20Neural%20EM%20for%20Unsupervised%20Image%20Segmentation/sweeps/f60ae4yq' target=\"_blank\">https://wandb.ai/isaacwasserman/Graphically%20Guided%20Neural%20EM%20for%20Unsupervised%20Image%20Segmentation/sweeps/f60ae4yq</a>"
      ],
      "text/plain": [
       "<IPython.core.display.HTML object>"
      ]
     },
     "metadata": {},
     "output_type": "display_data"
    },
    {
     "data": {
      "text/html": [
       " View project at <a href='https://wandb.ai/isaacwasserman/Graphically%20Guided%20Neural%20EM%20for%20Unsupervised%20Image%20Segmentation' target=\"_blank\">https://wandb.ai/isaacwasserman/Graphically%20Guided%20Neural%20EM%20for%20Unsupervised%20Image%20Segmentation</a>"
      ],
      "text/plain": [
       "<IPython.core.display.HTML object>"
      ]
     },
     "metadata": {},
     "output_type": "display_data"
    },
    {
     "data": {
      "text/html": [
       " View sweep at <a href='https://wandb.ai/isaacwasserman/Graphically%20Guided%20Neural%20EM%20for%20Unsupervised%20Image%20Segmentation/sweeps/f60ae4yq' target=\"_blank\">https://wandb.ai/isaacwasserman/Graphically%20Guided%20Neural%20EM%20for%20Unsupervised%20Image%20Segmentation/sweeps/f60ae4yq</a>"
      ],
      "text/plain": [
       "<IPython.core.display.HTML object>"
      ]
     },
     "metadata": {},
     "output_type": "display_data"
    },
    {
     "data": {
      "text/html": [
       " View run at <a href='https://wandb.ai/isaacwasserman/Graphically%20Guided%20Neural%20EM%20for%20Unsupervised%20Image%20Segmentation/runs/d3zpbqs7' target=\"_blank\">https://wandb.ai/isaacwasserman/Graphically%20Guided%20Neural%20EM%20for%20Unsupervised%20Image%20Segmentation/runs/d3zpbqs7</a>"
      ],
      "text/plain": [
       "<IPython.core.display.HTML object>"
      ]
     },
     "metadata": {},
     "output_type": "display_data"
    },
    {
     "name": "stderr",
     "output_type": "stream",
     "text": [
      "100%|██████████| 4/4 [00:00<00:00, 114.41it/s]\n",
      "100%|██████████| 4/4 [00:00<00:00, 131.64it/s]\n",
      "100%|██████████| 4/4 [00:00<00:00, 133.37it/s]\n",
      "100%|██████████| 4/4 [00:00<00:00, 132.93it/s]\n",
      "100%|██████████| 4/4 [00:00<00:00, 132.17it/s]\n",
      "100%|██████████| 4/4 [00:00<00:00, 133.42it/s]\n"
     ]
    },
    {
     "data": {
      "text/html": [
       "Waiting for W&B process to finish... <strong style=\"color:green\">(success).</strong>"
      ],
      "text/plain": [
       "<IPython.core.display.HTML object>"
      ]
     },
     "metadata": {},
     "output_type": "display_data"
    },
    {
     "data": {
      "text/html": [
       "<style>\n",
       "    table.wandb td:nth-child(1) { padding: 0 10px; text-align: left ; width: auto;} td:nth-child(2) {text-align: left ; width: 100%}\n",
       "    .wandb-row { display: flex; flex-direction: row; flex-wrap: wrap; justify-content: flex-start; width: 100% }\n",
       "    .wandb-col { display: flex; flex-direction: column; flex-basis: 100%; flex: 1; padding: 10px; }\n",
       "    </style>\n",
       "<div class=\"wandb-row\"><div class=\"wandb-col\"><h3>Run history:</h3><br/><table class=\"wandb\"><tr><td>Avg. F1 Score</td><td>▁</td></tr></table><br/></div><div class=\"wandb-col\"><h3>Run summary:</h3><br/><table class=\"wandb\"><tr><td>Avg. F1 Score</td><td>0.58767</td></tr></table><br/></div></div>"
      ],
      "text/plain": [
       "<IPython.core.display.HTML object>"
      ]
     },
     "metadata": {},
     "output_type": "display_data"
    },
    {
     "data": {
      "text/html": [
       " View run <strong style=\"color:#cdcd00\">effortless-sweep-30</strong> at: <a href='https://wandb.ai/isaacwasserman/Graphically%20Guided%20Neural%20EM%20for%20Unsupervised%20Image%20Segmentation/runs/d3zpbqs7' target=\"_blank\">https://wandb.ai/isaacwasserman/Graphically%20Guided%20Neural%20EM%20for%20Unsupervised%20Image%20Segmentation/runs/d3zpbqs7</a><br/>Synced 5 W&B file(s), 0 media file(s), 0 artifact file(s) and 0 other file(s)"
      ],
      "text/plain": [
       "<IPython.core.display.HTML object>"
      ]
     },
     "metadata": {},
     "output_type": "display_data"
    },
    {
     "data": {
      "text/html": [
       "Find logs at: <code>./wandb/run-20230226_023804-d3zpbqs7/logs</code>"
      ],
      "text/plain": [
       "<IPython.core.display.HTML object>"
      ]
     },
     "metadata": {},
     "output_type": "display_data"
    },
    {
     "name": "stderr",
     "output_type": "stream",
     "text": [
      "wandb: Agent Starting Run: jfz4an23 with config:\n",
      "wandb: \td: 16\n",
      "wandb: \tdropout: 0.1\n",
      "wandb: \timage_size: [512, 512]\n",
      "wandb: \titerations: 100\n",
      "wandb: \tlambda_: 0.1\n",
      "wandb: \tlr: 0.01\n",
      "wandb: \tn_filters: 128\n",
      "wandb: \tnoise: 0\n",
      "wandb: \tprediction_stride: 4\n",
      "wandb: \tseed: 0\n",
      "wandb: \tsubset_size: 0.3\n"
     ]
    },
    {
     "data": {
      "text/html": [
       "Tracking run with wandb version 0.13.10"
      ],
      "text/plain": [
       "<IPython.core.display.HTML object>"
      ]
     },
     "metadata": {},
     "output_type": "display_data"
    },
    {
     "data": {
      "text/html": [
       "Run data is saved locally in <code>/home/ubuntu/thesis_implementation/wandb/run-20230226_023825-jfz4an23</code>"
      ],
      "text/plain": [
       "<IPython.core.display.HTML object>"
      ]
     },
     "metadata": {},
     "output_type": "display_data"
    },
    {
     "data": {
      "text/html": [
       "Syncing run <strong><a href='https://wandb.ai/isaacwasserman/Graphically%20Guided%20Neural%20EM%20for%20Unsupervised%20Image%20Segmentation/runs/jfz4an23' target=\"_blank\">bumbling-sweep-31</a></strong> to <a href='https://wandb.ai/isaacwasserman/Graphically%20Guided%20Neural%20EM%20for%20Unsupervised%20Image%20Segmentation' target=\"_blank\">Weights & Biases</a> (<a href='https://wandb.me/run' target=\"_blank\">docs</a>)<br/>Sweep page: <a href='https://wandb.ai/isaacwasserman/Graphically%20Guided%20Neural%20EM%20for%20Unsupervised%20Image%20Segmentation/sweeps/f60ae4yq' target=\"_blank\">https://wandb.ai/isaacwasserman/Graphically%20Guided%20Neural%20EM%20for%20Unsupervised%20Image%20Segmentation/sweeps/f60ae4yq</a>"
      ],
      "text/plain": [
       "<IPython.core.display.HTML object>"
      ]
     },
     "metadata": {},
     "output_type": "display_data"
    },
    {
     "data": {
      "text/html": [
       " View project at <a href='https://wandb.ai/isaacwasserman/Graphically%20Guided%20Neural%20EM%20for%20Unsupervised%20Image%20Segmentation' target=\"_blank\">https://wandb.ai/isaacwasserman/Graphically%20Guided%20Neural%20EM%20for%20Unsupervised%20Image%20Segmentation</a>"
      ],
      "text/plain": [
       "<IPython.core.display.HTML object>"
      ]
     },
     "metadata": {},
     "output_type": "display_data"
    },
    {
     "data": {
      "text/html": [
       " View sweep at <a href='https://wandb.ai/isaacwasserman/Graphically%20Guided%20Neural%20EM%20for%20Unsupervised%20Image%20Segmentation/sweeps/f60ae4yq' target=\"_blank\">https://wandb.ai/isaacwasserman/Graphically%20Guided%20Neural%20EM%20for%20Unsupervised%20Image%20Segmentation/sweeps/f60ae4yq</a>"
      ],
      "text/plain": [
       "<IPython.core.display.HTML object>"
      ]
     },
     "metadata": {},
     "output_type": "display_data"
    },
    {
     "data": {
      "text/html": [
       " View run at <a href='https://wandb.ai/isaacwasserman/Graphically%20Guided%20Neural%20EM%20for%20Unsupervised%20Image%20Segmentation/runs/jfz4an23' target=\"_blank\">https://wandb.ai/isaacwasserman/Graphically%20Guided%20Neural%20EM%20for%20Unsupervised%20Image%20Segmentation/runs/jfz4an23</a>"
      ],
      "text/plain": [
       "<IPython.core.display.HTML object>"
      ]
     },
     "metadata": {},
     "output_type": "display_data"
    },
    {
     "name": "stderr",
     "output_type": "stream",
     "text": [
      "100%|██████████| 4/4 [00:00<00:00, 31.54it/s]\n",
      "100%|██████████| 4/4 [00:00<00:00, 141.65it/s]\n",
      "100%|██████████| 4/4 [00:00<00:00, 142.47it/s]\n",
      "100%|██████████| 4/4 [00:00<00:00, 136.80it/s]\n",
      "100%|██████████| 4/4 [00:00<00:00, 137.96it/s]\n",
      "100%|██████████| 4/4 [00:00<00:00, 142.87it/s]\n"
     ]
    },
    {
     "data": {
      "text/html": [
       "Waiting for W&B process to finish... <strong style=\"color:green\">(success).</strong>"
      ],
      "text/plain": [
       "<IPython.core.display.HTML object>"
      ]
     },
     "metadata": {},
     "output_type": "display_data"
    },
    {
     "data": {
      "application/vnd.jupyter.widget-view+json": {
       "model_id": "5017ba8d4acc418dbd14c6f5fb8f61f9",
       "version_major": 2,
       "version_minor": 0
      },
      "text/plain": [
       "VBox(children=(Label(value='0.001 MB of 0.001 MB uploaded (0.000 MB deduped)\\r'), FloatProgress(value=1.0, max…"
      ]
     },
     "metadata": {},
     "output_type": "display_data"
    },
    {
     "data": {
      "text/html": [
       "<style>\n",
       "    table.wandb td:nth-child(1) { padding: 0 10px; text-align: left ; width: auto;} td:nth-child(2) {text-align: left ; width: 100%}\n",
       "    .wandb-row { display: flex; flex-direction: row; flex-wrap: wrap; justify-content: flex-start; width: 100% }\n",
       "    .wandb-col { display: flex; flex-direction: column; flex-basis: 100%; flex: 1; padding: 10px; }\n",
       "    </style>\n",
       "<div class=\"wandb-row\"><div class=\"wandb-col\"><h3>Run history:</h3><br/><table class=\"wandb\"><tr><td>Avg. F1 Score</td><td>▁</td></tr></table><br/></div><div class=\"wandb-col\"><h3>Run summary:</h3><br/><table class=\"wandb\"><tr><td>Avg. F1 Score</td><td>0.70888</td></tr></table><br/></div></div>"
      ],
      "text/plain": [
       "<IPython.core.display.HTML object>"
      ]
     },
     "metadata": {},
     "output_type": "display_data"
    },
    {
     "data": {
      "text/html": [
       " View run <strong style=\"color:#cdcd00\">bumbling-sweep-31</strong> at: <a href='https://wandb.ai/isaacwasserman/Graphically%20Guided%20Neural%20EM%20for%20Unsupervised%20Image%20Segmentation/runs/jfz4an23' target=\"_blank\">https://wandb.ai/isaacwasserman/Graphically%20Guided%20Neural%20EM%20for%20Unsupervised%20Image%20Segmentation/runs/jfz4an23</a><br/>Synced 5 W&B file(s), 0 media file(s), 0 artifact file(s) and 0 other file(s)"
      ],
      "text/plain": [
       "<IPython.core.display.HTML object>"
      ]
     },
     "metadata": {},
     "output_type": "display_data"
    },
    {
     "data": {
      "text/html": [
       "Find logs at: <code>./wandb/run-20230226_023825-jfz4an23/logs</code>"
      ],
      "text/plain": [
       "<IPython.core.display.HTML object>"
      ]
     },
     "metadata": {},
     "output_type": "display_data"
    },
    {
     "name": "stderr",
     "output_type": "stream",
     "text": [
      "wandb: Agent Starting Run: 7tksf2om with config:\n",
      "wandb: \td: 8\n",
      "wandb: \tdropout: 0.3\n",
      "wandb: \timage_size: [512, 512]\n",
      "wandb: \titerations: 400\n",
      "wandb: \tlambda_: 0.5\n",
      "wandb: \tlr: 0.005\n",
      "wandb: \tn_filters: 16\n",
      "wandb: \tnoise: 0\n",
      "wandb: \tprediction_stride: 4\n",
      "wandb: \tseed: 0\n",
      "wandb: \tsubset_size: 0.3\n"
     ]
    },
    {
     "data": {
      "text/html": [
       "Tracking run with wandb version 0.13.10"
      ],
      "text/plain": [
       "<IPython.core.display.HTML object>"
      ]
     },
     "metadata": {},
     "output_type": "display_data"
    },
    {
     "data": {
      "text/html": [
       "Run data is saved locally in <code>/home/ubuntu/thesis_implementation/wandb/run-20230226_023856-7tksf2om</code>"
      ],
      "text/plain": [
       "<IPython.core.display.HTML object>"
      ]
     },
     "metadata": {},
     "output_type": "display_data"
    },
    {
     "data": {
      "text/html": [
       "Syncing run <strong><a href='https://wandb.ai/isaacwasserman/Graphically%20Guided%20Neural%20EM%20for%20Unsupervised%20Image%20Segmentation/runs/7tksf2om' target=\"_blank\">cerulean-sweep-32</a></strong> to <a href='https://wandb.ai/isaacwasserman/Graphically%20Guided%20Neural%20EM%20for%20Unsupervised%20Image%20Segmentation' target=\"_blank\">Weights & Biases</a> (<a href='https://wandb.me/run' target=\"_blank\">docs</a>)<br/>Sweep page: <a href='https://wandb.ai/isaacwasserman/Graphically%20Guided%20Neural%20EM%20for%20Unsupervised%20Image%20Segmentation/sweeps/f60ae4yq' target=\"_blank\">https://wandb.ai/isaacwasserman/Graphically%20Guided%20Neural%20EM%20for%20Unsupervised%20Image%20Segmentation/sweeps/f60ae4yq</a>"
      ],
      "text/plain": [
       "<IPython.core.display.HTML object>"
      ]
     },
     "metadata": {},
     "output_type": "display_data"
    },
    {
     "data": {
      "text/html": [
       " View project at <a href='https://wandb.ai/isaacwasserman/Graphically%20Guided%20Neural%20EM%20for%20Unsupervised%20Image%20Segmentation' target=\"_blank\">https://wandb.ai/isaacwasserman/Graphically%20Guided%20Neural%20EM%20for%20Unsupervised%20Image%20Segmentation</a>"
      ],
      "text/plain": [
       "<IPython.core.display.HTML object>"
      ]
     },
     "metadata": {},
     "output_type": "display_data"
    },
    {
     "data": {
      "text/html": [
       " View sweep at <a href='https://wandb.ai/isaacwasserman/Graphically%20Guided%20Neural%20EM%20for%20Unsupervised%20Image%20Segmentation/sweeps/f60ae4yq' target=\"_blank\">https://wandb.ai/isaacwasserman/Graphically%20Guided%20Neural%20EM%20for%20Unsupervised%20Image%20Segmentation/sweeps/f60ae4yq</a>"
      ],
      "text/plain": [
       "<IPython.core.display.HTML object>"
      ]
     },
     "metadata": {},
     "output_type": "display_data"
    },
    {
     "data": {
      "text/html": [
       " View run at <a href='https://wandb.ai/isaacwasserman/Graphically%20Guided%20Neural%20EM%20for%20Unsupervised%20Image%20Segmentation/runs/7tksf2om' target=\"_blank\">https://wandb.ai/isaacwasserman/Graphically%20Guided%20Neural%20EM%20for%20Unsupervised%20Image%20Segmentation/runs/7tksf2om</a>"
      ],
      "text/plain": [
       "<IPython.core.display.HTML object>"
      ]
     },
     "metadata": {},
     "output_type": "display_data"
    },
    {
     "name": "stderr",
     "output_type": "stream",
     "text": [
      "100%|██████████| 4/4 [00:00<00:00, 147.63it/s]\n",
      "100%|██████████| 4/4 [00:00<00:00, 152.10it/s]\n",
      "100%|██████████| 4/4 [00:00<00:00, 155.49it/s]\n",
      "100%|██████████| 4/4 [00:00<00:00, 152.76it/s]\n",
      "100%|██████████| 4/4 [00:00<00:00, 149.18it/s]\n",
      "100%|██████████| 4/4 [00:00<00:00, 95.27it/s]\n"
     ]
    },
    {
     "data": {
      "text/html": [
       "Waiting for W&B process to finish... <strong style=\"color:green\">(success).</strong>"
      ],
      "text/plain": [
       "<IPython.core.display.HTML object>"
      ]
     },
     "metadata": {},
     "output_type": "display_data"
    },
    {
     "data": {
      "text/html": [
       "<style>\n",
       "    table.wandb td:nth-child(1) { padding: 0 10px; text-align: left ; width: auto;} td:nth-child(2) {text-align: left ; width: 100%}\n",
       "    .wandb-row { display: flex; flex-direction: row; flex-wrap: wrap; justify-content: flex-start; width: 100% }\n",
       "    .wandb-col { display: flex; flex-direction: column; flex-basis: 100%; flex: 1; padding: 10px; }\n",
       "    </style>\n",
       "<div class=\"wandb-row\"><div class=\"wandb-col\"><h3>Run history:</h3><br/><table class=\"wandb\"><tr><td>Avg. F1 Score</td><td>▁</td></tr></table><br/></div><div class=\"wandb-col\"><h3>Run summary:</h3><br/><table class=\"wandb\"><tr><td>Avg. F1 Score</td><td>0.6622</td></tr></table><br/></div></div>"
      ],
      "text/plain": [
       "<IPython.core.display.HTML object>"
      ]
     },
     "metadata": {},
     "output_type": "display_data"
    },
    {
     "data": {
      "text/html": [
       " View run <strong style=\"color:#cdcd00\">cerulean-sweep-32</strong> at: <a href='https://wandb.ai/isaacwasserman/Graphically%20Guided%20Neural%20EM%20for%20Unsupervised%20Image%20Segmentation/runs/7tksf2om' target=\"_blank\">https://wandb.ai/isaacwasserman/Graphically%20Guided%20Neural%20EM%20for%20Unsupervised%20Image%20Segmentation/runs/7tksf2om</a><br/>Synced 5 W&B file(s), 0 media file(s), 0 artifact file(s) and 0 other file(s)"
      ],
      "text/plain": [
       "<IPython.core.display.HTML object>"
      ]
     },
     "metadata": {},
     "output_type": "display_data"
    },
    {
     "data": {
      "text/html": [
       "Find logs at: <code>./wandb/run-20230226_023856-7tksf2om/logs</code>"
      ],
      "text/plain": [
       "<IPython.core.display.HTML object>"
      ]
     },
     "metadata": {},
     "output_type": "display_data"
    },
    {
     "name": "stderr",
     "output_type": "stream",
     "text": [
      "wandb: Agent Starting Run: toyyxjvl with config:\n",
      "wandb: \td: 32\n",
      "wandb: \tdropout: 0.2\n",
      "wandb: \timage_size: [512, 512]\n",
      "wandb: \titerations: 400\n",
      "wandb: \tlambda_: 0.4\n",
      "wandb: \tlr: 0.01\n",
      "wandb: \tn_filters: 128\n",
      "wandb: \tnoise: 0\n",
      "wandb: \tprediction_stride: 4\n",
      "wandb: \tseed: 0\n",
      "wandb: \tsubset_size: 0.5\n"
     ]
    },
    {
     "data": {
      "text/html": [
       "Tracking run with wandb version 0.13.10"
      ],
      "text/plain": [
       "<IPython.core.display.HTML object>"
      ]
     },
     "metadata": {},
     "output_type": "display_data"
    },
    {
     "data": {
      "text/html": [
       "Run data is saved locally in <code>/home/ubuntu/thesis_implementation/wandb/run-20230226_023917-toyyxjvl</code>"
      ],
      "text/plain": [
       "<IPython.core.display.HTML object>"
      ]
     },
     "metadata": {},
     "output_type": "display_data"
    },
    {
     "data": {
      "text/html": [
       "Syncing run <strong><a href='https://wandb.ai/isaacwasserman/Graphically%20Guided%20Neural%20EM%20for%20Unsupervised%20Image%20Segmentation/runs/toyyxjvl' target=\"_blank\">chocolate-sweep-33</a></strong> to <a href='https://wandb.ai/isaacwasserman/Graphically%20Guided%20Neural%20EM%20for%20Unsupervised%20Image%20Segmentation' target=\"_blank\">Weights & Biases</a> (<a href='https://wandb.me/run' target=\"_blank\">docs</a>)<br/>Sweep page: <a href='https://wandb.ai/isaacwasserman/Graphically%20Guided%20Neural%20EM%20for%20Unsupervised%20Image%20Segmentation/sweeps/f60ae4yq' target=\"_blank\">https://wandb.ai/isaacwasserman/Graphically%20Guided%20Neural%20EM%20for%20Unsupervised%20Image%20Segmentation/sweeps/f60ae4yq</a>"
      ],
      "text/plain": [
       "<IPython.core.display.HTML object>"
      ]
     },
     "metadata": {},
     "output_type": "display_data"
    },
    {
     "data": {
      "text/html": [
       " View project at <a href='https://wandb.ai/isaacwasserman/Graphically%20Guided%20Neural%20EM%20for%20Unsupervised%20Image%20Segmentation' target=\"_blank\">https://wandb.ai/isaacwasserman/Graphically%20Guided%20Neural%20EM%20for%20Unsupervised%20Image%20Segmentation</a>"
      ],
      "text/plain": [
       "<IPython.core.display.HTML object>"
      ]
     },
     "metadata": {},
     "output_type": "display_data"
    },
    {
     "data": {
      "text/html": [
       " View sweep at <a href='https://wandb.ai/isaacwasserman/Graphically%20Guided%20Neural%20EM%20for%20Unsupervised%20Image%20Segmentation/sweeps/f60ae4yq' target=\"_blank\">https://wandb.ai/isaacwasserman/Graphically%20Guided%20Neural%20EM%20for%20Unsupervised%20Image%20Segmentation/sweeps/f60ae4yq</a>"
      ],
      "text/plain": [
       "<IPython.core.display.HTML object>"
      ]
     },
     "metadata": {},
     "output_type": "display_data"
    },
    {
     "data": {
      "text/html": [
       " View run at <a href='https://wandb.ai/isaacwasserman/Graphically%20Guided%20Neural%20EM%20for%20Unsupervised%20Image%20Segmentation/runs/toyyxjvl' target=\"_blank\">https://wandb.ai/isaacwasserman/Graphically%20Guided%20Neural%20EM%20for%20Unsupervised%20Image%20Segmentation/runs/toyyxjvl</a>"
      ],
      "text/plain": [
       "<IPython.core.display.HTML object>"
      ]
     },
     "metadata": {},
     "output_type": "display_data"
    },
    {
     "name": "stderr",
     "output_type": "stream",
     "text": [
      "100%|██████████| 4/4 [00:00<00:00, 102.51it/s]\n",
      "100%|██████████| 4/4 [00:00<00:00, 97.00it/s]\n",
      "100%|██████████| 4/4 [00:00<00:00, 95.41it/s]\n",
      "100%|██████████| 4/4 [00:00<00:00, 26.91it/s]\n",
      "100%|██████████| 4/4 [00:00<00:00, 86.71it/s]\n",
      "100%|██████████| 4/4 [00:00<00:00, 85.45it/s]\n"
     ]
    },
    {
     "data": {
      "text/html": [
       "Waiting for W&B process to finish... <strong style=\"color:green\">(success).</strong>"
      ],
      "text/plain": [
       "<IPython.core.display.HTML object>"
      ]
     },
     "metadata": {},
     "output_type": "display_data"
    },
    {
     "data": {
      "application/vnd.jupyter.widget-view+json": {
       "model_id": "db00ead5593e486ea077c9f93d908216",
       "version_major": 2,
       "version_minor": 0
      },
      "text/plain": [
       "VBox(children=(Label(value='0.001 MB of 0.001 MB uploaded (0.000 MB deduped)\\r'), FloatProgress(value=0.646749…"
      ]
     },
     "metadata": {},
     "output_type": "display_data"
    },
    {
     "data": {
      "text/html": [
       "<style>\n",
       "    table.wandb td:nth-child(1) { padding: 0 10px; text-align: left ; width: auto;} td:nth-child(2) {text-align: left ; width: 100%}\n",
       "    .wandb-row { display: flex; flex-direction: row; flex-wrap: wrap; justify-content: flex-start; width: 100% }\n",
       "    .wandb-col { display: flex; flex-direction: column; flex-basis: 100%; flex: 1; padding: 10px; }\n",
       "    </style>\n",
       "<div class=\"wandb-row\"><div class=\"wandb-col\"><h3>Run history:</h3><br/><table class=\"wandb\"><tr><td>Avg. F1 Score</td><td>▁</td></tr></table><br/></div><div class=\"wandb-col\"><h3>Run summary:</h3><br/><table class=\"wandb\"><tr><td>Avg. F1 Score</td><td>0.69991</td></tr></table><br/></div></div>"
      ],
      "text/plain": [
       "<IPython.core.display.HTML object>"
      ]
     },
     "metadata": {},
     "output_type": "display_data"
    },
    {
     "data": {
      "text/html": [
       " View run <strong style=\"color:#cdcd00\">chocolate-sweep-33</strong> at: <a href='https://wandb.ai/isaacwasserman/Graphically%20Guided%20Neural%20EM%20for%20Unsupervised%20Image%20Segmentation/runs/toyyxjvl' target=\"_blank\">https://wandb.ai/isaacwasserman/Graphically%20Guided%20Neural%20EM%20for%20Unsupervised%20Image%20Segmentation/runs/toyyxjvl</a><br/>Synced 5 W&B file(s), 0 media file(s), 0 artifact file(s) and 0 other file(s)"
      ],
      "text/plain": [
       "<IPython.core.display.HTML object>"
      ]
     },
     "metadata": {},
     "output_type": "display_data"
    },
    {
     "data": {
      "text/html": [
       "Find logs at: <code>./wandb/run-20230226_023917-toyyxjvl/logs</code>"
      ],
      "text/plain": [
       "<IPython.core.display.HTML object>"
      ]
     },
     "metadata": {},
     "output_type": "display_data"
    },
    {
     "name": "stderr",
     "output_type": "stream",
     "text": [
      "wandb: Agent Starting Run: ulhdgwlu with config:\n",
      "wandb: \td: 32\n",
      "wandb: \tdropout: 0.2\n",
      "wandb: \timage_size: [512, 512]\n",
      "wandb: \titerations: 200\n",
      "wandb: \tlambda_: 0.4\n",
      "wandb: \tlr: 0.001\n",
      "wandb: \tn_filters: 16\n",
      "wandb: \tnoise: 0\n",
      "wandb: \tprediction_stride: 4\n",
      "wandb: \tseed: 0\n",
      "wandb: \tsubset_size: 0.7\n"
     ]
    },
    {
     "data": {
      "text/html": [
       "Tracking run with wandb version 0.13.10"
      ],
      "text/plain": [
       "<IPython.core.display.HTML object>"
      ]
     },
     "metadata": {},
     "output_type": "display_data"
    },
    {
     "data": {
      "text/html": [
       "Run data is saved locally in <code>/home/ubuntu/thesis_implementation/wandb/run-20230226_024037-ulhdgwlu</code>"
      ],
      "text/plain": [
       "<IPython.core.display.HTML object>"
      ]
     },
     "metadata": {},
     "output_type": "display_data"
    },
    {
     "data": {
      "text/html": [
       "Syncing run <strong><a href='https://wandb.ai/isaacwasserman/Graphically%20Guided%20Neural%20EM%20for%20Unsupervised%20Image%20Segmentation/runs/ulhdgwlu' target=\"_blank\">neat-sweep-34</a></strong> to <a href='https://wandb.ai/isaacwasserman/Graphically%20Guided%20Neural%20EM%20for%20Unsupervised%20Image%20Segmentation' target=\"_blank\">Weights & Biases</a> (<a href='https://wandb.me/run' target=\"_blank\">docs</a>)<br/>Sweep page: <a href='https://wandb.ai/isaacwasserman/Graphically%20Guided%20Neural%20EM%20for%20Unsupervised%20Image%20Segmentation/sweeps/f60ae4yq' target=\"_blank\">https://wandb.ai/isaacwasserman/Graphically%20Guided%20Neural%20EM%20for%20Unsupervised%20Image%20Segmentation/sweeps/f60ae4yq</a>"
      ],
      "text/plain": [
       "<IPython.core.display.HTML object>"
      ]
     },
     "metadata": {},
     "output_type": "display_data"
    },
    {
     "data": {
      "text/html": [
       " View project at <a href='https://wandb.ai/isaacwasserman/Graphically%20Guided%20Neural%20EM%20for%20Unsupervised%20Image%20Segmentation' target=\"_blank\">https://wandb.ai/isaacwasserman/Graphically%20Guided%20Neural%20EM%20for%20Unsupervised%20Image%20Segmentation</a>"
      ],
      "text/plain": [
       "<IPython.core.display.HTML object>"
      ]
     },
     "metadata": {},
     "output_type": "display_data"
    },
    {
     "data": {
      "text/html": [
       " View sweep at <a href='https://wandb.ai/isaacwasserman/Graphically%20Guided%20Neural%20EM%20for%20Unsupervised%20Image%20Segmentation/sweeps/f60ae4yq' target=\"_blank\">https://wandb.ai/isaacwasserman/Graphically%20Guided%20Neural%20EM%20for%20Unsupervised%20Image%20Segmentation/sweeps/f60ae4yq</a>"
      ],
      "text/plain": [
       "<IPython.core.display.HTML object>"
      ]
     },
     "metadata": {},
     "output_type": "display_data"
    },
    {
     "data": {
      "text/html": [
       " View run at <a href='https://wandb.ai/isaacwasserman/Graphically%20Guided%20Neural%20EM%20for%20Unsupervised%20Image%20Segmentation/runs/ulhdgwlu' target=\"_blank\">https://wandb.ai/isaacwasserman/Graphically%20Guided%20Neural%20EM%20for%20Unsupervised%20Image%20Segmentation/runs/ulhdgwlu</a>"
      ],
      "text/plain": [
       "<IPython.core.display.HTML object>"
      ]
     },
     "metadata": {},
     "output_type": "display_data"
    },
    {
     "name": "stderr",
     "output_type": "stream",
     "text": [
      "100%|██████████| 4/4 [00:00<00:00, 107.94it/s]\n",
      "100%|██████████| 4/4 [00:00<00:00, 128.63it/s]\n",
      "100%|██████████| 4/4 [00:00<00:00, 107.18it/s]\n",
      "100%|██████████| 4/4 [00:00<00:00, 106.06it/s]\n",
      "100%|██████████| 4/4 [00:00<00:00, 105.46it/s]\n",
      "100%|██████████| 4/4 [00:00<00:00, 105.26it/s]\n"
     ]
    },
    {
     "data": {
      "text/html": [
       "Waiting for W&B process to finish... <strong style=\"color:green\">(success).</strong>"
      ],
      "text/plain": [
       "<IPython.core.display.HTML object>"
      ]
     },
     "metadata": {},
     "output_type": "display_data"
    },
    {
     "data": {
      "application/vnd.jupyter.widget-view+json": {
       "model_id": "45a132486320427c966a17d16ca4442d",
       "version_major": 2,
       "version_minor": 0
      },
      "text/plain": [
       "VBox(children=(Label(value='0.001 MB of 0.001 MB uploaded (0.000 MB deduped)\\r'), FloatProgress(value=1.0, max…"
      ]
     },
     "metadata": {},
     "output_type": "display_data"
    },
    {
     "data": {
      "text/html": [
       "<style>\n",
       "    table.wandb td:nth-child(1) { padding: 0 10px; text-align: left ; width: auto;} td:nth-child(2) {text-align: left ; width: 100%}\n",
       "    .wandb-row { display: flex; flex-direction: row; flex-wrap: wrap; justify-content: flex-start; width: 100% }\n",
       "    .wandb-col { display: flex; flex-direction: column; flex-basis: 100%; flex: 1; padding: 10px; }\n",
       "    </style>\n",
       "<div class=\"wandb-row\"><div class=\"wandb-col\"><h3>Run history:</h3><br/><table class=\"wandb\"><tr><td>Avg. F1 Score</td><td>▁</td></tr></table><br/></div><div class=\"wandb-col\"><h3>Run summary:</h3><br/><table class=\"wandb\"><tr><td>Avg. F1 Score</td><td>0.67257</td></tr></table><br/></div></div>"
      ],
      "text/plain": [
       "<IPython.core.display.HTML object>"
      ]
     },
     "metadata": {},
     "output_type": "display_data"
    },
    {
     "data": {
      "text/html": [
       " View run <strong style=\"color:#cdcd00\">neat-sweep-34</strong> at: <a href='https://wandb.ai/isaacwasserman/Graphically%20Guided%20Neural%20EM%20for%20Unsupervised%20Image%20Segmentation/runs/ulhdgwlu' target=\"_blank\">https://wandb.ai/isaacwasserman/Graphically%20Guided%20Neural%20EM%20for%20Unsupervised%20Image%20Segmentation/runs/ulhdgwlu</a><br/>Synced 5 W&B file(s), 0 media file(s), 0 artifact file(s) and 0 other file(s)"
      ],
      "text/plain": [
       "<IPython.core.display.HTML object>"
      ]
     },
     "metadata": {},
     "output_type": "display_data"
    },
    {
     "data": {
      "text/html": [
       "Find logs at: <code>./wandb/run-20230226_024037-ulhdgwlu/logs</code>"
      ],
      "text/plain": [
       "<IPython.core.display.HTML object>"
      ]
     },
     "metadata": {},
     "output_type": "display_data"
    },
    {
     "name": "stderr",
     "output_type": "stream",
     "text": [
      "wandb: Agent Starting Run: 9yi51pzf with config:\n",
      "wandb: \td: 16\n",
      "wandb: \tdropout: 0.5\n",
      "wandb: \timage_size: [512, 512]\n",
      "wandb: \titerations: 400\n",
      "wandb: \tlambda_: 0.3\n",
      "wandb: \tlr: 0.005\n",
      "wandb: \tn_filters: 16\n",
      "wandb: \tnoise: 0\n",
      "wandb: \tprediction_stride: 4\n",
      "wandb: \tseed: 0\n",
      "wandb: \tsubset_size: 0.5\n"
     ]
    },
    {
     "data": {
      "text/html": [
       "Tracking run with wandb version 0.13.10"
      ],
      "text/plain": [
       "<IPython.core.display.HTML object>"
      ]
     },
     "metadata": {},
     "output_type": "display_data"
    },
    {
     "data": {
      "text/html": [
       "Run data is saved locally in <code>/home/ubuntu/thesis_implementation/wandb/run-20230226_024059-9yi51pzf</code>"
      ],
      "text/plain": [
       "<IPython.core.display.HTML object>"
      ]
     },
     "metadata": {},
     "output_type": "display_data"
    },
    {
     "data": {
      "text/html": [
       "Syncing run <strong><a href='https://wandb.ai/isaacwasserman/Graphically%20Guided%20Neural%20EM%20for%20Unsupervised%20Image%20Segmentation/runs/9yi51pzf' target=\"_blank\">quiet-sweep-35</a></strong> to <a href='https://wandb.ai/isaacwasserman/Graphically%20Guided%20Neural%20EM%20for%20Unsupervised%20Image%20Segmentation' target=\"_blank\">Weights & Biases</a> (<a href='https://wandb.me/run' target=\"_blank\">docs</a>)<br/>Sweep page: <a href='https://wandb.ai/isaacwasserman/Graphically%20Guided%20Neural%20EM%20for%20Unsupervised%20Image%20Segmentation/sweeps/f60ae4yq' target=\"_blank\">https://wandb.ai/isaacwasserman/Graphically%20Guided%20Neural%20EM%20for%20Unsupervised%20Image%20Segmentation/sweeps/f60ae4yq</a>"
      ],
      "text/plain": [
       "<IPython.core.display.HTML object>"
      ]
     },
     "metadata": {},
     "output_type": "display_data"
    },
    {
     "data": {
      "text/html": [
       " View project at <a href='https://wandb.ai/isaacwasserman/Graphically%20Guided%20Neural%20EM%20for%20Unsupervised%20Image%20Segmentation' target=\"_blank\">https://wandb.ai/isaacwasserman/Graphically%20Guided%20Neural%20EM%20for%20Unsupervised%20Image%20Segmentation</a>"
      ],
      "text/plain": [
       "<IPython.core.display.HTML object>"
      ]
     },
     "metadata": {},
     "output_type": "display_data"
    },
    {
     "data": {
      "text/html": [
       " View sweep at <a href='https://wandb.ai/isaacwasserman/Graphically%20Guided%20Neural%20EM%20for%20Unsupervised%20Image%20Segmentation/sweeps/f60ae4yq' target=\"_blank\">https://wandb.ai/isaacwasserman/Graphically%20Guided%20Neural%20EM%20for%20Unsupervised%20Image%20Segmentation/sweeps/f60ae4yq</a>"
      ],
      "text/plain": [
       "<IPython.core.display.HTML object>"
      ]
     },
     "metadata": {},
     "output_type": "display_data"
    },
    {
     "data": {
      "text/html": [
       " View run at <a href='https://wandb.ai/isaacwasserman/Graphically%20Guided%20Neural%20EM%20for%20Unsupervised%20Image%20Segmentation/runs/9yi51pzf' target=\"_blank\">https://wandb.ai/isaacwasserman/Graphically%20Guided%20Neural%20EM%20for%20Unsupervised%20Image%20Segmentation/runs/9yi51pzf</a>"
      ],
      "text/plain": [
       "<IPython.core.display.HTML object>"
      ]
     },
     "metadata": {},
     "output_type": "display_data"
    },
    {
     "name": "stderr",
     "output_type": "stream",
     "text": [
      "100%|██████████| 4/4 [00:00<00:00, 120.17it/s]\n",
      "100%|██████████| 4/4 [00:00<00:00, 124.67it/s]\n",
      "100%|██████████| 4/4 [00:00<00:00, 129.57it/s]\n",
      "100%|██████████| 4/4 [00:00<00:00, 138.48it/s]\n",
      "100%|██████████| 4/4 [00:00<00:00, 31.55it/s]\n",
      "100%|██████████| 4/4 [00:00<00:00, 124.36it/s]\n"
     ]
    },
    {
     "data": {
      "text/html": [
       "Waiting for W&B process to finish... <strong style=\"color:green\">(success).</strong>"
      ],
      "text/plain": [
       "<IPython.core.display.HTML object>"
      ]
     },
     "metadata": {},
     "output_type": "display_data"
    },
    {
     "data": {
      "text/html": [
       "<style>\n",
       "    table.wandb td:nth-child(1) { padding: 0 10px; text-align: left ; width: auto;} td:nth-child(2) {text-align: left ; width: 100%}\n",
       "    .wandb-row { display: flex; flex-direction: row; flex-wrap: wrap; justify-content: flex-start; width: 100% }\n",
       "    .wandb-col { display: flex; flex-direction: column; flex-basis: 100%; flex: 1; padding: 10px; }\n",
       "    </style>\n",
       "<div class=\"wandb-row\"><div class=\"wandb-col\"><h3>Run history:</h3><br/><table class=\"wandb\"><tr><td>Avg. F1 Score</td><td>▁</td></tr></table><br/></div><div class=\"wandb-col\"><h3>Run summary:</h3><br/><table class=\"wandb\"><tr><td>Avg. F1 Score</td><td>0.66706</td></tr></table><br/></div></div>"
      ],
      "text/plain": [
       "<IPython.core.display.HTML object>"
      ]
     },
     "metadata": {},
     "output_type": "display_data"
    },
    {
     "data": {
      "text/html": [
       " View run <strong style=\"color:#cdcd00\">quiet-sweep-35</strong> at: <a href='https://wandb.ai/isaacwasserman/Graphically%20Guided%20Neural%20EM%20for%20Unsupervised%20Image%20Segmentation/runs/9yi51pzf' target=\"_blank\">https://wandb.ai/isaacwasserman/Graphically%20Guided%20Neural%20EM%20for%20Unsupervised%20Image%20Segmentation/runs/9yi51pzf</a><br/>Synced 5 W&B file(s), 0 media file(s), 0 artifact file(s) and 0 other file(s)"
      ],
      "text/plain": [
       "<IPython.core.display.HTML object>"
      ]
     },
     "metadata": {},
     "output_type": "display_data"
    },
    {
     "data": {
      "text/html": [
       "Find logs at: <code>./wandb/run-20230226_024059-9yi51pzf/logs</code>"
      ],
      "text/plain": [
       "<IPython.core.display.HTML object>"
      ]
     },
     "metadata": {},
     "output_type": "display_data"
    },
    {
     "name": "stderr",
     "output_type": "stream",
     "text": [
      "wandb: Agent Starting Run: vrohtj0z with config:\n",
      "wandb: \td: 8\n",
      "wandb: \tdropout: 0.1\n",
      "wandb: \timage_size: [512, 512]\n",
      "wandb: \titerations: 100\n",
      "wandb: \tlambda_: 0.5\n",
      "wandb: \tlr: 0.0001\n",
      "wandb: \tn_filters: 64\n",
      "wandb: \tnoise: 0\n",
      "wandb: \tprediction_stride: 4\n",
      "wandb: \tseed: 0\n",
      "wandb: \tsubset_size: 0.3\n"
     ]
    },
    {
     "data": {
      "text/html": [
       "Tracking run with wandb version 0.13.10"
      ],
      "text/plain": [
       "<IPython.core.display.HTML object>"
      ]
     },
     "metadata": {},
     "output_type": "display_data"
    },
    {
     "data": {
      "text/html": [
       "Run data is saved locally in <code>/home/ubuntu/thesis_implementation/wandb/run-20230226_024119-vrohtj0z</code>"
      ],
      "text/plain": [
       "<IPython.core.display.HTML object>"
      ]
     },
     "metadata": {},
     "output_type": "display_data"
    },
    {
     "data": {
      "text/html": [
       "Syncing run <strong><a href='https://wandb.ai/isaacwasserman/Graphically%20Guided%20Neural%20EM%20for%20Unsupervised%20Image%20Segmentation/runs/vrohtj0z' target=\"_blank\">pretty-sweep-36</a></strong> to <a href='https://wandb.ai/isaacwasserman/Graphically%20Guided%20Neural%20EM%20for%20Unsupervised%20Image%20Segmentation' target=\"_blank\">Weights & Biases</a> (<a href='https://wandb.me/run' target=\"_blank\">docs</a>)<br/>Sweep page: <a href='https://wandb.ai/isaacwasserman/Graphically%20Guided%20Neural%20EM%20for%20Unsupervised%20Image%20Segmentation/sweeps/f60ae4yq' target=\"_blank\">https://wandb.ai/isaacwasserman/Graphically%20Guided%20Neural%20EM%20for%20Unsupervised%20Image%20Segmentation/sweeps/f60ae4yq</a>"
      ],
      "text/plain": [
       "<IPython.core.display.HTML object>"
      ]
     },
     "metadata": {},
     "output_type": "display_data"
    },
    {
     "data": {
      "text/html": [
       " View project at <a href='https://wandb.ai/isaacwasserman/Graphically%20Guided%20Neural%20EM%20for%20Unsupervised%20Image%20Segmentation' target=\"_blank\">https://wandb.ai/isaacwasserman/Graphically%20Guided%20Neural%20EM%20for%20Unsupervised%20Image%20Segmentation</a>"
      ],
      "text/plain": [
       "<IPython.core.display.HTML object>"
      ]
     },
     "metadata": {},
     "output_type": "display_data"
    },
    {
     "data": {
      "text/html": [
       " View sweep at <a href='https://wandb.ai/isaacwasserman/Graphically%20Guided%20Neural%20EM%20for%20Unsupervised%20Image%20Segmentation/sweeps/f60ae4yq' target=\"_blank\">https://wandb.ai/isaacwasserman/Graphically%20Guided%20Neural%20EM%20for%20Unsupervised%20Image%20Segmentation/sweeps/f60ae4yq</a>"
      ],
      "text/plain": [
       "<IPython.core.display.HTML object>"
      ]
     },
     "metadata": {},
     "output_type": "display_data"
    },
    {
     "data": {
      "text/html": [
       " View run at <a href='https://wandb.ai/isaacwasserman/Graphically%20Guided%20Neural%20EM%20for%20Unsupervised%20Image%20Segmentation/runs/vrohtj0z' target=\"_blank\">https://wandb.ai/isaacwasserman/Graphically%20Guided%20Neural%20EM%20for%20Unsupervised%20Image%20Segmentation/runs/vrohtj0z</a>"
      ],
      "text/plain": [
       "<IPython.core.display.HTML object>"
      ]
     },
     "metadata": {},
     "output_type": "display_data"
    },
    {
     "name": "stderr",
     "output_type": "stream",
     "text": [
      "  0%|          | 0/4 [00:00<?, ?it/s]\n"
     ]
    },
    {
     "data": {
      "text/html": [
       "Waiting for W&B process to finish... <strong style=\"color:red\">(failed 1).</strong> Press Control-C to abort syncing."
      ],
      "text/plain": [
       "<IPython.core.display.HTML object>"
      ]
     },
     "metadata": {},
     "output_type": "display_data"
    },
    {
     "data": {
      "application/vnd.jupyter.widget-view+json": {
       "model_id": "440aebbf96e247a793fb89c200ee7628",
       "version_major": 2,
       "version_minor": 0
      },
      "text/plain": [
       "VBox(children=(Label(value='0.001 MB of 0.001 MB uploaded (0.000 MB deduped)\\r'), FloatProgress(value=1.0, max…"
      ]
     },
     "metadata": {},
     "output_type": "display_data"
    },
    {
     "data": {
      "text/html": [
       " View run <strong style=\"color:#cdcd00\">pretty-sweep-36</strong> at: <a href='https://wandb.ai/isaacwasserman/Graphically%20Guided%20Neural%20EM%20for%20Unsupervised%20Image%20Segmentation/runs/vrohtj0z' target=\"_blank\">https://wandb.ai/isaacwasserman/Graphically%20Guided%20Neural%20EM%20for%20Unsupervised%20Image%20Segmentation/runs/vrohtj0z</a><br/>Synced 5 W&B file(s), 0 media file(s), 0 artifact file(s) and 0 other file(s)"
      ],
      "text/plain": [
       "<IPython.core.display.HTML object>"
      ]
     },
     "metadata": {},
     "output_type": "display_data"
    },
    {
     "data": {
      "text/html": [
       "Find logs at: <code>./wandb/run-20230226_024119-vrohtj0z/logs</code>"
      ],
      "text/plain": [
       "<IPython.core.display.HTML object>"
      ]
     },
     "metadata": {},
     "output_type": "display_data"
    },
    {
     "name": "stderr",
     "output_type": "stream",
     "text": [
      "Run vrohtj0z errored: RuntimeError('CUDA out of memory. Tried to allocate 4.00 GiB (GPU 0; 22.06 GiB total capacity; 13.03 GiB already allocated; 128.44 MiB free; 20.27 GiB reserved in total by PyTorch) If reserved memory is >> allocated memory try setting max_split_size_mb to avoid fragmentation.  See documentation for Memory Management and PYTORCH_CUDA_ALLOC_CONF')\n",
      "wandb: ERROR Run vrohtj0z errored: RuntimeError('CUDA out of memory. Tried to allocate 4.00 GiB (GPU 0; 22.06 GiB total capacity; 13.03 GiB already allocated; 128.44 MiB free; 20.27 GiB reserved in total by PyTorch) If reserved memory is >> allocated memory try setting max_split_size_mb to avoid fragmentation.  See documentation for Memory Management and PYTORCH_CUDA_ALLOC_CONF')\n",
      "wandb: Agent Starting Run: 6ayh6m6a with config:\n",
      "wandb: \td: 16\n",
      "wandb: \tdropout: 0.4\n",
      "wandb: \timage_size: [512, 512]\n",
      "wandb: \titerations: 100\n",
      "wandb: \tlambda_: 0.2\n",
      "wandb: \tlr: 0.0001\n",
      "wandb: \tn_filters: 128\n",
      "wandb: \tnoise: 0\n",
      "wandb: \tprediction_stride: 4\n",
      "wandb: \tseed: 0\n",
      "wandb: \tsubset_size: 0.1\n"
     ]
    },
    {
     "data": {
      "text/html": [
       "Tracking run with wandb version 0.13.10"
      ],
      "text/plain": [
       "<IPython.core.display.HTML object>"
      ]
     },
     "metadata": {},
     "output_type": "display_data"
    },
    {
     "data": {
      "text/html": [
       "Run data is saved locally in <code>/home/ubuntu/thesis_implementation/wandb/run-20230226_024129-6ayh6m6a</code>"
      ],
      "text/plain": [
       "<IPython.core.display.HTML object>"
      ]
     },
     "metadata": {},
     "output_type": "display_data"
    },
    {
     "data": {
      "text/html": [
       "Syncing run <strong><a href='https://wandb.ai/isaacwasserman/Graphically%20Guided%20Neural%20EM%20for%20Unsupervised%20Image%20Segmentation/runs/6ayh6m6a' target=\"_blank\">deft-sweep-37</a></strong> to <a href='https://wandb.ai/isaacwasserman/Graphically%20Guided%20Neural%20EM%20for%20Unsupervised%20Image%20Segmentation' target=\"_blank\">Weights & Biases</a> (<a href='https://wandb.me/run' target=\"_blank\">docs</a>)<br/>Sweep page: <a href='https://wandb.ai/isaacwasserman/Graphically%20Guided%20Neural%20EM%20for%20Unsupervised%20Image%20Segmentation/sweeps/f60ae4yq' target=\"_blank\">https://wandb.ai/isaacwasserman/Graphically%20Guided%20Neural%20EM%20for%20Unsupervised%20Image%20Segmentation/sweeps/f60ae4yq</a>"
      ],
      "text/plain": [
       "<IPython.core.display.HTML object>"
      ]
     },
     "metadata": {},
     "output_type": "display_data"
    },
    {
     "data": {
      "text/html": [
       " View project at <a href='https://wandb.ai/isaacwasserman/Graphically%20Guided%20Neural%20EM%20for%20Unsupervised%20Image%20Segmentation' target=\"_blank\">https://wandb.ai/isaacwasserman/Graphically%20Guided%20Neural%20EM%20for%20Unsupervised%20Image%20Segmentation</a>"
      ],
      "text/plain": [
       "<IPython.core.display.HTML object>"
      ]
     },
     "metadata": {},
     "output_type": "display_data"
    },
    {
     "data": {
      "text/html": [
       " View sweep at <a href='https://wandb.ai/isaacwasserman/Graphically%20Guided%20Neural%20EM%20for%20Unsupervised%20Image%20Segmentation/sweeps/f60ae4yq' target=\"_blank\">https://wandb.ai/isaacwasserman/Graphically%20Guided%20Neural%20EM%20for%20Unsupervised%20Image%20Segmentation/sweeps/f60ae4yq</a>"
      ],
      "text/plain": [
       "<IPython.core.display.HTML object>"
      ]
     },
     "metadata": {},
     "output_type": "display_data"
    },
    {
     "data": {
      "text/html": [
       " View run at <a href='https://wandb.ai/isaacwasserman/Graphically%20Guided%20Neural%20EM%20for%20Unsupervised%20Image%20Segmentation/runs/6ayh6m6a' target=\"_blank\">https://wandb.ai/isaacwasserman/Graphically%20Guided%20Neural%20EM%20for%20Unsupervised%20Image%20Segmentation/runs/6ayh6m6a</a>"
      ],
      "text/plain": [
       "<IPython.core.display.HTML object>"
      ]
     },
     "metadata": {},
     "output_type": "display_data"
    },
    {
     "name": "stderr",
     "output_type": "stream",
     "text": [
      "100%|██████████| 4/4 [00:00<00:00, 134.84it/s]\n",
      "100%|██████████| 4/4 [00:00<00:00, 137.24it/s]\n",
      "100%|██████████| 4/4 [00:00<00:00, 134.72it/s]\n",
      "100%|██████████| 4/4 [00:00<00:00, 133.49it/s]\n",
      "100%|██████████| 4/4 [00:00<00:00, 137.36it/s]\n",
      "100%|██████████| 4/4 [00:00<00:00, 138.62it/s]\n"
     ]
    },
    {
     "data": {
      "text/html": [
       "Waiting for W&B process to finish... <strong style=\"color:green\">(success).</strong>"
      ],
      "text/plain": [
       "<IPython.core.display.HTML object>"
      ]
     },
     "metadata": {},
     "output_type": "display_data"
    },
    {
     "data": {
      "text/html": [
       "<style>\n",
       "    table.wandb td:nth-child(1) { padding: 0 10px; text-align: left ; width: auto;} td:nth-child(2) {text-align: left ; width: 100%}\n",
       "    .wandb-row { display: flex; flex-direction: row; flex-wrap: wrap; justify-content: flex-start; width: 100% }\n",
       "    .wandb-col { display: flex; flex-direction: column; flex-basis: 100%; flex: 1; padding: 10px; }\n",
       "    </style>\n",
       "<div class=\"wandb-row\"><div class=\"wandb-col\"><h3>Run history:</h3><br/><table class=\"wandb\"><tr><td>Avg. F1 Score</td><td>▁</td></tr></table><br/></div><div class=\"wandb-col\"><h3>Run summary:</h3><br/><table class=\"wandb\"><tr><td>Avg. F1 Score</td><td>0.63195</td></tr></table><br/></div></div>"
      ],
      "text/plain": [
       "<IPython.core.display.HTML object>"
      ]
     },
     "metadata": {},
     "output_type": "display_data"
    },
    {
     "data": {
      "text/html": [
       " View run <strong style=\"color:#cdcd00\">deft-sweep-37</strong> at: <a href='https://wandb.ai/isaacwasserman/Graphically%20Guided%20Neural%20EM%20for%20Unsupervised%20Image%20Segmentation/runs/6ayh6m6a' target=\"_blank\">https://wandb.ai/isaacwasserman/Graphically%20Guided%20Neural%20EM%20for%20Unsupervised%20Image%20Segmentation/runs/6ayh6m6a</a><br/>Synced 5 W&B file(s), 0 media file(s), 0 artifact file(s) and 0 other file(s)"
      ],
      "text/plain": [
       "<IPython.core.display.HTML object>"
      ]
     },
     "metadata": {},
     "output_type": "display_data"
    },
    {
     "data": {
      "text/html": [
       "Find logs at: <code>./wandb/run-20230226_024129-6ayh6m6a/logs</code>"
      ],
      "text/plain": [
       "<IPython.core.display.HTML object>"
      ]
     },
     "metadata": {},
     "output_type": "display_data"
    },
    {
     "name": "stderr",
     "output_type": "stream",
     "text": [
      "wandb: Agent Starting Run: yk15fopp with config:\n",
      "wandb: \td: 32\n",
      "wandb: \tdropout: 0.1\n",
      "wandb: \timage_size: [512, 512]\n",
      "wandb: \titerations: 100\n",
      "wandb: \tlambda_: 0.3\n",
      "wandb: \tlr: 0.0005\n",
      "wandb: \tn_filters: 32\n",
      "wandb: \tnoise: 0\n",
      "wandb: \tprediction_stride: 4\n",
      "wandb: \tseed: 0\n",
      "wandb: \tsubset_size: 0.5\n"
     ]
    },
    {
     "data": {
      "text/html": [
       "Tracking run with wandb version 0.13.10"
      ],
      "text/plain": [
       "<IPython.core.display.HTML object>"
      ]
     },
     "metadata": {},
     "output_type": "display_data"
    },
    {
     "data": {
      "text/html": [
       "Run data is saved locally in <code>/home/ubuntu/thesis_implementation/wandb/run-20230226_024154-yk15fopp</code>"
      ],
      "text/plain": [
       "<IPython.core.display.HTML object>"
      ]
     },
     "metadata": {},
     "output_type": "display_data"
    },
    {
     "data": {
      "text/html": [
       "Syncing run <strong><a href='https://wandb.ai/isaacwasserman/Graphically%20Guided%20Neural%20EM%20for%20Unsupervised%20Image%20Segmentation/runs/yk15fopp' target=\"_blank\">logical-sweep-38</a></strong> to <a href='https://wandb.ai/isaacwasserman/Graphically%20Guided%20Neural%20EM%20for%20Unsupervised%20Image%20Segmentation' target=\"_blank\">Weights & Biases</a> (<a href='https://wandb.me/run' target=\"_blank\">docs</a>)<br/>Sweep page: <a href='https://wandb.ai/isaacwasserman/Graphically%20Guided%20Neural%20EM%20for%20Unsupervised%20Image%20Segmentation/sweeps/f60ae4yq' target=\"_blank\">https://wandb.ai/isaacwasserman/Graphically%20Guided%20Neural%20EM%20for%20Unsupervised%20Image%20Segmentation/sweeps/f60ae4yq</a>"
      ],
      "text/plain": [
       "<IPython.core.display.HTML object>"
      ]
     },
     "metadata": {},
     "output_type": "display_data"
    },
    {
     "data": {
      "text/html": [
       " View project at <a href='https://wandb.ai/isaacwasserman/Graphically%20Guided%20Neural%20EM%20for%20Unsupervised%20Image%20Segmentation' target=\"_blank\">https://wandb.ai/isaacwasserman/Graphically%20Guided%20Neural%20EM%20for%20Unsupervised%20Image%20Segmentation</a>"
      ],
      "text/plain": [
       "<IPython.core.display.HTML object>"
      ]
     },
     "metadata": {},
     "output_type": "display_data"
    },
    {
     "data": {
      "text/html": [
       " View sweep at <a href='https://wandb.ai/isaacwasserman/Graphically%20Guided%20Neural%20EM%20for%20Unsupervised%20Image%20Segmentation/sweeps/f60ae4yq' target=\"_blank\">https://wandb.ai/isaacwasserman/Graphically%20Guided%20Neural%20EM%20for%20Unsupervised%20Image%20Segmentation/sweeps/f60ae4yq</a>"
      ],
      "text/plain": [
       "<IPython.core.display.HTML object>"
      ]
     },
     "metadata": {},
     "output_type": "display_data"
    },
    {
     "data": {
      "text/html": [
       " View run at <a href='https://wandb.ai/isaacwasserman/Graphically%20Guided%20Neural%20EM%20for%20Unsupervised%20Image%20Segmentation/runs/yk15fopp' target=\"_blank\">https://wandb.ai/isaacwasserman/Graphically%20Guided%20Neural%20EM%20for%20Unsupervised%20Image%20Segmentation/runs/yk15fopp</a>"
      ],
      "text/plain": [
       "<IPython.core.display.HTML object>"
      ]
     },
     "metadata": {},
     "output_type": "display_data"
    },
    {
     "name": "stderr",
     "output_type": "stream",
     "text": [
      "100%|██████████| 4/4 [00:00<00:00, 111.34it/s]\n",
      "100%|██████████| 4/4 [00:00<00:00, 74.06it/s]\n",
      "100%|██████████| 4/4 [00:00<00:00, 112.62it/s]\n",
      "100%|██████████| 4/4 [00:00<00:00, 119.49it/s]\n",
      "100%|██████████| 4/4 [00:00<00:00, 119.17it/s]\n",
      "100%|██████████| 4/4 [00:00<00:00, 123.32it/s]\n"
     ]
    },
    {
     "data": {
      "text/html": [
       "Waiting for W&B process to finish... <strong style=\"color:green\">(success).</strong>"
      ],
      "text/plain": [
       "<IPython.core.display.HTML object>"
      ]
     },
     "metadata": {},
     "output_type": "display_data"
    },
    {
     "data": {
      "application/vnd.jupyter.widget-view+json": {
       "model_id": "cf0035cb78ad4fdab80727077a7b208d",
       "version_major": 2,
       "version_minor": 0
      },
      "text/plain": [
       "VBox(children=(Label(value='0.001 MB of 0.001 MB uploaded (0.000 MB deduped)\\r'), FloatProgress(value=1.0, max…"
      ]
     },
     "metadata": {},
     "output_type": "display_data"
    },
    {
     "data": {
      "text/html": [
       "<style>\n",
       "    table.wandb td:nth-child(1) { padding: 0 10px; text-align: left ; width: auto;} td:nth-child(2) {text-align: left ; width: 100%}\n",
       "    .wandb-row { display: flex; flex-direction: row; flex-wrap: wrap; justify-content: flex-start; width: 100% }\n",
       "    .wandb-col { display: flex; flex-direction: column; flex-basis: 100%; flex: 1; padding: 10px; }\n",
       "    </style>\n",
       "<div class=\"wandb-row\"><div class=\"wandb-col\"><h3>Run history:</h3><br/><table class=\"wandb\"><tr><td>Avg. F1 Score</td><td>▁</td></tr></table><br/></div><div class=\"wandb-col\"><h3>Run summary:</h3><br/><table class=\"wandb\"><tr><td>Avg. F1 Score</td><td>0.71583</td></tr></table><br/></div></div>"
      ],
      "text/plain": [
       "<IPython.core.display.HTML object>"
      ]
     },
     "metadata": {},
     "output_type": "display_data"
    },
    {
     "data": {
      "text/html": [
       " View run <strong style=\"color:#cdcd00\">logical-sweep-38</strong> at: <a href='https://wandb.ai/isaacwasserman/Graphically%20Guided%20Neural%20EM%20for%20Unsupervised%20Image%20Segmentation/runs/yk15fopp' target=\"_blank\">https://wandb.ai/isaacwasserman/Graphically%20Guided%20Neural%20EM%20for%20Unsupervised%20Image%20Segmentation/runs/yk15fopp</a><br/>Synced 5 W&B file(s), 0 media file(s), 0 artifact file(s) and 0 other file(s)"
      ],
      "text/plain": [
       "<IPython.core.display.HTML object>"
      ]
     },
     "metadata": {},
     "output_type": "display_data"
    },
    {
     "data": {
      "text/html": [
       "Find logs at: <code>./wandb/run-20230226_024154-yk15fopp/logs</code>"
      ],
      "text/plain": [
       "<IPython.core.display.HTML object>"
      ]
     },
     "metadata": {},
     "output_type": "display_data"
    },
    {
     "name": "stderr",
     "output_type": "stream",
     "text": [
      "wandb: Sweep Agent: Waiting for job.\n",
      "wandb: Job received.\n",
      "wandb: Agent Starting Run: t4ai6ewu with config:\n",
      "wandb: \td: 64\n",
      "wandb: \tdropout: 0.3\n",
      "wandb: \timage_size: [512, 512]\n",
      "wandb: \titerations: 400\n",
      "wandb: \tlambda_: 0.1\n",
      "wandb: \tlr: 0.0005\n",
      "wandb: \tn_filters: 64\n",
      "wandb: \tnoise: 0\n",
      "wandb: \tprediction_stride: 4\n",
      "wandb: \tseed: 0\n",
      "wandb: \tsubset_size: 0.1\n"
     ]
    },
    {
     "data": {
      "text/html": [
       "Tracking run with wandb version 0.13.10"
      ],
      "text/plain": [
       "<IPython.core.display.HTML object>"
      ]
     },
     "metadata": {},
     "output_type": "display_data"
    },
    {
     "data": {
      "text/html": [
       "Run data is saved locally in <code>/home/ubuntu/thesis_implementation/wandb/run-20230226_024221-t4ai6ewu</code>"
      ],
      "text/plain": [
       "<IPython.core.display.HTML object>"
      ]
     },
     "metadata": {},
     "output_type": "display_data"
    },
    {
     "data": {
      "text/html": [
       "Syncing run <strong><a href='https://wandb.ai/isaacwasserman/Graphically%20Guided%20Neural%20EM%20for%20Unsupervised%20Image%20Segmentation/runs/t4ai6ewu' target=\"_blank\">vocal-sweep-39</a></strong> to <a href='https://wandb.ai/isaacwasserman/Graphically%20Guided%20Neural%20EM%20for%20Unsupervised%20Image%20Segmentation' target=\"_blank\">Weights & Biases</a> (<a href='https://wandb.me/run' target=\"_blank\">docs</a>)<br/>Sweep page: <a href='https://wandb.ai/isaacwasserman/Graphically%20Guided%20Neural%20EM%20for%20Unsupervised%20Image%20Segmentation/sweeps/f60ae4yq' target=\"_blank\">https://wandb.ai/isaacwasserman/Graphically%20Guided%20Neural%20EM%20for%20Unsupervised%20Image%20Segmentation/sweeps/f60ae4yq</a>"
      ],
      "text/plain": [
       "<IPython.core.display.HTML object>"
      ]
     },
     "metadata": {},
     "output_type": "display_data"
    },
    {
     "data": {
      "text/html": [
       " View project at <a href='https://wandb.ai/isaacwasserman/Graphically%20Guided%20Neural%20EM%20for%20Unsupervised%20Image%20Segmentation' target=\"_blank\">https://wandb.ai/isaacwasserman/Graphically%20Guided%20Neural%20EM%20for%20Unsupervised%20Image%20Segmentation</a>"
      ],
      "text/plain": [
       "<IPython.core.display.HTML object>"
      ]
     },
     "metadata": {},
     "output_type": "display_data"
    },
    {
     "data": {
      "text/html": [
       " View sweep at <a href='https://wandb.ai/isaacwasserman/Graphically%20Guided%20Neural%20EM%20for%20Unsupervised%20Image%20Segmentation/sweeps/f60ae4yq' target=\"_blank\">https://wandb.ai/isaacwasserman/Graphically%20Guided%20Neural%20EM%20for%20Unsupervised%20Image%20Segmentation/sweeps/f60ae4yq</a>"
      ],
      "text/plain": [
       "<IPython.core.display.HTML object>"
      ]
     },
     "metadata": {},
     "output_type": "display_data"
    },
    {
     "data": {
      "text/html": [
       " View run at <a href='https://wandb.ai/isaacwasserman/Graphically%20Guided%20Neural%20EM%20for%20Unsupervised%20Image%20Segmentation/runs/t4ai6ewu' target=\"_blank\">https://wandb.ai/isaacwasserman/Graphically%20Guided%20Neural%20EM%20for%20Unsupervised%20Image%20Segmentation/runs/t4ai6ewu</a>"
      ],
      "text/plain": [
       "<IPython.core.display.HTML object>"
      ]
     },
     "metadata": {},
     "output_type": "display_data"
    },
    {
     "name": "stderr",
     "output_type": "stream",
     "text": [
      "100%|██████████| 4/4 [00:00<00:00, 127.08it/s]\n",
      "100%|██████████| 4/4 [00:00<00:00, 120.47it/s]\n",
      "100%|██████████| 4/4 [00:00<00:00, 125.74it/s]\n",
      "100%|██████████| 4/4 [00:00<00:00, 128.48it/s]\n",
      "100%|██████████| 4/4 [00:00<00:00, 124.54it/s]\n",
      "100%|██████████| 4/4 [00:00<00:00, 125.12it/s]\n"
     ]
    },
    {
     "data": {
      "text/html": [
       "Waiting for W&B process to finish... <strong style=\"color:green\">(success).</strong>"
      ],
      "text/plain": [
       "<IPython.core.display.HTML object>"
      ]
     },
     "metadata": {},
     "output_type": "display_data"
    },
    {
     "data": {
      "application/vnd.jupyter.widget-view+json": {
       "model_id": "9994b1128e0444b680b386064c80053b",
       "version_major": 2,
       "version_minor": 0
      },
      "text/plain": [
       "VBox(children=(Label(value='0.001 MB of 0.001 MB uploaded (0.000 MB deduped)\\r'), FloatProgress(value=1.0, max…"
      ]
     },
     "metadata": {},
     "output_type": "display_data"
    },
    {
     "data": {
      "text/html": [
       "<style>\n",
       "    table.wandb td:nth-child(1) { padding: 0 10px; text-align: left ; width: auto;} td:nth-child(2) {text-align: left ; width: 100%}\n",
       "    .wandb-row { display: flex; flex-direction: row; flex-wrap: wrap; justify-content: flex-start; width: 100% }\n",
       "    .wandb-col { display: flex; flex-direction: column; flex-basis: 100%; flex: 1; padding: 10px; }\n",
       "    </style>\n",
       "<div class=\"wandb-row\"><div class=\"wandb-col\"><h3>Run history:</h3><br/><table class=\"wandb\"><tr><td>Avg. F1 Score</td><td>▁</td></tr></table><br/></div><div class=\"wandb-col\"><h3>Run summary:</h3><br/><table class=\"wandb\"><tr><td>Avg. F1 Score</td><td>0.74735</td></tr></table><br/></div></div>"
      ],
      "text/plain": [
       "<IPython.core.display.HTML object>"
      ]
     },
     "metadata": {},
     "output_type": "display_data"
    },
    {
     "data": {
      "text/html": [
       " View run <strong style=\"color:#cdcd00\">vocal-sweep-39</strong> at: <a href='https://wandb.ai/isaacwasserman/Graphically%20Guided%20Neural%20EM%20for%20Unsupervised%20Image%20Segmentation/runs/t4ai6ewu' target=\"_blank\">https://wandb.ai/isaacwasserman/Graphically%20Guided%20Neural%20EM%20for%20Unsupervised%20Image%20Segmentation/runs/t4ai6ewu</a><br/>Synced 5 W&B file(s), 0 media file(s), 0 artifact file(s) and 0 other file(s)"
      ],
      "text/plain": [
       "<IPython.core.display.HTML object>"
      ]
     },
     "metadata": {},
     "output_type": "display_data"
    },
    {
     "data": {
      "text/html": [
       "Find logs at: <code>./wandb/run-20230226_024221-t4ai6ewu/logs</code>"
      ],
      "text/plain": [
       "<IPython.core.display.HTML object>"
      ]
     },
     "metadata": {},
     "output_type": "display_data"
    },
    {
     "name": "stderr",
     "output_type": "stream",
     "text": [
      "wandb: Agent Starting Run: hfw5ay4h with config:\n",
      "wandb: \td: 8\n",
      "wandb: \tdropout: 0.2\n",
      "wandb: \timage_size: [512, 512]\n",
      "wandb: \titerations: 300\n",
      "wandb: \tlambda_: 0.4\n",
      "wandb: \tlr: 0.001\n",
      "wandb: \tn_filters: 64\n",
      "wandb: \tnoise: 0\n",
      "wandb: \tprediction_stride: 4\n",
      "wandb: \tseed: 0\n",
      "wandb: \tsubset_size: 0.3\n"
     ]
    },
    {
     "data": {
      "text/html": [
       "Tracking run with wandb version 0.13.10"
      ],
      "text/plain": [
       "<IPython.core.display.HTML object>"
      ]
     },
     "metadata": {},
     "output_type": "display_data"
    },
    {
     "data": {
      "text/html": [
       "Run data is saved locally in <code>/home/ubuntu/thesis_implementation/wandb/run-20230226_024337-hfw5ay4h</code>"
      ],
      "text/plain": [
       "<IPython.core.display.HTML object>"
      ]
     },
     "metadata": {},
     "output_type": "display_data"
    },
    {
     "data": {
      "text/html": [
       "Syncing run <strong><a href='https://wandb.ai/isaacwasserman/Graphically%20Guided%20Neural%20EM%20for%20Unsupervised%20Image%20Segmentation/runs/hfw5ay4h' target=\"_blank\">brisk-sweep-40</a></strong> to <a href='https://wandb.ai/isaacwasserman/Graphically%20Guided%20Neural%20EM%20for%20Unsupervised%20Image%20Segmentation' target=\"_blank\">Weights & Biases</a> (<a href='https://wandb.me/run' target=\"_blank\">docs</a>)<br/>Sweep page: <a href='https://wandb.ai/isaacwasserman/Graphically%20Guided%20Neural%20EM%20for%20Unsupervised%20Image%20Segmentation/sweeps/f60ae4yq' target=\"_blank\">https://wandb.ai/isaacwasserman/Graphically%20Guided%20Neural%20EM%20for%20Unsupervised%20Image%20Segmentation/sweeps/f60ae4yq</a>"
      ],
      "text/plain": [
       "<IPython.core.display.HTML object>"
      ]
     },
     "metadata": {},
     "output_type": "display_data"
    },
    {
     "data": {
      "text/html": [
       " View project at <a href='https://wandb.ai/isaacwasserman/Graphically%20Guided%20Neural%20EM%20for%20Unsupervised%20Image%20Segmentation' target=\"_blank\">https://wandb.ai/isaacwasserman/Graphically%20Guided%20Neural%20EM%20for%20Unsupervised%20Image%20Segmentation</a>"
      ],
      "text/plain": [
       "<IPython.core.display.HTML object>"
      ]
     },
     "metadata": {},
     "output_type": "display_data"
    },
    {
     "data": {
      "text/html": [
       " View sweep at <a href='https://wandb.ai/isaacwasserman/Graphically%20Guided%20Neural%20EM%20for%20Unsupervised%20Image%20Segmentation/sweeps/f60ae4yq' target=\"_blank\">https://wandb.ai/isaacwasserman/Graphically%20Guided%20Neural%20EM%20for%20Unsupervised%20Image%20Segmentation/sweeps/f60ae4yq</a>"
      ],
      "text/plain": [
       "<IPython.core.display.HTML object>"
      ]
     },
     "metadata": {},
     "output_type": "display_data"
    },
    {
     "data": {
      "text/html": [
       " View run at <a href='https://wandb.ai/isaacwasserman/Graphically%20Guided%20Neural%20EM%20for%20Unsupervised%20Image%20Segmentation/runs/hfw5ay4h' target=\"_blank\">https://wandb.ai/isaacwasserman/Graphically%20Guided%20Neural%20EM%20for%20Unsupervised%20Image%20Segmentation/runs/hfw5ay4h</a>"
      ],
      "text/plain": [
       "<IPython.core.display.HTML object>"
      ]
     },
     "metadata": {},
     "output_type": "display_data"
    },
    {
     "name": "stderr",
     "output_type": "stream",
     "text": [
      "  0%|          | 0/4 [00:00<?, ?it/s]\n"
     ]
    },
    {
     "data": {
      "text/html": [
       "Waiting for W&B process to finish... <strong style=\"color:red\">(failed 1).</strong> Press Control-C to abort syncing."
      ],
      "text/plain": [
       "<IPython.core.display.HTML object>"
      ]
     },
     "metadata": {},
     "output_type": "display_data"
    },
    {
     "data": {
      "application/vnd.jupyter.widget-view+json": {
       "model_id": "4f2d5fd0bb5540718ea7846543783193",
       "version_major": 2,
       "version_minor": 0
      },
      "text/plain": [
       "VBox(children=(Label(value='0.001 MB of 0.001 MB uploaded (0.000 MB deduped)\\r'), FloatProgress(value=1.0, max…"
      ]
     },
     "metadata": {},
     "output_type": "display_data"
    },
    {
     "data": {
      "text/html": [
       " View run <strong style=\"color:#cdcd00\">brisk-sweep-40</strong> at: <a href='https://wandb.ai/isaacwasserman/Graphically%20Guided%20Neural%20EM%20for%20Unsupervised%20Image%20Segmentation/runs/hfw5ay4h' target=\"_blank\">https://wandb.ai/isaacwasserman/Graphically%20Guided%20Neural%20EM%20for%20Unsupervised%20Image%20Segmentation/runs/hfw5ay4h</a><br/>Synced 5 W&B file(s), 0 media file(s), 0 artifact file(s) and 0 other file(s)"
      ],
      "text/plain": [
       "<IPython.core.display.HTML object>"
      ]
     },
     "metadata": {},
     "output_type": "display_data"
    },
    {
     "data": {
      "text/html": [
       "Find logs at: <code>./wandb/run-20230226_024337-hfw5ay4h/logs</code>"
      ],
      "text/plain": [
       "<IPython.core.display.HTML object>"
      ]
     },
     "metadata": {},
     "output_type": "display_data"
    },
    {
     "name": "stderr",
     "output_type": "stream",
     "text": [
      "Run hfw5ay4h errored: RuntimeError('CUDA out of memory. Tried to allocate 4.00 GiB (GPU 0; 22.06 GiB total capacity; 13.29 GiB already allocated; 128.44 MiB free; 20.27 GiB reserved in total by PyTorch) If reserved memory is >> allocated memory try setting max_split_size_mb to avoid fragmentation.  See documentation for Memory Management and PYTORCH_CUDA_ALLOC_CONF')\n",
      "wandb: ERROR Run hfw5ay4h errored: RuntimeError('CUDA out of memory. Tried to allocate 4.00 GiB (GPU 0; 22.06 GiB total capacity; 13.29 GiB already allocated; 128.44 MiB free; 20.27 GiB reserved in total by PyTorch) If reserved memory is >> allocated memory try setting max_split_size_mb to avoid fragmentation.  See documentation for Memory Management and PYTORCH_CUDA_ALLOC_CONF')\n",
      "wandb: Agent Starting Run: y3k8hpz9 with config:\n",
      "wandb: \td: 64\n",
      "wandb: \tdropout: 0.2\n",
      "wandb: \timage_size: [512, 512]\n",
      "wandb: \titerations: 500\n",
      "wandb: \tlambda_: 0.2\n",
      "wandb: \tlr: 0.005\n",
      "wandb: \tn_filters: 128\n",
      "wandb: \tnoise: 0\n",
      "wandb: \tprediction_stride: 4\n",
      "wandb: \tseed: 0\n",
      "wandb: \tsubset_size: 0.7\n"
     ]
    },
    {
     "data": {
      "text/html": [
       "Tracking run with wandb version 0.13.10"
      ],
      "text/plain": [
       "<IPython.core.display.HTML object>"
      ]
     },
     "metadata": {},
     "output_type": "display_data"
    },
    {
     "data": {
      "text/html": [
       "Run data is saved locally in <code>/home/ubuntu/thesis_implementation/wandb/run-20230226_024349-y3k8hpz9</code>"
      ],
      "text/plain": [
       "<IPython.core.display.HTML object>"
      ]
     },
     "metadata": {},
     "output_type": "display_data"
    },
    {
     "data": {
      "text/html": [
       "Syncing run <strong><a href='https://wandb.ai/isaacwasserman/Graphically%20Guided%20Neural%20EM%20for%20Unsupervised%20Image%20Segmentation/runs/y3k8hpz9' target=\"_blank\">smart-sweep-41</a></strong> to <a href='https://wandb.ai/isaacwasserman/Graphically%20Guided%20Neural%20EM%20for%20Unsupervised%20Image%20Segmentation' target=\"_blank\">Weights & Biases</a> (<a href='https://wandb.me/run' target=\"_blank\">docs</a>)<br/>Sweep page: <a href='https://wandb.ai/isaacwasserman/Graphically%20Guided%20Neural%20EM%20for%20Unsupervised%20Image%20Segmentation/sweeps/f60ae4yq' target=\"_blank\">https://wandb.ai/isaacwasserman/Graphically%20Guided%20Neural%20EM%20for%20Unsupervised%20Image%20Segmentation/sweeps/f60ae4yq</a>"
      ],
      "text/plain": [
       "<IPython.core.display.HTML object>"
      ]
     },
     "metadata": {},
     "output_type": "display_data"
    },
    {
     "data": {
      "text/html": [
       " View project at <a href='https://wandb.ai/isaacwasserman/Graphically%20Guided%20Neural%20EM%20for%20Unsupervised%20Image%20Segmentation' target=\"_blank\">https://wandb.ai/isaacwasserman/Graphically%20Guided%20Neural%20EM%20for%20Unsupervised%20Image%20Segmentation</a>"
      ],
      "text/plain": [
       "<IPython.core.display.HTML object>"
      ]
     },
     "metadata": {},
     "output_type": "display_data"
    },
    {
     "data": {
      "text/html": [
       " View sweep at <a href='https://wandb.ai/isaacwasserman/Graphically%20Guided%20Neural%20EM%20for%20Unsupervised%20Image%20Segmentation/sweeps/f60ae4yq' target=\"_blank\">https://wandb.ai/isaacwasserman/Graphically%20Guided%20Neural%20EM%20for%20Unsupervised%20Image%20Segmentation/sweeps/f60ae4yq</a>"
      ],
      "text/plain": [
       "<IPython.core.display.HTML object>"
      ]
     },
     "metadata": {},
     "output_type": "display_data"
    },
    {
     "data": {
      "text/html": [
       " View run at <a href='https://wandb.ai/isaacwasserman/Graphically%20Guided%20Neural%20EM%20for%20Unsupervised%20Image%20Segmentation/runs/y3k8hpz9' target=\"_blank\">https://wandb.ai/isaacwasserman/Graphically%20Guided%20Neural%20EM%20for%20Unsupervised%20Image%20Segmentation/runs/y3k8hpz9</a>"
      ],
      "text/plain": [
       "<IPython.core.display.HTML object>"
      ]
     },
     "metadata": {},
     "output_type": "display_data"
    },
    {
     "name": "stderr",
     "output_type": "stream",
     "text": [
      "100%|██████████| 4/4 [00:00<00:00, 127.71it/s]\n",
      "100%|██████████| 4/4 [00:00<00:00, 123.08it/s]\n",
      "100%|██████████| 4/4 [00:00<00:00, 129.51it/s]\n",
      "100%|██████████| 4/4 [00:00<00:00, 127.86it/s]\n",
      "100%|██████████| 4/4 [00:00<00:00, 127.31it/s]\n",
      "100%|██████████| 4/4 [00:00<00:00, 127.29it/s]\n"
     ]
    },
    {
     "data": {
      "text/html": [
       "Waiting for W&B process to finish... <strong style=\"color:green\">(success).</strong>"
      ],
      "text/plain": [
       "<IPython.core.display.HTML object>"
      ]
     },
     "metadata": {},
     "output_type": "display_data"
    },
    {
     "data": {
      "application/vnd.jupyter.widget-view+json": {
       "model_id": "ee3abfbff572439db99df32c9fc6a9c5",
       "version_major": 2,
       "version_minor": 0
      },
      "text/plain": [
       "VBox(children=(Label(value='0.001 MB of 0.001 MB uploaded (0.000 MB deduped)\\r'), FloatProgress(value=1.0, max…"
      ]
     },
     "metadata": {},
     "output_type": "display_data"
    },
    {
     "data": {
      "text/html": [
       "<style>\n",
       "    table.wandb td:nth-child(1) { padding: 0 10px; text-align: left ; width: auto;} td:nth-child(2) {text-align: left ; width: 100%}\n",
       "    .wandb-row { display: flex; flex-direction: row; flex-wrap: wrap; justify-content: flex-start; width: 100% }\n",
       "    .wandb-col { display: flex; flex-direction: column; flex-basis: 100%; flex: 1; padding: 10px; }\n",
       "    </style>\n",
       "<div class=\"wandb-row\"><div class=\"wandb-col\"><h3>Run history:</h3><br/><table class=\"wandb\"><tr><td>Avg. F1 Score</td><td>▁</td></tr></table><br/></div><div class=\"wandb-col\"><h3>Run summary:</h3><br/><table class=\"wandb\"><tr><td>Avg. F1 Score</td><td>0.68303</td></tr></table><br/></div></div>"
      ],
      "text/plain": [
       "<IPython.core.display.HTML object>"
      ]
     },
     "metadata": {},
     "output_type": "display_data"
    },
    {
     "data": {
      "text/html": [
       " View run <strong style=\"color:#cdcd00\">smart-sweep-41</strong> at: <a href='https://wandb.ai/isaacwasserman/Graphically%20Guided%20Neural%20EM%20for%20Unsupervised%20Image%20Segmentation/runs/y3k8hpz9' target=\"_blank\">https://wandb.ai/isaacwasserman/Graphically%20Guided%20Neural%20EM%20for%20Unsupervised%20Image%20Segmentation/runs/y3k8hpz9</a><br/>Synced 5 W&B file(s), 0 media file(s), 0 artifact file(s) and 0 other file(s)"
      ],
      "text/plain": [
       "<IPython.core.display.HTML object>"
      ]
     },
     "metadata": {},
     "output_type": "display_data"
    },
    {
     "data": {
      "text/html": [
       "Find logs at: <code>./wandb/run-20230226_024349-y3k8hpz9/logs</code>"
      ],
      "text/plain": [
       "<IPython.core.display.HTML object>"
      ]
     },
     "metadata": {},
     "output_type": "display_data"
    },
    {
     "name": "stderr",
     "output_type": "stream",
     "text": [
      "wandb: Agent Starting Run: rda65l18 with config:\n",
      "wandb: \td: 16\n",
      "wandb: \tdropout: 0.2\n",
      "wandb: \timage_size: [512, 512]\n",
      "wandb: \titerations: 200\n",
      "wandb: \tlambda_: 0.2\n",
      "wandb: \tlr: 0.0005\n",
      "wandb: \tn_filters: 64\n",
      "wandb: \tnoise: 0\n",
      "wandb: \tprediction_stride: 4\n",
      "wandb: \tseed: 0\n",
      "wandb: \tsubset_size: 0.5\n"
     ]
    },
    {
     "data": {
      "text/html": [
       "Tracking run with wandb version 0.13.10"
      ],
      "text/plain": [
       "<IPython.core.display.HTML object>"
      ]
     },
     "metadata": {},
     "output_type": "display_data"
    },
    {
     "data": {
      "text/html": [
       "Run data is saved locally in <code>/home/ubuntu/thesis_implementation/wandb/run-20230226_024610-rda65l18</code>"
      ],
      "text/plain": [
       "<IPython.core.display.HTML object>"
      ]
     },
     "metadata": {},
     "output_type": "display_data"
    },
    {
     "data": {
      "text/html": [
       "Syncing run <strong><a href='https://wandb.ai/isaacwasserman/Graphically%20Guided%20Neural%20EM%20for%20Unsupervised%20Image%20Segmentation/runs/rda65l18' target=\"_blank\">denim-sweep-42</a></strong> to <a href='https://wandb.ai/isaacwasserman/Graphically%20Guided%20Neural%20EM%20for%20Unsupervised%20Image%20Segmentation' target=\"_blank\">Weights & Biases</a> (<a href='https://wandb.me/run' target=\"_blank\">docs</a>)<br/>Sweep page: <a href='https://wandb.ai/isaacwasserman/Graphically%20Guided%20Neural%20EM%20for%20Unsupervised%20Image%20Segmentation/sweeps/f60ae4yq' target=\"_blank\">https://wandb.ai/isaacwasserman/Graphically%20Guided%20Neural%20EM%20for%20Unsupervised%20Image%20Segmentation/sweeps/f60ae4yq</a>"
      ],
      "text/plain": [
       "<IPython.core.display.HTML object>"
      ]
     },
     "metadata": {},
     "output_type": "display_data"
    },
    {
     "data": {
      "text/html": [
       " View project at <a href='https://wandb.ai/isaacwasserman/Graphically%20Guided%20Neural%20EM%20for%20Unsupervised%20Image%20Segmentation' target=\"_blank\">https://wandb.ai/isaacwasserman/Graphically%20Guided%20Neural%20EM%20for%20Unsupervised%20Image%20Segmentation</a>"
      ],
      "text/plain": [
       "<IPython.core.display.HTML object>"
      ]
     },
     "metadata": {},
     "output_type": "display_data"
    },
    {
     "data": {
      "text/html": [
       " View sweep at <a href='https://wandb.ai/isaacwasserman/Graphically%20Guided%20Neural%20EM%20for%20Unsupervised%20Image%20Segmentation/sweeps/f60ae4yq' target=\"_blank\">https://wandb.ai/isaacwasserman/Graphically%20Guided%20Neural%20EM%20for%20Unsupervised%20Image%20Segmentation/sweeps/f60ae4yq</a>"
      ],
      "text/plain": [
       "<IPython.core.display.HTML object>"
      ]
     },
     "metadata": {},
     "output_type": "display_data"
    },
    {
     "data": {
      "text/html": [
       " View run at <a href='https://wandb.ai/isaacwasserman/Graphically%20Guided%20Neural%20EM%20for%20Unsupervised%20Image%20Segmentation/runs/rda65l18' target=\"_blank\">https://wandb.ai/isaacwasserman/Graphically%20Guided%20Neural%20EM%20for%20Unsupervised%20Image%20Segmentation/runs/rda65l18</a>"
      ],
      "text/plain": [
       "<IPython.core.display.HTML object>"
      ]
     },
     "metadata": {},
     "output_type": "display_data"
    },
    {
     "name": "stderr",
     "output_type": "stream",
     "text": [
      "100%|██████████| 4/4 [00:00<00:00, 31.61it/s]\n",
      "100%|██████████| 4/4 [00:00<00:00, 131.74it/s]\n",
      "100%|██████████| 4/4 [00:00<00:00, 136.26it/s]\n",
      "100%|██████████| 4/4 [00:00<00:00, 130.38it/s]\n",
      "100%|██████████| 4/4 [00:00<00:00, 130.18it/s]\n",
      "100%|██████████| 4/4 [00:00<00:00, 129.59it/s]\n"
     ]
    },
    {
     "data": {
      "text/html": [
       "Waiting for W&B process to finish... <strong style=\"color:green\">(success).</strong>"
      ],
      "text/plain": [
       "<IPython.core.display.HTML object>"
      ]
     },
     "metadata": {},
     "output_type": "display_data"
    },
    {
     "data": {
      "application/vnd.jupyter.widget-view+json": {
       "model_id": "82c53ce40e0a4d4da8544152e64b6624",
       "version_major": 2,
       "version_minor": 0
      },
      "text/plain": [
       "VBox(children=(Label(value='0.001 MB of 0.001 MB uploaded (0.000 MB deduped)\\r'), FloatProgress(value=1.0, max…"
      ]
     },
     "metadata": {},
     "output_type": "display_data"
    },
    {
     "data": {
      "text/html": [
       "<style>\n",
       "    table.wandb td:nth-child(1) { padding: 0 10px; text-align: left ; width: auto;} td:nth-child(2) {text-align: left ; width: 100%}\n",
       "    .wandb-row { display: flex; flex-direction: row; flex-wrap: wrap; justify-content: flex-start; width: 100% }\n",
       "    .wandb-col { display: flex; flex-direction: column; flex-basis: 100%; flex: 1; padding: 10px; }\n",
       "    </style>\n",
       "<div class=\"wandb-row\"><div class=\"wandb-col\"><h3>Run history:</h3><br/><table class=\"wandb\"><tr><td>Avg. F1 Score</td><td>▁</td></tr></table><br/></div><div class=\"wandb-col\"><h3>Run summary:</h3><br/><table class=\"wandb\"><tr><td>Avg. F1 Score</td><td>0.66987</td></tr></table><br/></div></div>"
      ],
      "text/plain": [
       "<IPython.core.display.HTML object>"
      ]
     },
     "metadata": {},
     "output_type": "display_data"
    },
    {
     "data": {
      "text/html": [
       " View run <strong style=\"color:#cdcd00\">denim-sweep-42</strong> at: <a href='https://wandb.ai/isaacwasserman/Graphically%20Guided%20Neural%20EM%20for%20Unsupervised%20Image%20Segmentation/runs/rda65l18' target=\"_blank\">https://wandb.ai/isaacwasserman/Graphically%20Guided%20Neural%20EM%20for%20Unsupervised%20Image%20Segmentation/runs/rda65l18</a><br/>Synced 5 W&B file(s), 0 media file(s), 0 artifact file(s) and 0 other file(s)"
      ],
      "text/plain": [
       "<IPython.core.display.HTML object>"
      ]
     },
     "metadata": {},
     "output_type": "display_data"
    },
    {
     "data": {
      "text/html": [
       "Find logs at: <code>./wandb/run-20230226_024610-rda65l18/logs</code>"
      ],
      "text/plain": [
       "<IPython.core.display.HTML object>"
      ]
     },
     "metadata": {},
     "output_type": "display_data"
    },
    {
     "name": "stderr",
     "output_type": "stream",
     "text": [
      "wandb: Agent Starting Run: da7oa47i with config:\n",
      "wandb: \td: 32\n",
      "wandb: \tdropout: 0.1\n",
      "wandb: \timage_size: [512, 512]\n",
      "wandb: \titerations: 200\n",
      "wandb: \tlambda_: 0.3\n",
      "wandb: \tlr: 0.005\n",
      "wandb: \tn_filters: 32\n",
      "wandb: \tnoise: 0\n",
      "wandb: \tprediction_stride: 4\n",
      "wandb: \tseed: 0\n",
      "wandb: \tsubset_size: 0.3\n"
     ]
    },
    {
     "data": {
      "text/html": [
       "Tracking run with wandb version 0.13.10"
      ],
      "text/plain": [
       "<IPython.core.display.HTML object>"
      ]
     },
     "metadata": {},
     "output_type": "display_data"
    },
    {
     "data": {
      "text/html": [
       "Run data is saved locally in <code>/home/ubuntu/thesis_implementation/wandb/run-20230226_024636-da7oa47i</code>"
      ],
      "text/plain": [
       "<IPython.core.display.HTML object>"
      ]
     },
     "metadata": {},
     "output_type": "display_data"
    },
    {
     "data": {
      "text/html": [
       "Syncing run <strong><a href='https://wandb.ai/isaacwasserman/Graphically%20Guided%20Neural%20EM%20for%20Unsupervised%20Image%20Segmentation/runs/da7oa47i' target=\"_blank\">balmy-sweep-43</a></strong> to <a href='https://wandb.ai/isaacwasserman/Graphically%20Guided%20Neural%20EM%20for%20Unsupervised%20Image%20Segmentation' target=\"_blank\">Weights & Biases</a> (<a href='https://wandb.me/run' target=\"_blank\">docs</a>)<br/>Sweep page: <a href='https://wandb.ai/isaacwasserman/Graphically%20Guided%20Neural%20EM%20for%20Unsupervised%20Image%20Segmentation/sweeps/f60ae4yq' target=\"_blank\">https://wandb.ai/isaacwasserman/Graphically%20Guided%20Neural%20EM%20for%20Unsupervised%20Image%20Segmentation/sweeps/f60ae4yq</a>"
      ],
      "text/plain": [
       "<IPython.core.display.HTML object>"
      ]
     },
     "metadata": {},
     "output_type": "display_data"
    },
    {
     "data": {
      "text/html": [
       " View project at <a href='https://wandb.ai/isaacwasserman/Graphically%20Guided%20Neural%20EM%20for%20Unsupervised%20Image%20Segmentation' target=\"_blank\">https://wandb.ai/isaacwasserman/Graphically%20Guided%20Neural%20EM%20for%20Unsupervised%20Image%20Segmentation</a>"
      ],
      "text/plain": [
       "<IPython.core.display.HTML object>"
      ]
     },
     "metadata": {},
     "output_type": "display_data"
    },
    {
     "data": {
      "text/html": [
       " View sweep at <a href='https://wandb.ai/isaacwasserman/Graphically%20Guided%20Neural%20EM%20for%20Unsupervised%20Image%20Segmentation/sweeps/f60ae4yq' target=\"_blank\">https://wandb.ai/isaacwasserman/Graphically%20Guided%20Neural%20EM%20for%20Unsupervised%20Image%20Segmentation/sweeps/f60ae4yq</a>"
      ],
      "text/plain": [
       "<IPython.core.display.HTML object>"
      ]
     },
     "metadata": {},
     "output_type": "display_data"
    },
    {
     "data": {
      "text/html": [
       " View run at <a href='https://wandb.ai/isaacwasserman/Graphically%20Guided%20Neural%20EM%20for%20Unsupervised%20Image%20Segmentation/runs/da7oa47i' target=\"_blank\">https://wandb.ai/isaacwasserman/Graphically%20Guided%20Neural%20EM%20for%20Unsupervised%20Image%20Segmentation/runs/da7oa47i</a>"
      ],
      "text/plain": [
       "<IPython.core.display.HTML object>"
      ]
     },
     "metadata": {},
     "output_type": "display_data"
    },
    {
     "name": "stderr",
     "output_type": "stream",
     "text": [
      "100%|██████████| 4/4 [00:00<00:00, 111.06it/s]\n",
      "100%|██████████| 4/4 [00:00<00:00, 104.40it/s]\n",
      "100%|██████████| 4/4 [00:00<00:00, 125.85it/s]\n",
      "100%|██████████| 4/4 [00:00<00:00, 105.03it/s]\n",
      "100%|██████████| 4/4 [00:00<00:00, 107.14it/s]\n",
      "100%|██████████| 4/4 [00:00<00:00, 103.82it/s]\n"
     ]
    },
    {
     "data": {
      "text/html": [
       "Waiting for W&B process to finish... <strong style=\"color:green\">(success).</strong>"
      ],
      "text/plain": [
       "<IPython.core.display.HTML object>"
      ]
     },
     "metadata": {},
     "output_type": "display_data"
    },
    {
     "data": {
      "text/html": [
       "<style>\n",
       "    table.wandb td:nth-child(1) { padding: 0 10px; text-align: left ; width: auto;} td:nth-child(2) {text-align: left ; width: 100%}\n",
       "    .wandb-row { display: flex; flex-direction: row; flex-wrap: wrap; justify-content: flex-start; width: 100% }\n",
       "    .wandb-col { display: flex; flex-direction: column; flex-basis: 100%; flex: 1; padding: 10px; }\n",
       "    </style>\n",
       "<div class=\"wandb-row\"><div class=\"wandb-col\"><h3>Run history:</h3><br/><table class=\"wandb\"><tr><td>Avg. F1 Score</td><td>▁</td></tr></table><br/></div><div class=\"wandb-col\"><h3>Run summary:</h3><br/><table class=\"wandb\"><tr><td>Avg. F1 Score</td><td>0.76703</td></tr></table><br/></div></div>"
      ],
      "text/plain": [
       "<IPython.core.display.HTML object>"
      ]
     },
     "metadata": {},
     "output_type": "display_data"
    },
    {
     "data": {
      "text/html": [
       " View run <strong style=\"color:#cdcd00\">balmy-sweep-43</strong> at: <a href='https://wandb.ai/isaacwasserman/Graphically%20Guided%20Neural%20EM%20for%20Unsupervised%20Image%20Segmentation/runs/da7oa47i' target=\"_blank\">https://wandb.ai/isaacwasserman/Graphically%20Guided%20Neural%20EM%20for%20Unsupervised%20Image%20Segmentation/runs/da7oa47i</a><br/>Synced 5 W&B file(s), 0 media file(s), 0 artifact file(s) and 0 other file(s)"
      ],
      "text/plain": [
       "<IPython.core.display.HTML object>"
      ]
     },
     "metadata": {},
     "output_type": "display_data"
    },
    {
     "data": {
      "text/html": [
       "Find logs at: <code>./wandb/run-20230226_024636-da7oa47i/logs</code>"
      ],
      "text/plain": [
       "<IPython.core.display.HTML object>"
      ]
     },
     "metadata": {},
     "output_type": "display_data"
    },
    {
     "name": "stderr",
     "output_type": "stream",
     "text": [
      "wandb: Agent Starting Run: xbsuj872 with config:\n",
      "wandb: \td: 8\n",
      "wandb: \tdropout: 0.3\n",
      "wandb: \timage_size: [512, 512]\n",
      "wandb: \titerations: 300\n",
      "wandb: \tlambda_: 0.1\n",
      "wandb: \tlr: 0.0001\n",
      "wandb: \tn_filters: 32\n",
      "wandb: \tnoise: 0\n",
      "wandb: \tprediction_stride: 4\n",
      "wandb: \tseed: 0\n",
      "wandb: \tsubset_size: 0.3\n"
     ]
    },
    {
     "data": {
      "text/html": [
       "Tracking run with wandb version 0.13.10"
      ],
      "text/plain": [
       "<IPython.core.display.HTML object>"
      ]
     },
     "metadata": {},
     "output_type": "display_data"
    },
    {
     "data": {
      "text/html": [
       "Run data is saved locally in <code>/home/ubuntu/thesis_implementation/wandb/run-20230226_024656-xbsuj872</code>"
      ],
      "text/plain": [
       "<IPython.core.display.HTML object>"
      ]
     },
     "metadata": {},
     "output_type": "display_data"
    },
    {
     "data": {
      "text/html": [
       "Syncing run <strong><a href='https://wandb.ai/isaacwasserman/Graphically%20Guided%20Neural%20EM%20for%20Unsupervised%20Image%20Segmentation/runs/xbsuj872' target=\"_blank\">playful-sweep-44</a></strong> to <a href='https://wandb.ai/isaacwasserman/Graphically%20Guided%20Neural%20EM%20for%20Unsupervised%20Image%20Segmentation' target=\"_blank\">Weights & Biases</a> (<a href='https://wandb.me/run' target=\"_blank\">docs</a>)<br/>Sweep page: <a href='https://wandb.ai/isaacwasserman/Graphically%20Guided%20Neural%20EM%20for%20Unsupervised%20Image%20Segmentation/sweeps/f60ae4yq' target=\"_blank\">https://wandb.ai/isaacwasserman/Graphically%20Guided%20Neural%20EM%20for%20Unsupervised%20Image%20Segmentation/sweeps/f60ae4yq</a>"
      ],
      "text/plain": [
       "<IPython.core.display.HTML object>"
      ]
     },
     "metadata": {},
     "output_type": "display_data"
    },
    {
     "data": {
      "text/html": [
       " View project at <a href='https://wandb.ai/isaacwasserman/Graphically%20Guided%20Neural%20EM%20for%20Unsupervised%20Image%20Segmentation' target=\"_blank\">https://wandb.ai/isaacwasserman/Graphically%20Guided%20Neural%20EM%20for%20Unsupervised%20Image%20Segmentation</a>"
      ],
      "text/plain": [
       "<IPython.core.display.HTML object>"
      ]
     },
     "metadata": {},
     "output_type": "display_data"
    },
    {
     "data": {
      "text/html": [
       " View sweep at <a href='https://wandb.ai/isaacwasserman/Graphically%20Guided%20Neural%20EM%20for%20Unsupervised%20Image%20Segmentation/sweeps/f60ae4yq' target=\"_blank\">https://wandb.ai/isaacwasserman/Graphically%20Guided%20Neural%20EM%20for%20Unsupervised%20Image%20Segmentation/sweeps/f60ae4yq</a>"
      ],
      "text/plain": [
       "<IPython.core.display.HTML object>"
      ]
     },
     "metadata": {},
     "output_type": "display_data"
    },
    {
     "data": {
      "text/html": [
       " View run at <a href='https://wandb.ai/isaacwasserman/Graphically%20Guided%20Neural%20EM%20for%20Unsupervised%20Image%20Segmentation/runs/xbsuj872' target=\"_blank\">https://wandb.ai/isaacwasserman/Graphically%20Guided%20Neural%20EM%20for%20Unsupervised%20Image%20Segmentation/runs/xbsuj872</a>"
      ],
      "text/plain": [
       "<IPython.core.display.HTML object>"
      ]
     },
     "metadata": {},
     "output_type": "display_data"
    },
    {
     "name": "stderr",
     "output_type": "stream",
     "text": [
      "100%|██████████| 4/4 [00:00<00:00, 145.29it/s]\n",
      "100%|██████████| 4/4 [00:00<00:00, 162.46it/s]\n",
      "100%|██████████| 4/4 [00:00<00:00, 151.87it/s]\n",
      "100%|██████████| 4/4 [00:00<00:00, 31.55it/s]\n",
      "100%|██████████| 4/4 [00:00<00:00, 153.86it/s]\n",
      "100%|██████████| 4/4 [00:00<00:00, 151.78it/s]\n"
     ]
    },
    {
     "data": {
      "text/html": [
       "Waiting for W&B process to finish... <strong style=\"color:green\">(success).</strong>"
      ],
      "text/plain": [
       "<IPython.core.display.HTML object>"
      ]
     },
     "metadata": {},
     "output_type": "display_data"
    },
    {
     "data": {
      "text/html": [
       "<style>\n",
       "    table.wandb td:nth-child(1) { padding: 0 10px; text-align: left ; width: auto;} td:nth-child(2) {text-align: left ; width: 100%}\n",
       "    .wandb-row { display: flex; flex-direction: row; flex-wrap: wrap; justify-content: flex-start; width: 100% }\n",
       "    .wandb-col { display: flex; flex-direction: column; flex-basis: 100%; flex: 1; padding: 10px; }\n",
       "    </style>\n",
       "<div class=\"wandb-row\"><div class=\"wandb-col\"><h3>Run history:</h3><br/><table class=\"wandb\"><tr><td>Avg. F1 Score</td><td>▁</td></tr></table><br/></div><div class=\"wandb-col\"><h3>Run summary:</h3><br/><table class=\"wandb\"><tr><td>Avg. F1 Score</td><td>0.67127</td></tr></table><br/></div></div>"
      ],
      "text/plain": [
       "<IPython.core.display.HTML object>"
      ]
     },
     "metadata": {},
     "output_type": "display_data"
    },
    {
     "data": {
      "text/html": [
       " View run <strong style=\"color:#cdcd00\">playful-sweep-44</strong> at: <a href='https://wandb.ai/isaacwasserman/Graphically%20Guided%20Neural%20EM%20for%20Unsupervised%20Image%20Segmentation/runs/xbsuj872' target=\"_blank\">https://wandb.ai/isaacwasserman/Graphically%20Guided%20Neural%20EM%20for%20Unsupervised%20Image%20Segmentation/runs/xbsuj872</a><br/>Synced 5 W&B file(s), 0 media file(s), 0 artifact file(s) and 0 other file(s)"
      ],
      "text/plain": [
       "<IPython.core.display.HTML object>"
      ]
     },
     "metadata": {},
     "output_type": "display_data"
    },
    {
     "data": {
      "text/html": [
       "Find logs at: <code>./wandb/run-20230226_024656-xbsuj872/logs</code>"
      ],
      "text/plain": [
       "<IPython.core.display.HTML object>"
      ]
     },
     "metadata": {},
     "output_type": "display_data"
    },
    {
     "name": "stderr",
     "output_type": "stream",
     "text": [
      "wandb: Agent Starting Run: q0rzcdbu with config:\n",
      "wandb: \td: 32\n",
      "wandb: \tdropout: 0.2\n",
      "wandb: \timage_size: [512, 512]\n",
      "wandb: \titerations: 400\n",
      "wandb: \tlambda_: 0.4\n",
      "wandb: \tlr: 0.0005\n",
      "wandb: \tn_filters: 128\n",
      "wandb: \tnoise: 0\n",
      "wandb: \tprediction_stride: 4\n",
      "wandb: \tseed: 0\n",
      "wandb: \tsubset_size: 0.7\n"
     ]
    },
    {
     "data": {
      "text/html": [
       "Tracking run with wandb version 0.13.10"
      ],
      "text/plain": [
       "<IPython.core.display.HTML object>"
      ]
     },
     "metadata": {},
     "output_type": "display_data"
    },
    {
     "data": {
      "text/html": [
       "Run data is saved locally in <code>/home/ubuntu/thesis_implementation/wandb/run-20230226_024722-q0rzcdbu</code>"
      ],
      "text/plain": [
       "<IPython.core.display.HTML object>"
      ]
     },
     "metadata": {},
     "output_type": "display_data"
    },
    {
     "data": {
      "text/html": [
       "Syncing run <strong><a href='https://wandb.ai/isaacwasserman/Graphically%20Guided%20Neural%20EM%20for%20Unsupervised%20Image%20Segmentation/runs/q0rzcdbu' target=\"_blank\">easy-sweep-45</a></strong> to <a href='https://wandb.ai/isaacwasserman/Graphically%20Guided%20Neural%20EM%20for%20Unsupervised%20Image%20Segmentation' target=\"_blank\">Weights & Biases</a> (<a href='https://wandb.me/run' target=\"_blank\">docs</a>)<br/>Sweep page: <a href='https://wandb.ai/isaacwasserman/Graphically%20Guided%20Neural%20EM%20for%20Unsupervised%20Image%20Segmentation/sweeps/f60ae4yq' target=\"_blank\">https://wandb.ai/isaacwasserman/Graphically%20Guided%20Neural%20EM%20for%20Unsupervised%20Image%20Segmentation/sweeps/f60ae4yq</a>"
      ],
      "text/plain": [
       "<IPython.core.display.HTML object>"
      ]
     },
     "metadata": {},
     "output_type": "display_data"
    },
    {
     "data": {
      "text/html": [
       " View project at <a href='https://wandb.ai/isaacwasserman/Graphically%20Guided%20Neural%20EM%20for%20Unsupervised%20Image%20Segmentation' target=\"_blank\">https://wandb.ai/isaacwasserman/Graphically%20Guided%20Neural%20EM%20for%20Unsupervised%20Image%20Segmentation</a>"
      ],
      "text/plain": [
       "<IPython.core.display.HTML object>"
      ]
     },
     "metadata": {},
     "output_type": "display_data"
    },
    {
     "data": {
      "text/html": [
       " View sweep at <a href='https://wandb.ai/isaacwasserman/Graphically%20Guided%20Neural%20EM%20for%20Unsupervised%20Image%20Segmentation/sweeps/f60ae4yq' target=\"_blank\">https://wandb.ai/isaacwasserman/Graphically%20Guided%20Neural%20EM%20for%20Unsupervised%20Image%20Segmentation/sweeps/f60ae4yq</a>"
      ],
      "text/plain": [
       "<IPython.core.display.HTML object>"
      ]
     },
     "metadata": {},
     "output_type": "display_data"
    },
    {
     "data": {
      "text/html": [
       " View run at <a href='https://wandb.ai/isaacwasserman/Graphically%20Guided%20Neural%20EM%20for%20Unsupervised%20Image%20Segmentation/runs/q0rzcdbu' target=\"_blank\">https://wandb.ai/isaacwasserman/Graphically%20Guided%20Neural%20EM%20for%20Unsupervised%20Image%20Segmentation/runs/q0rzcdbu</a>"
      ],
      "text/plain": [
       "<IPython.core.display.HTML object>"
      ]
     },
     "metadata": {},
     "output_type": "display_data"
    },
    {
     "name": "stderr",
     "output_type": "stream",
     "text": [
      "100%|██████████| 4/4 [00:00<00:00, 102.02it/s]\n",
      "100%|██████████| 4/4 [00:00<00:00, 96.43it/s]\n",
      "100%|██████████| 4/4 [00:00<00:00, 94.71it/s]\n",
      "100%|██████████| 4/4 [00:00<00:00, 95.42it/s]\n",
      "100%|██████████| 4/4 [00:00<00:00, 98.54it/s]\n",
      "100%|██████████| 4/4 [00:00<00:00, 93.44it/s]\n"
     ]
    },
    {
     "data": {
      "text/html": [
       "Waiting for W&B process to finish... <strong style=\"color:green\">(success).</strong>"
      ],
      "text/plain": [
       "<IPython.core.display.HTML object>"
      ]
     },
     "metadata": {},
     "output_type": "display_data"
    },
    {
     "data": {
      "text/html": [
       "<style>\n",
       "    table.wandb td:nth-child(1) { padding: 0 10px; text-align: left ; width: auto;} td:nth-child(2) {text-align: left ; width: 100%}\n",
       "    .wandb-row { display: flex; flex-direction: row; flex-wrap: wrap; justify-content: flex-start; width: 100% }\n",
       "    .wandb-col { display: flex; flex-direction: column; flex-basis: 100%; flex: 1; padding: 10px; }\n",
       "    </style>\n",
       "<div class=\"wandb-row\"><div class=\"wandb-col\"><h3>Run history:</h3><br/><table class=\"wandb\"><tr><td>Avg. F1 Score</td><td>▁</td></tr></table><br/></div><div class=\"wandb-col\"><h3>Run summary:</h3><br/><table class=\"wandb\"><tr><td>Avg. F1 Score</td><td>0.58933</td></tr></table><br/></div></div>"
      ],
      "text/plain": [
       "<IPython.core.display.HTML object>"
      ]
     },
     "metadata": {},
     "output_type": "display_data"
    },
    {
     "data": {
      "text/html": [
       " View run <strong style=\"color:#cdcd00\">easy-sweep-45</strong> at: <a href='https://wandb.ai/isaacwasserman/Graphically%20Guided%20Neural%20EM%20for%20Unsupervised%20Image%20Segmentation/runs/q0rzcdbu' target=\"_blank\">https://wandb.ai/isaacwasserman/Graphically%20Guided%20Neural%20EM%20for%20Unsupervised%20Image%20Segmentation/runs/q0rzcdbu</a><br/>Synced 5 W&B file(s), 0 media file(s), 0 artifact file(s) and 0 other file(s)"
      ],
      "text/plain": [
       "<IPython.core.display.HTML object>"
      ]
     },
     "metadata": {},
     "output_type": "display_data"
    },
    {
     "data": {
      "text/html": [
       "Find logs at: <code>./wandb/run-20230226_024722-q0rzcdbu/logs</code>"
      ],
      "text/plain": [
       "<IPython.core.display.HTML object>"
      ]
     },
     "metadata": {},
     "output_type": "display_data"
    },
    {
     "name": "stderr",
     "output_type": "stream",
     "text": [
      "wandb: Agent Starting Run: bez3519m with config:\n",
      "wandb: \td: 8\n",
      "wandb: \tdropout: 0.5\n",
      "wandb: \timage_size: [512, 512]\n",
      "wandb: \titerations: 500\n",
      "wandb: \tlambda_: 0.1\n",
      "wandb: \tlr: 0.01\n",
      "wandb: \tn_filters: 32\n",
      "wandb: \tnoise: 0\n",
      "wandb: \tprediction_stride: 4\n",
      "wandb: \tseed: 0\n",
      "wandb: \tsubset_size: 0.7\n"
     ]
    },
    {
     "data": {
      "text/html": [
       "Tracking run with wandb version 0.13.10"
      ],
      "text/plain": [
       "<IPython.core.display.HTML object>"
      ]
     },
     "metadata": {},
     "output_type": "display_data"
    },
    {
     "data": {
      "text/html": [
       "Run data is saved locally in <code>/home/ubuntu/thesis_implementation/wandb/run-20230226_024854-bez3519m</code>"
      ],
      "text/plain": [
       "<IPython.core.display.HTML object>"
      ]
     },
     "metadata": {},
     "output_type": "display_data"
    },
    {
     "data": {
      "text/html": [
       "Syncing run <strong><a href='https://wandb.ai/isaacwasserman/Graphically%20Guided%20Neural%20EM%20for%20Unsupervised%20Image%20Segmentation/runs/bez3519m' target=\"_blank\">vibrant-sweep-46</a></strong> to <a href='https://wandb.ai/isaacwasserman/Graphically%20Guided%20Neural%20EM%20for%20Unsupervised%20Image%20Segmentation' target=\"_blank\">Weights & Biases</a> (<a href='https://wandb.me/run' target=\"_blank\">docs</a>)<br/>Sweep page: <a href='https://wandb.ai/isaacwasserman/Graphically%20Guided%20Neural%20EM%20for%20Unsupervised%20Image%20Segmentation/sweeps/f60ae4yq' target=\"_blank\">https://wandb.ai/isaacwasserman/Graphically%20Guided%20Neural%20EM%20for%20Unsupervised%20Image%20Segmentation/sweeps/f60ae4yq</a>"
      ],
      "text/plain": [
       "<IPython.core.display.HTML object>"
      ]
     },
     "metadata": {},
     "output_type": "display_data"
    },
    {
     "data": {
      "text/html": [
       " View project at <a href='https://wandb.ai/isaacwasserman/Graphically%20Guided%20Neural%20EM%20for%20Unsupervised%20Image%20Segmentation' target=\"_blank\">https://wandb.ai/isaacwasserman/Graphically%20Guided%20Neural%20EM%20for%20Unsupervised%20Image%20Segmentation</a>"
      ],
      "text/plain": [
       "<IPython.core.display.HTML object>"
      ]
     },
     "metadata": {},
     "output_type": "display_data"
    },
    {
     "data": {
      "text/html": [
       " View sweep at <a href='https://wandb.ai/isaacwasserman/Graphically%20Guided%20Neural%20EM%20for%20Unsupervised%20Image%20Segmentation/sweeps/f60ae4yq' target=\"_blank\">https://wandb.ai/isaacwasserman/Graphically%20Guided%20Neural%20EM%20for%20Unsupervised%20Image%20Segmentation/sweeps/f60ae4yq</a>"
      ],
      "text/plain": [
       "<IPython.core.display.HTML object>"
      ]
     },
     "metadata": {},
     "output_type": "display_data"
    },
    {
     "data": {
      "text/html": [
       " View run at <a href='https://wandb.ai/isaacwasserman/Graphically%20Guided%20Neural%20EM%20for%20Unsupervised%20Image%20Segmentation/runs/bez3519m' target=\"_blank\">https://wandb.ai/isaacwasserman/Graphically%20Guided%20Neural%20EM%20for%20Unsupervised%20Image%20Segmentation/runs/bez3519m</a>"
      ],
      "text/plain": [
       "<IPython.core.display.HTML object>"
      ]
     },
     "metadata": {},
     "output_type": "display_data"
    },
    {
     "name": "stderr",
     "output_type": "stream",
     "text": [
      "100%|██████████| 4/4 [00:00<00:00, 148.70it/s]\n",
      "100%|██████████| 4/4 [00:00<00:00, 161.16it/s]\n",
      "100%|██████████| 4/4 [00:00<00:00, 150.98it/s]\n",
      "100%|██████████| 4/4 [00:00<00:00, 150.46it/s]\n",
      "100%|██████████| 4/4 [00:00<00:00, 30.98it/s]\n",
      "100%|██████████| 4/4 [00:00<00:00, 160.44it/s]\n"
     ]
    },
    {
     "data": {
      "text/html": [
       "Waiting for W&B process to finish... <strong style=\"color:green\">(success).</strong>"
      ],
      "text/plain": [
       "<IPython.core.display.HTML object>"
      ]
     },
     "metadata": {},
     "output_type": "display_data"
    },
    {
     "name": "stderr",
     "output_type": "stream",
     "text": [
      "wandb: Ctrl + C detected. Stopping sweep.\n",
      "wandb: ERROR Problem finishing run\n",
      "Traceback (most recent call last):\n",
      "  File \"/home/ubuntu/.local/lib/python3.8/site-packages/wandb/sdk/wandb_run.py\", line 2092, in _atexit_cleanup\n",
      "    self._on_finish()\n",
      "  File \"/home/ubuntu/.local/lib/python3.8/site-packages/wandb/sdk/wandb_run.py\", line 2326, in _on_finish\n",
      "    _ = exit_handle.wait(timeout=-1, on_progress=self._on_progress_exit)\n",
      "  File \"/home/ubuntu/.local/lib/python3.8/site-packages/wandb/sdk/lib/mailbox.py\", line 273, in wait\n",
      "    found, abandoned = self._slot._get_and_clear(timeout=wait_timeout)\n",
      "  File \"/home/ubuntu/.local/lib/python3.8/site-packages/wandb/sdk/lib/mailbox.py\", line 120, in _get_and_clear\n",
      "    if self._wait(timeout=timeout):\n",
      "  File \"/home/ubuntu/.local/lib/python3.8/site-packages/wandb/sdk/lib/mailbox.py\", line 116, in _wait\n",
      "    return self._event.wait(timeout=timeout)\n",
      "  File \"/usr/lib/python3.8/threading.py\", line 558, in wait\n",
      "    signaled = self._cond.wait(timeout)\n",
      "  File \"/usr/lib/python3.8/threading.py\", line 306, in wait\n",
      "    gotit = waiter.acquire(True, timeout)\n",
      "Exception\n"
     ]
    }
   ],
   "source": [
    "# set environment variable\n",
    "os.environ[\"WANDB_NOTEBOOK_NAME\"] = \"experiment.ipynb\"\n",
    "sweep_id = wandb.sweep(sweep_config, project=\"Graphically Guided Neural EM for Unsupervised Image Segmentation\")\n",
    "wandb.agent(sweep_id, run_experiment, count=100)"
   ]
  },
  {
   "cell_type": "code",
   "execution_count": null,
   "metadata": {},
   "outputs": [],
   "source": []
  }
 ],
 "metadata": {
  "kernelspec": {
   "display_name": "Python 3",
   "language": "python",
   "name": "python3"
  },
  "language_info": {
   "codemirror_mode": {
    "name": "ipython",
    "version": 3
   },
   "file_extension": ".py",
   "mimetype": "text/x-python",
   "name": "python",
   "nbconvert_exporter": "python",
   "pygments_lexer": "ipython3",
   "version": "3.8.10"
  },
  "vscode": {
   "interpreter": {
    "hash": "394d24a1087ab98538c556b121a84e46182f365585e86aa7ee7d846ee7e5fae4"
   }
  }
 },
 "nbformat": 4,
 "nbformat_minor": 4
}
