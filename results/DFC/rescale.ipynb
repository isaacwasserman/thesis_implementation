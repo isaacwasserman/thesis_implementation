{
 "cells": [
  {
   "cell_type": "code",
   "execution_count": 6,
   "metadata": {},
   "outputs": [],
   "source": [
    "from glob import glob\n",
    "import numpy as np\n",
    "from PIL import Image\n",
    "import matplotlib.pyplot as plt"
   ]
  },
  {
   "cell_type": "code",
   "execution_count": 4,
   "metadata": {},
   "outputs": [],
   "source": [
    "cloud_paths = list(glob('clouds/*.png'))\n",
    "texture_paths = list(glob('texture/*.png'))\n",
    "noise_paths = list(glob('noise/0.5/*.png')) + list(glob('noise/1.0/*.png')) + list(glob('noise/2.0/*.png')) + list(glob('noise/4.0/*.png')) + list(glob('noise/8.0/*.png'))\n",
    "all_paths = cloud_paths + texture_paths + noise_paths"
   ]
  },
  {
   "cell_type": "code",
   "execution_count": 16,
   "metadata": {},
   "outputs": [
    {
     "name": "stderr",
     "output_type": "stream",
     "text": [
      "/var/folders/zc/s2x1jcqx7gd7y6myf0gmt49c0000gn/T/ipykernel_68664/3992454045.py:4: RuntimeWarning: divide by zero encountered in floor_divide\n",
      "  img //= np.max(img)\n"
     ]
    }
   ],
   "source": [
    "for path in all_paths:\n",
    "    img = np.array(Image.open(path))\n",
    "    img -= np.min(img)\n",
    "    img //= np.max(img)\n",
    "    img *= 255\n",
    "    img = Image.fromarray(img)\n",
    "    img.save(\"rescaled/\" + path)"
   ]
  },
  {
   "cell_type": "code",
   "execution_count": null,
   "metadata": {},
   "outputs": [],
   "source": []
  }
 ],
 "metadata": {
  "kernelspec": {
   "display_name": "pytorch",
   "language": "python",
   "name": "python3"
  },
  "language_info": {
   "codemirror_mode": {
    "name": "ipython",
    "version": 3
   },
   "file_extension": ".py",
   "mimetype": "text/x-python",
   "name": "python",
   "nbconvert_exporter": "python",
   "pygments_lexer": "ipython3",
   "version": "3.10.9"
  },
  "orig_nbformat": 4
 },
 "nbformat": 4,
 "nbformat_minor": 2
}
